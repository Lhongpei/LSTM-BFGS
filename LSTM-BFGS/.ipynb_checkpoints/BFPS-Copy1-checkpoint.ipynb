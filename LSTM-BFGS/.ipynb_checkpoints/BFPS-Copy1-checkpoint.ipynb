{
 "cells": [
  {
   "cell_type": "code",
   "execution_count": 1,
   "id": "74910e75-5e32-4c99-832a-5087f95878be",
   "metadata": {
    "tags": []
   },
   "outputs": [],
   "source": [
    "import torch\n",
    "import torchmin.bfgs as bfs\n",
    "import matplotlib.pyplot as plt\n",
    "import numpy as np\n",
    "\n",
    "import torchmin.benchmarks as bm"
   ]
  },
  {
   "cell_type": "code",
   "execution_count": 2,
   "id": "d9f683ef-5132-4628-adee-4d30b64c1a9a",
   "metadata": {
    "tags": []
   },
   "outputs": [],
   "source": [
    "batchsize=128\n",
    "DIM=10"
   ]
  },
  {
   "cell_type": "code",
   "execution_count": 3,
   "id": "44242f42-0628-4491-aff1-82800050ccdb",
   "metadata": {
    "tags": []
   },
   "outputs": [
    {
     "data": {
      "text/plain": [
       "True"
      ]
     },
     "execution_count": 3,
     "metadata": {},
     "output_type": "execute_result"
    }
   ],
   "source": [
    "USE_CUDA=False\n",
    "if torch.cuda.is_available():\n",
    "    USE_CUDA=True\n",
    "    device = torch.device(\"cuda\" if torch.cuda.is_available() else \"cpu\")\n",
    "USE_CUDA"
   ]
  },
  {
   "cell_type": "markdown",
   "id": "5cc68c04-8a12-4a85-842e-927fc462ac69",
   "metadata": {},
   "source": [
    "## Define objective function\n",
    "Considering linear search is useful, we define 2 kinds of loss funtion.<br>\n",
    "- loss for each samples in this batch\n",
    "- mean loss for this batch"
   ]
  },
  {
   "cell_type": "code",
   "execution_count": 37,
   "id": "9e756632-08ad-4018-8859-d334367f1107",
   "metadata": {
    "tags": []
   },
   "outputs": [
    {
     "data": {
      "text/plain": [
       "torch.Size([128])"
      ]
     },
     "execution_count": 37,
     "metadata": {},
     "output_type": "execute_result"
    }
   ],
   "source": [
    "# 定义一个二次函数作为例子\n",
    "def f(W,Y,x):\n",
    "    \"\"\"quadratic function : f(\\theta) = \\|W\\theta - y\\|_2^2\"\"\"\n",
    "    if USE_CUDA:\n",
    "        W = W.cuda()\n",
    "        Y = Y.cuda()\n",
    "        x = x.cuda()\n",
    "\n",
    "    return ((torch.matmul(W,x.unsqueeze(-1)).squeeze()-Y)**2).sum(dim=1)\n",
    "\n",
    "def loss_f(W,Y,x):\n",
    "    \"\"\"quadratic function : f(\\theta) = \\|W\\theta - y\\|_2^2\"\"\"\n",
    "    if USE_CUDA:\n",
    "        W = W.cuda()\n",
    "        Y = Y.cuda()\n",
    "        x = x.cuda()\n",
    "\n",
    "    return ((torch.matmul(W,x.unsqueeze(-1)).squeeze()-Y)**2).sum(dim=1).mean(dim=0)\n",
    "\n",
    "def logistic(A,b,x,lamb,n):\n",
    "    sig=torch.sigmoid(torch.matmul(A,x.unsqueeze(-1)).squeeze())\n",
    "    return (-b*torch.log(sig)+(1-b)*torch.log(1-sig)).mean(dim=1)+lamb/n*torch.norm(x,dim=-1)\n"
   ]
  },
  {
   "cell_type": "code",
   "execution_count": 5,
   "id": "315d102c-d5ea-4022-a31a-6a018ceaf8a2",
   "metadata": {},
   "outputs": [],
   "source": [
    "class loss_function:\n",
    "    def __init__(self,batchsize,DIM,device,parameter=None,problem='MS'):\n",
    "        if not parameter:\n",
    "            self.W = torch.randn((batchsize, DIM, DIM), device=device) # represents IID\n",
    "            self.Y = torch.randn((batchsize,DIM),device=device)\n",
    "            \n",
    "    def value(x):\n",
    "        return ((torch.matmul(W,x.unsqueeze(-1)).squeeze()-Y)**2).sum(dim=1)\n",
    "    \n",
    "    def rand_reset():\n",
    "        self.W = torch.randn((batchsize, DIM, DIM), device=device)\n",
    "        self.Y = torch.randn((batchsize,DIM),device=device)\n"
   ]
  },
  {
   "cell_type": "markdown",
   "id": "87b9c859-f39e-4076-9f2e-a4aa8d4f7dfc",
   "metadata": {},
   "source": [
    "## BFGS update iteration"
   ]
  },
  {
   "cell_type": "code",
   "execution_count": 6,
   "id": "4808477a-745e-49aa-bcef-cc05230053d2",
   "metadata": {},
   "outputs": [],
   "source": [
    "class BFGS:\n",
    "    def __init__(self,batchsize,DIM,device):\n",
    "        self.I = torch.eye(DIM, device=x.device, dtype=x.dtype,requires_grad=True).unsqueeze(0).expand(batchsize, -1, -1)\n",
    "        self.H = self.I.clone()\n",
    "    def H_BFDS_update(self,s,y):\n",
    "        st=s.unsqueeze(1)\n",
    "        s=s.unsqueeze(2)\n",
    "        yt=y.unsqueeze(1)\n",
    "        y=y.unsqueeze(2)\n",
    "        sy=torch.matmul(s,yt)\n",
    "        ss=torch.matmul(s,st)\n",
    "        yst=torch.matmul(y,st)\n",
    "        yts=torch.matmul(yt,s)\n",
    "        #print(yts.min())\n",
    "        yHy=torch.matmul(torch.matmul(yt,self.H),y)\n",
    "        self.H=self.H-(torch.matmul(sy,self.H)+torch.matmul(self.H,yst))/yts+(yHy/yts+1)*ss/yts\n",
    "        #print(self.H)"
   ]
  },
  {
   "cell_type": "markdown",
   "id": "f2a99a22-d7a4-4abe-884b-1fd847b6cabe",
   "metadata": {},
   "source": [
    "## Linear search (Strong Wolfe)"
   ]
  },
  {
   "cell_type": "code",
   "execution_count": 7,
   "id": "f279cc3b-cc05-4c15-ae2d-f73d0f1ea838",
   "metadata": {
    "tags": []
   },
   "outputs": [],
   "source": [
    "import torch\n",
    "\n",
    "def strong_wolfe(W,Y,batchsize,f, x, step_dir, loss, grad, device, c1=1e-4, c2=0.9, max_iter=10):\n",
    "    \"\"\"\n",
    "    Strong Wolfe Line Search\n",
    "    Args:\n",
    "    - f: Function to be optimized\n",
    "    - x: Current point\n",
    "    - step_dir: Search direction\n",
    "    - loss: Loss at current point\n",
    "    - grad: Gradient at current point\n",
    "    - c1: Armijo condition parameter\n",
    "    - c2: Curvature condition parameter\n",
    "    - max_iter: Maximum number of iterations\n",
    "\n",
    "    Returns:\n",
    "    - step_size: Calculated step size\n",
    "    \"\"\"\n",
    "\n",
    "    # Initialize step size\n",
    "    step_size = torch.ones((128,1),device=device)\n",
    "    grad=grad.unsqueeze(1)\n",
    "    #print(step_dir.shape)\n",
    "    #step_dir=step_dir.unsqueeze(2)\n",
    "    for i in range(max_iter):\n",
    "        new_loss = f(W,Y,x + step_size * step_dir.squeeze())\n",
    "        \n",
    "        armijo_condition = new_loss > loss + c1 * step_size.squeeze() * torch.matmul(grad, step_dir).squeeze()\n",
    "        #print(armijo_condition.shape)\n",
    "        new_grad = torch.autograd.grad(new_loss.mean(), x)[0]\n",
    "        curvature_condition = torch.matmul(new_grad.unsqueeze(1), step_dir).squeeze() < c2 * torch.matmul(grad, step_dir).squeeze()\n",
    "\n",
    "        if torch.sum(armijo_condition)==0 and torch.sum(curvature_condition)==0:\n",
    "            return step_size\n",
    "        elif torch.sum(armijo_condition)>0:\n",
    "            step_size[armijo_condition] *= 0.5  # Reduce step size by half\n",
    "        elif torch.sum(curvature_condition)>0:\n",
    "            step_size[curvature_condition] *= 2.0  # Double step size\n",
    "\n",
    "    return step_size  # Return step size after maximum iterations reached\n",
    "\n",
    "# Usage Example:\n",
    "# Define your function f, starting point x, loss, gradient, and search direction\n",
    "# Then call strong_wolfe function to get the step size\n",
    "# step_size = strong_wolfe(f, x, step_dir, loss, grad)\n"
   ]
  },
  {
   "cell_type": "markdown",
   "id": "e08bea06-7079-4716-b5ae-6e5cd077f22e",
   "metadata": {},
   "source": [
    "## BFGS"
   ]
  },
  {
   "cell_type": "code",
   "execution_count": 8,
   "id": "d65e496e-fb47-4105-882a-8767f08b2f92",
   "metadata": {
    "tags": []
   },
   "outputs": [
    {
     "name": "stdout",
     "output_type": "stream",
     "text": [
      "42\n"
     ]
    },
    {
     "data": {
      "text/plain": [
       "[<matplotlib.lines.Line2D at 0x20722fa9460>]"
      ]
     },
     "execution_count": 8,
     "metadata": {},
     "output_type": "execute_result"
    },
    {
     "data": {
      "image/png": "[encoded data removed]",
      "text/plain": [
       "<Figure size 640x480 with 1 Axes>"
      ]
     },
     "metadata": {},
     "output_type": "display_data"
    }
   ],
   "source": [
    "W = torch.randn((batchsize, DIM, DIM), device=device) # represents IID\n",
    "Y = torch.randn((batchsize,DIM),device=device)\n",
    "x = torch.zeros((batchsize,DIM),device=device,requires_grad=True)\n",
    "\n",
    "steps=200\n",
    "B=BFGS(batchsize,DIM,device)\n",
    "mem_loss=[]\n",
    "loss=f(W,Y,x)\n",
    "acc=1e-6\n",
    "mem_loss.append(loss.mean())\n",
    "g=torch.autograd.grad(loss.mean(),x)[0]\n",
    "d=-torch.matmul(B.H,g.unsqueeze(2))\n",
    "k=0\n",
    "#print(loss)\n",
    "for i in range(steps):\n",
    "    g_pre=g\n",
    "    alpha=strong_wolfe(W,Y,batchsize,f, x, d, loss, g, c1=1e-4, c2=0.9, max_iter=10,device=device)\n",
    "    update=alpha*(d.squeeze())\n",
    "    x=x+update\n",
    "    loss=f(W,Y,x)\n",
    "    mem_loss.append(loss.mean())\n",
    "    g=torch.autograd.grad(loss.mean(),x)[0]\n",
    "    #print(torch.norm(g,dim=1).mean())\n",
    "    if(sum(torch.norm(g,dim=1)<acc)>0):\n",
    "        break\n",
    "    d=-torch.matmul(B.H,g.unsqueeze(2))\n",
    "    #print(B.H)\n",
    "    B.H_BFDS_update(update,g-g_pre)\n",
    "    k+=1\n",
    "    \n",
    "print(k)    \n",
    "plt.plot([i.cpu().detach().numpy() for i in mem_loss])  "
   ]
  },
  {
   "cell_type": "markdown",
   "id": "f6734106-e57e-4470-925a-94580b3b5b17",
   "metadata": {},
   "source": [
    "## LSTM define"
   ]
  },
  {
   "cell_type": "code",
   "execution_count": 9,
   "id": "08168494-5d81-4a99-a55a-8a707b0b3dd5",
   "metadata": {},
   "outputs": [],
   "source": [
    "class LSTM_motify(torch.nn.Module):\n",
    "    \"\"\"LSTM修正器\n",
    "       LSTM optimizer\"\"\"\n",
    "    \n",
    "    def __init__(self,input_size,output_size, hidden_size, num_stacks, batchsize,p  = 10 ,preprocess = True, output_scale = 1):\n",
    "        super(LSTM_motify,self).__init__()\n",
    "        self.preprocess_flag = preprocess\n",
    "        self.input_flag = 2\n",
    "        if preprocess != True:\n",
    "             self.input_flag = 1\n",
    "        self.p = p\n",
    "        self.output_scale = output_scale \n",
    "        self.lstm = torch.nn.LSTM(input_size*self.input_flag, hidden_size, num_stacks)\n",
    "        self.Linear = torch.nn.Linear(hidden_size,output_size) #1-> output_size\n",
    "        print(self.preprocess_flag)\n",
    "        \n",
    "    def LogAndSign_Preprocess_Gradient(self,gradients):\n",
    "        \"\"\"\n",
    "        Args:\n",
    "          gradients: `Tensor` of gradients with shape `[d_1, ..., d_n]`.\n",
    "          p       : `p` > 0 is a parameter controlling how small gradients are disregarded \n",
    "        Returns:\n",
    "          `Tensor` with shape `[d_1, ..., d_n-1, 2 * d_n]`. The first `d_n` elements\n",
    "          along the nth dimension correspond to the `log output` \\in [-1,1] and the remaining\n",
    "          `d_n` elements to the `sign output`.\n",
    "        \"\"\"\n",
    "        p  = self.p\n",
    "        log = torch.log(torch.abs(gradients))\n",
    "        clamp_log = torch.clamp(log/p , min = -1.0,max = 1.0)\n",
    "        clamp_sign = torch.clamp(torch.exp(torch.tensor(p))*gradients, min = -1.0, max =1.0)\n",
    "        return torch.cat((clamp_log,clamp_sign),dim = -1) #在gradients的最后一维input_dims拼接\n",
    "    \n",
    "    def Output_motification_And_motify_LSTM_Hidden_State(self, input_gradients, prev_state):\n",
    "        \"\"\"LSTM的核心操作  core operation\n",
    "        coordinate-wise LSTM \"\"\"\n",
    "        if prev_state is None: #init_state\n",
    "            prev_state = (torch.zeros(Layers,batchsize,Hidden_nums),\n",
    "                            torch.zeros(Layers,batchsize,Hidden_nums))\n",
    "            if USE_CUDA :\n",
    "                 prev_state = (torch.zeros(Layers,batchsize,Hidden_nums).cuda(),\n",
    "                            torch.zeros(Layers,batchsize,Hidden_nums).cuda())\n",
    "         \t\t\t\n",
    "        motify , next_state = self.lstm(input_gradients, prev_state)\n",
    "        motify = self.Linear(motify) * self.output_scale # transform the LSTM output to the target output dim \n",
    "        return motify, next_state\n",
    "    \n",
    "    def forward(self,input_data, prev_state):\n",
    "        if USE_CUDA:\n",
    "            input_data = input_data.cuda()\n",
    "        #pytorch requires the `torch.nn.lstm`'s input as（1，batchsize,input_dim）\n",
    "        # original gradient.size()=torch.size[5] ->[1,1,5]\n",
    "        # gradients = move_gradients.unsqueeze(0)\n",
    "        # moves = move.unsqueeze(0)\n",
    "        # combined = torch.cat((moves, gradients), dim=0)\n",
    "        if self.preprocess_flag == True:\n",
    "            #print(input_data.shape)\n",
    "            input_data = self.LogAndSign_Preprocess_Gradient(input_data)\n",
    "        motify , next_state = self.Output_motification_And_motify_LSTM_Hidden_State(input_data , prev_state)\n",
    "        # Squeeze to make it a single batch again.[1,1,5]->[5]\n",
    "        motify = motify.squeeze().squeeze()\n",
    "       \n",
    "        return motify , next_state"
   ]
  },
  {
   "cell_type": "code",
   "execution_count": 10,
   "id": "fa1e2027-13cb-40e0-ba2b-46ba00998085",
   "metadata": {
    "tags": []
   },
   "outputs": [
    {
     "name": "stdout",
     "output_type": "stream",
     "text": [
      "True\n",
      "LSTM_motify(\n",
      "  (lstm): LSTM(40, 20, num_layers=2)\n",
      "  (Linear): Linear(in_features=20, out_features=100, bias=True)\n",
      ")\n"
     ]
    }
   ],
   "source": [
    "Layers = 2\n",
    "Hidden_nums = 20\n",
    "Input_DIM = DIM*2\n",
    "Output_DIM = DIM**2\n",
    "output_scale_value=1\n",
    "\n",
    "#######   构造一个优化器  #######\n",
    "#######  construct a optimizer  #######\n",
    "LSTM_motify = LSTM_motify(Input_DIM, Output_DIM, Hidden_nums ,Layers , batchsize=batchsize,\\\n",
    "                preprocess=True,output_scale=output_scale_value)\n",
    "print(LSTM_motify)\n",
    "\n",
    "if USE_CUDA:\n",
    "    LSTM_optimizer = LSTM_motify.cuda()"
   ]
  },
  {
   "cell_type": "markdown",
   "id": "fe5cfb62-73f2-445d-a237-6bc2a94a59af",
   "metadata": {},
   "source": [
    "## LSTM pre-train vs BFGS"
   ]
  },
  {
   "cell_type": "code",
   "execution_count": 11,
   "id": "9dcb046b-9cc6-44b3-a011-08bf62d03c5a",
   "metadata": {
    "tags": []
   },
   "outputs": [
    {
     "name": "stdout",
     "output_type": "stream",
     "text": [
      "40\n",
      "40\n"
     ]
    },
    {
     "data": {
      "image/png": "[encoded data removed]",
      "text/plain": [
       "<Figure size 640x480 with 1 Axes>"
      ]
     },
     "metadata": {},
     "output_type": "display_data"
    }
   ],
   "source": [
    "W = torch.randn((batchsize, DIM, DIM), device=device) # represents IID\n",
    "Y = torch.randn((batchsize,DIM),device=device)\n",
    "x = torch.zeros((batchsize,DIM),device=device,requires_grad=True)\n",
    "steps=40\n",
    "state=None\n",
    "H=BFGS(batchsize,DIM,device).I\n",
    "mem_loss=[]\n",
    "loss=f(W,Y,x)\n",
    "acc=1e-6\n",
    "mem_loss.append(loss.mean())\n",
    "g=torch.autograd.grad(loss.mean(),x)[0]\n",
    "d=-torch.matmul(B.H,g.unsqueeze(2))\n",
    "k=0\n",
    "#print(loss)\n",
    "for i in range(steps):\n",
    "    g_pre=g\n",
    "    alpha=strong_wolfe(W,Y,batchsize,f, x, d, loss, g, c1=1e-4, c2=0.9, max_iter=10,device=device)\n",
    "    update=alpha*(d.squeeze())\n",
    "    x=x+update\n",
    "    loss=f(W,Y,x)\n",
    "    mem_loss.append(loss.mean())\n",
    "    g=torch.autograd.grad(loss.mean(),x)[0]\n",
    "    #print(torch.norm(g,dim=1).mean())\n",
    "    if(sum(torch.norm(g,dim=1)<acc)>0):\n",
    "        break\n",
    "    d=-torch.matmul(H,g.unsqueeze(2))\n",
    "    #print(B.H)\n",
    "    input_vec=torch.cat((g,update),dim=1).unsqueeze(0)\n",
    "    motify,state=LSTM_motify(input_vec,state)\n",
    "    delta_H=motify.reshape((batchsize, DIM, DIM))\n",
    "    H = H.clone().detach() + 1/2*(delta_H+delta_H.transpose(-2,-1))\n",
    "    k+=1\n",
    "    \n",
    "print(k)    \n",
    "plt.plot([i.cpu().detach().numpy() for i in mem_loss],label='LSTM_before_train')  \n",
    "x = torch.zeros((batchsize,DIM),device=device,requires_grad=True)\n",
    "steps=40\n",
    "B=BFGS(batchsize,DIM,device)\n",
    "mem_loss=[]\n",
    "loss=f(W,Y,x)\n",
    "acc=1e-6\n",
    "mem_loss.append(loss.mean())\n",
    "g=torch.autograd.grad(loss.mean(),x)[0]\n",
    "d=-torch.matmul(B.H,g.unsqueeze(2))\n",
    "k=0\n",
    "#print(loss)\n",
    "for i in range(steps):\n",
    "    g_pre=g\n",
    "    alpha=strong_wolfe(W,Y,batchsize,f, x, d, loss, g, c1=1e-4, c2=0.9, max_iter=10,device=device)\n",
    "    update=alpha*(d.squeeze())\n",
    "    x=x+update\n",
    "    loss=f(W,Y,x)\n",
    "    mem_loss.append(loss.mean())\n",
    "    g=torch.autograd.grad(loss.mean(),x)[0]\n",
    "    #print(torch.norm(g,dim=1).mean())\n",
    "    if(sum(torch.norm(g,dim=1)<acc)>0):\n",
    "        break\n",
    "    d=-torch.matmul(B.H,g.unsqueeze(2))\n",
    "    #print(B.H)\n",
    "    B.H_BFDS_update(update,g-g_pre)\n",
    "    k+=1\n",
    "    \n",
    "print(k)    \n",
    "plt.plot([i.cpu().detach().numpy() for i in mem_loss],label='BFGS')  \n",
    "plt.legend()\n",
    "\n",
    "plt.show()"
   ]
  },
  {
   "cell_type": "markdown",
   "id": "b356cefe-a96f-4ac1-89ca-5ed169a6a9d0",
   "metadata": {},
   "source": [
    "## Train LSTM"
   ]
  },
  {
   "cell_type": "code",
   "execution_count": 12,
   "id": "0693e026-49fe-4ef8-94cf-4a86fdc42fcc",
   "metadata": {
    "tags": []
   },
   "outputs": [],
   "source": [
    "def RUN(batchsize,DIM,steps=40):    \n",
    "    \n",
    "    W = torch.randn((batchsize, DIM, DIM), device=device) # represents IID\n",
    "    Y = torch.randn((batchsize,DIM),device=device)\n",
    "    x = torch.zeros((batchsize,DIM),device=device,requires_grad=True)\n",
    "\n",
    "    state=None#初始化LSTM hidden state\n",
    "    H=torch.eye(DIM, device=x.device, dtype=x.dtype,requires_grad=True).unsqueeze(0).expand(batchsize, -1, -1)\n",
    "    mem_loss=[]#初始化loss的list\n",
    "    loss=f(W,Y,x)#每个case的loss\n",
    "    global_loss_graph = 0#记录每个迭代的总loss 用于后向传播\n",
    "    lossmean=loss.mean()#总loss的平均值\n",
    "\n",
    "    global_loss_graph+=lossmean\n",
    "    mem_loss.append(lossmean.clone().detach())\n",
    "\n",
    "    lossmean.backward(retain_graph=True)\n",
    "    g = x.grad.clone().detach()#g detach掉\n",
    "    d=-torch.matmul(H,g.unsqueeze(2))\n",
    "    k=0\n",
    "    #print(loss)\n",
    "    for i in range(steps):\n",
    "        g_pre=g.clone()# 保存g作为上一次的g，此时g_pre不在计算图中\n",
    "        alpha=strong_wolfe(W,Y,batchsize,f, x, d, loss, g, c1=1e-4, c2=0.9, max_iter=10,device=device)\n",
    "        alpha.detach_()\n",
    "        update=alpha*d.squeeze()\n",
    "        #update=d.squeeze()\n",
    "        x=x.clone().detach()+update\n",
    "        x.retain_grad()\n",
    "        loss=f(W,Y,x)\n",
    "        lossmean=loss.mean()\n",
    "        global_loss_graph+=lossmean\n",
    "        mem_loss.append(lossmean.clone().detach())\n",
    "        #print(mem_loss[0])\n",
    "        lossmean.backward(retain_graph=True)\n",
    "        #print([i.grad for i in LSTM_motify.parameters()])\n",
    "        g = x.grad.clone().detach()\n",
    "        #print(torch.norm(g,dim=1).mean())\n",
    "        if(sum(torch.norm(g,dim=1)<acc)>0):\n",
    "            break\n",
    "        #print(B.H)\n",
    "        input_vec=torch.cat((g,update),dim=1).unsqueeze(0)\n",
    "        #print(input_vec.is_leaf)\n",
    "        motify,state=LSTM_motify(input_vec,state)\n",
    "        H = H.clone() + motify.reshape((batchsize, DIM, DIM))\n",
    "        H.retain_grad()\n",
    "        d=-torch.matmul(H,g.unsqueeze(2))\n",
    "        k+=1\n",
    "    plt.plot([i.cpu().detach().numpy() for i in mem_loss],label='LSTM_before_train')\n",
    "    #\n",
    "\n",
    "    return mem_loss,global_loss_graph"
   ]
  },
  {
   "cell_type": "code",
   "execution_count": 13,
   "id": "3ac745a9-94ff-4c5b-8954-c3f46da74e80",
   "metadata": {
    "tags": []
   },
   "outputs": [],
   "source": [
    "def global_training(Global_Train_Steps,motifier):\n",
    "    global_loss_list = []    \n",
    "    adam_global_optimizer = torch.optim.Adam(motifier.parameters(),lr = 0.0001)\n",
    "    _,global_loss_1 = RUN(batchsize,DIM,steps=40)\n",
    "    print(global_loss_1)\n",
    "    for i in range(Global_Train_Steps):    \n",
    "        _,global_loss = RUN(batchsize,DIM,steps=40)      \n",
    "        adam_global_optimizer.zero_grad()\n",
    "        print(i,global_loss)\n",
    "        global_loss.backward() #每次都是优化这个固定的图，不可以释放动态图的缓存\n",
    "        #print('xxx',[z.shape for z in motifier.parameters()  ])\n",
    "        adam_global_optimizer.step()\n",
    "        #print('xxx',[(z.grad,z.requires_grad) for z in motifier.parameters()  ])\n",
    "        global_loss_list.append(global_loss.detach_())\n",
    "        \n",
    "    print(global_loss)\n",
    "    return global_loss_list\n"
   ]
  },
  {
   "cell_type": "code",
   "execution_count": 14,
   "id": "cc4f453f-a2a3-4715-9cc7-77b834b211cf",
   "metadata": {
    "tags": []
   },
   "outputs": [
    {
     "name": "stdout",
     "output_type": "stream",
     "text": [
      "tensor(229.7779, device='cuda:0', grad_fn=<AddBackward0>)\n"
     ]
    },
    {
     "ename": "KeyboardInterrupt",
     "evalue": "",
     "output_type": "error",
     "traceback": [
      "\u001b[1;31m---------------------------------------------------------------------------\u001b[0m",
      "\u001b[1;31mKeyboardInterrupt\u001b[0m                         Traceback (most recent call last)",
      "Cell \u001b[1;32mIn[14], line 1\u001b[0m\n\u001b[1;32m----> 1\u001b[0m \u001b[43mglobal_training\u001b[49m\u001b[43m(\u001b[49m\u001b[38;5;241;43m1000\u001b[39;49m\u001b[43m,\u001b[49m\u001b[43mLSTM_motify\u001b[49m\u001b[43m)\u001b[49m\n",
      "Cell \u001b[1;32mIn[13], line 7\u001b[0m, in \u001b[0;36mglobal_training\u001b[1;34m(Global_Train_Steps, motifier)\u001b[0m\n\u001b[0;32m      5\u001b[0m \u001b[38;5;28mprint\u001b[39m(global_loss_1)\n\u001b[0;32m      6\u001b[0m \u001b[38;5;28;01mfor\u001b[39;00m i \u001b[38;5;129;01min\u001b[39;00m \u001b[38;5;28mrange\u001b[39m(Global_Train_Steps):    \n\u001b[1;32m----> 7\u001b[0m     _,global_loss \u001b[38;5;241m=\u001b[39m \u001b[43mRUN\u001b[49m\u001b[43m(\u001b[49m\u001b[43mbatchsize\u001b[49m\u001b[43m,\u001b[49m\u001b[43mDIM\u001b[49m\u001b[43m,\u001b[49m\u001b[43msteps\u001b[49m\u001b[38;5;241;43m=\u001b[39;49m\u001b[38;5;241;43m40\u001b[39;49m\u001b[43m)\u001b[49m      \n\u001b[0;32m      8\u001b[0m     adam_global_optimizer\u001b[38;5;241m.\u001b[39mzero_grad()\n\u001b[0;32m      9\u001b[0m     \u001b[38;5;28mprint\u001b[39m(i,global_loss)\n",
      "Cell \u001b[1;32mIn[12], line 39\u001b[0m, in \u001b[0;36mRUN\u001b[1;34m(batchsize, DIM, steps)\u001b[0m\n\u001b[0;32m     37\u001b[0m g \u001b[38;5;241m=\u001b[39m x\u001b[38;5;241m.\u001b[39mgrad\u001b[38;5;241m.\u001b[39mclone()\u001b[38;5;241m.\u001b[39mdetach()\n\u001b[0;32m     38\u001b[0m \u001b[38;5;66;03m#print(torch.norm(g,dim=1).mean())\u001b[39;00m\n\u001b[1;32m---> 39\u001b[0m \u001b[38;5;28;01mif\u001b[39;00m(\u001b[38;5;28;43msum\u001b[39;49m\u001b[43m(\u001b[49m\u001b[43mtorch\u001b[49m\u001b[38;5;241;43m.\u001b[39;49m\u001b[43mnorm\u001b[49m\u001b[43m(\u001b[49m\u001b[43mg\u001b[49m\u001b[43m,\u001b[49m\u001b[43mdim\u001b[49m\u001b[38;5;241;43m=\u001b[39;49m\u001b[38;5;241;43m1\u001b[39;49m\u001b[43m)\u001b[49m\u001b[38;5;241;43m<\u001b[39;49m\u001b[43macc\u001b[49m\u001b[43m)\u001b[49m\u001b[38;5;241m>\u001b[39m\u001b[38;5;241m0\u001b[39m):\n\u001b[0;32m     40\u001b[0m     \u001b[38;5;28;01mbreak\u001b[39;00m\n\u001b[0;32m     41\u001b[0m \u001b[38;5;66;03m#print(B.H)\u001b[39;00m\n",
      "\u001b[1;31mKeyboardInterrupt\u001b[0m: "
     ]
    },
    {
     "data": {
      "image/png": "[encoded data removed]",
      "text/plain": [
       "<Figure size 640x480 with 1 Axes>"
      ]
     },
     "metadata": {},
     "output_type": "display_data"
    }
   ],
   "source": [
    "global_training(1000,LSTM_motify)"
   ]
  },
  {
   "cell_type": "code",
   "execution_count": null,
   "id": "a693c83c-38d9-46a6-9710-715191ede294",
   "metadata": {},
   "outputs": [],
   "source": [
    "W = torch.randn((batchsize, DIM, DIM), device=device) # represents IID\n",
    "Y = torch.randn((batchsize,DIM),device=device)\n",
    "x = torch.zeros((batchsize,DIM),device=device,requires_grad=True)\n",
    "\n",
    "state=None#初始化LSTM hidden state\n",
    "H=torch.eye(DIM, device=x.device, dtype=x.dtype,requires_grad=True).unsqueeze(0).expand(batchsize, -1, -1)\n",
    "steps=20\n",
    "mem_loss=[]#初始化loss的list\n",
    "loss=f(W,Y,x)#每个case的loss\n",
    "global_loss_graph = 0#记录每个迭代的总loss 用于后向传播\n",
    "lossmean=loss.mean()#总loss的平均值\n",
    "\n",
    "global_loss_graph+=lossmean\n",
    "mem_loss.append(lossmean.clone().detach())\n",
    "\n",
    "lossmean.backward(retain_graph=True)\n",
    "g = x.grad.clone().detach()#g detach掉\n",
    "d=-torch.matmul(H,g.unsqueeze(2))\n",
    "k=0\n",
    "#print(loss)\n",
    "for i in range(steps):\n",
    "    g_pre=g.clone()# 保存g作为上一次的g，此时g_pre不在计算图中\n",
    "    # alpha=strong_wolfe(W,Y,batchsize,f, x, d, loss, g, c1=1e-4, c2=0.9, max_iter=10,device=device)\n",
    "    # alpha.detach_()\n",
    "    # update=alpha*d.squeeze()\n",
    "    update=d.squeeze()\n",
    "    x=x.clone().detach()+update\n",
    "    x.retain_grad()\n",
    "    loss=f(W,Y,x)\n",
    "    lossmean=loss.mean()\n",
    "    global_loss_graph+=lossmean\n",
    "    mem_loss.append(lossmean.clone().detach())\n",
    "    #print(mem_loss[0])\n",
    "    lossmean.backward(retain_graph=True)\n",
    "    #print([i.grad for i in LSTM_motify.parameters()])\n",
    "    print(g)\n",
    "    g = x.grad.clone().detach()\n",
    "    #print(torch.norm(g,dim=1).mean())\n",
    "    if(sum(torch.norm(g,dim=1)<acc)>0):\n",
    "        break\n",
    "    #print(B.H)\n",
    "    input_vec=torch.cat((g,update),dim=1).unsqueeze(0)\n",
    "    #print(input_vec.is_leaf)\n",
    "    motify,state=LSTM_motify(input_vec,state)\n",
    "    H = H.clone() + motify.reshape((batchsize, DIM, DIM))\n",
    "    H.retain_grad()\n",
    "    d=-torch.matmul(H,g.unsqueeze(2))\n",
    "    k+=1\n",
    "plt.plot([i.cpu().detach().numpy() for i in mem_loss],label='LSTM_before_train')"
   ]
  },
  {
   "cell_type": "code",
   "execution_count": null,
   "id": "7b933395-8f85-449a-bbf7-963534d311f6",
   "metadata": {},
   "outputs": [],
   "source": []
  }
 ],
 "metadata": {
  "kernelspec": {
   "display_name": "pytor",
   "language": "python",
   "name": "pytor"
  },
  "language_info": {
   "codemirror_mode": {
    "name": "ipython",
    "version": 3
   },
   "file_extension": ".py",
   "mimetype": "text/x-python",
   "name": "python",
   "nbconvert_exporter": "python",
   "pygments_lexer": "ipython3",
   "version": "3.9.18"
  }
 },
 "nbformat": 4,
 "nbformat_minor": 5
}
