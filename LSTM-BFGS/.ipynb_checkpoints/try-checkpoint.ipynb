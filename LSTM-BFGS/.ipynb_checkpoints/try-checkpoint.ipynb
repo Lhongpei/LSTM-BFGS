{
 "cells": [
  {
   "cell_type": "code",
   "execution_count": 1,
   "id": "c0f6ee83-99be-4bca-a262-d80eec5efc15",
   "metadata": {
    "tags": []
   },
   "outputs": [],
   "source": [
    "import numpy as np\n",
    "import scipy\n",
    "import torch"
   ]
  },
  {
   "cell_type": "markdown",
   "id": "73956549-1ec7-4f74-8d00-32ad285f25c7",
   "metadata": {
    "tags": []
   },
   "source": [
    "# define funtion"
   ]
  },
  {
   "cell_type": "code",
   "execution_count": 29,
   "id": "9528903c-b453-4e61-b791-b27cb2d2a95c",
   "metadata": {
    "tags": []
   },
   "outputs": [],
   "source": [
    "#randomly generate hessian matrix\n",
    "def gerHes(n):\n",
    "    # 生成随机矩阵\n",
    "    random_matrix = np.random.rand(n, n)\n",
    "    \n",
    "    # 生成对称矩阵\n",
    "    symmetric_matrix = (random_matrix + random_matrix.T) / 2\n",
    "        \n",
    "    return symmetric_matrix"
   ]
  },
  {
   "cell_type": "code",
   "execution_count": 51,
   "id": "f797f4ba-21de-4842-b8a0-3ea103e397e3",
   "metadata": {
    "tags": []
   },
   "outputs": [],
   "source": [
    "def invpowermethod(A, alpha, x=None, acc=1e-15, kmax=10000):\n",
    "    n, _ = A.shape\n",
    "    \n",
    "    if x is None:\n",
    "        x = np.ones(n)\n",
    "    \n",
    "    k = 0\n",
    "    err = 100\n",
    "    A = A - alpha * np.eye(n)\n",
    "    P, L, U = scipy.linalg.lu(A)\n",
    "    \n",
    "    t = np.argmax(np.abs(x))\n",
    "    m = x[t]\n",
    "    \n",
    "    while err >= acc and k <= kmax:\n",
    "        x = x / m\n",
    "        z = scipy.linalg.solve_triangular(L, P @ x, lower=True)\n",
    "        x = scipy.linalg.solve_triangular(U, z)\n",
    "        t = np.argmax(np.abs(x))\n",
    "        m1 = x[t]\n",
    "        err = abs(m1 - m)\n",
    "        m = m1\n",
    "        k += 1\n",
    "    \n",
    "    lam = 1 / m + alpha\n",
    "    y = x\n",
    "    print(k)\n",
    "    return lam"
   ]
  },
  {
   "cell_type": "code",
   "execution_count": 71,
   "id": "dce267e4-d616-44af-a175-52a360fa1e7c",
   "metadata": {
    "tags": []
   },
   "outputs": [],
   "source": [
    "def invpowerm_gpu1(A, alpha,device, x=None, acc=1e-10, kmax=10000):\n",
    "    n, _ = A.shape\n",
    "    \n",
    "    if x is None:\n",
    "        x = torch.ones(n,dtype=torch.float,device=device)\n",
    "    \n",
    "    k = 0\n",
    "    err = 100\n",
    "    A = A - alpha * torch.eye(n,dtype=torch.float,device=device)\n",
    "    LU, pivots = torch.linalg.lu_factor(A)\n",
    "    P, L, U = torch.lu_unpack(LU, pivots)\n",
    "    t = torch.argmax(torch.abs(x))\n",
    "    m = x[t]\n",
    "    \n",
    "    while err >= acc and k <= kmax:\n",
    "        x = x / m\n",
    "        z,_ = torch.triangular_solve(P @ x.view(-1, 1), L, upper=False)\n",
    "        x,_ = torch.triangular_solve(z, U, upper=True)\n",
    "        t = torch.argmax(torch.abs(x))\n",
    "        m1 = x[t]\n",
    "        err = torch.abs(m1 - m)\n",
    "        m = m1\n",
    "        k += 1\n",
    "    \n",
    "    lam = 1 / m + alpha\n",
    "    y = x\n",
    "    print(k)\n",
    "    return lam"
   ]
  },
  {
   "cell_type": "code",
   "execution_count": 74,
   "id": "0d58ca64-5607-4752-aa70-42290b75a10b",
   "metadata": {
    "tags": []
   },
   "outputs": [],
   "source": [
    "def invpowerm_gpu2(A, alpha,device, x=None, acc=1e-10, kmax=10000):\n",
    "    n, _ = A.shape\n",
    "    \n",
    "    if x is None:\n",
    "        x = torch.ones(n,dtype=torch.float,device=device)\n",
    "    \n",
    "    k = 0\n",
    "    err = 100\n",
    "    A = A - alpha * torch.eye(n,dtype=torch.float,device=device)\n",
    "    LU, pivots = torch.linalg.lu_factor(A)\n",
    "    P, L, U = torch.lu_unpack(LU, pivots)\n",
    "    t = torch.argmax(torch.abs(x))\n",
    "    m = x[t]\n",
    "    \n",
    "    while err >= acc and k <= kmax:\n",
    "        \n",
    "        z,_ = torch.triangular_solve(P @ x.view(-1, 1), L, upper=False)\n",
    "        x1,_ = torch.triangular_solve(z, U, upper=True)\n",
    "        x1 = x1 / m\n",
    "        err = torch.norm(x1 - x)\n",
    "        x=x1\n",
    "        t = torch.argmax(torch.abs(x))\n",
    "        m = x[t]\n",
    "        k += 1\n",
    "    \n",
    "    lam = 1 / m + alpha\n",
    "    y = x\n",
    "    print(k)\n",
    "    return lam"
   ]
  },
  {
   "cell_type": "code",
   "execution_count": 55,
   "id": "911c5cab-6479-4619-88af-bfcef8472111",
   "metadata": {
    "tags": []
   },
   "outputs": [],
   "source": [
    "def gersch(A,flag=1):\n",
    "    dia=np.diag(A)\n",
    "    t=np.argmin(dia)\n",
    "    O=dia[t]\n",
    "    d=sum(abs(a) for a in A[t])\n",
    "    if flag==0:\n",
    "        return O-d\n",
    "    else:\n",
    "        return O,d"
   ]
  },
  {
   "cell_type": "code",
   "execution_count": 29,
   "id": "c7a38e79-aec2-450c-aef5-6e62b0eb5c48",
   "metadata": {
    "tags": []
   },
   "outputs": [],
   "source": [
    "n=5000\n",
    "A=gerHes(n)*100"
   ]
  },
  {
   "cell_type": "code",
   "execution_count": 32,
   "id": "6a02c53a-94a8-46fe-a201-54d1c9742b86",
   "metadata": {},
   "outputs": [],
   "source": [
    "n=5000\n",
    "A=gerHes(n)*100"
   ]
  },
  {
   "cell_type": "code",
   "execution_count": 33,
   "id": "e825a4a0-e320-4f69-bdf3-43a30d940769",
   "metadata": {
    "tags": []
   },
   "outputs": [],
   "source": [
    "if torch.cuda.is_available():\n",
    "    device = torch.device(\"cuda\")\n",
    "else :\n",
    "    print(\"CUDA isn't available\")"
   ]
  },
  {
   "cell_type": "code",
   "execution_count": 44,
   "id": "bf50329c-ca38-40c4-b079-85f8ea7d189d",
   "metadata": {
    "tags": []
   },
   "outputs": [],
   "source": [
    "At=torch.tensor(A,dtype=torch.float,device=device)"
   ]
  },
  {
   "cell_type": "markdown",
   "id": "1dbc5cb2-9056-4368-a5aa-eb6486aabf85",
   "metadata": {},
   "source": [
    "# LU"
   ]
  },
  {
   "cell_type": "code",
   "execution_count": 37,
   "id": "54f554ef-3a6b-4863-a542-343c62f1ab63",
   "metadata": {
    "tags": []
   },
   "outputs": [
    {
     "name": "stdout",
     "output_type": "stream",
     "text": [
      "CPU times: total: 4.53 s\n",
      "Wall time: 925 ms\n"
     ]
    }
   ],
   "source": [
    "%%time\n",
    "P,L,U=scipy.linalg.lu(A)"
   ]
  },
  {
   "cell_type": "code",
   "execution_count": 38,
   "id": "3071ff42-f724-4d4f-b7d0-71eb3144ae5a",
   "metadata": {
    "tags": []
   },
   "outputs": [
    {
     "name": "stdout",
     "output_type": "stream",
     "text": [
      "CPU times: total: 31.2 ms\n",
      "Wall time: 330 ms\n"
     ]
    }
   ],
   "source": [
    "%%time\n",
    "LU, pivots = torch.linalg.lu_factor(At)\n",
    "P, L, U = torch.lu_unpack(LU, pivots)"
   ]
  },
  {
   "cell_type": "markdown",
   "id": "9edceda3-dfec-4d7e-9e21-3e1fbd4b36f6",
   "metadata": {},
   "source": [
    "# Compare"
   ]
  },
  {
   "cell_type": "code",
   "execution_count": 50,
   "id": "6ac813e0-b467-4072-a482-db55aae459bf",
   "metadata": {
    "tags": []
   },
   "outputs": [
    {
     "name": "stdout",
     "output_type": "stream",
     "text": [
      "CPU times: total: 2min 23s\n",
      "Wall time: 18.1 s\n"
     ]
    },
    {
     "data": {
      "text/plain": [
       "-2879.3075304745103"
      ]
     },
     "execution_count": 50,
     "metadata": {},
     "output_type": "execute_result"
    }
   ],
   "source": [
    "%%time\n",
    "np.min(np.linalg.eigvals(A))"
   ]
  },
  {
   "cell_type": "code",
   "execution_count": 58,
   "id": "61265265-5fbc-4235-9456-54d853f63c82",
   "metadata": {
    "tags": []
   },
   "outputs": [],
   "source": [
    "O,d=gersch(A)\n",
    "lam0=O-d"
   ]
  },
  {
   "cell_type": "code",
   "execution_count": null,
   "id": "7d437966-a3bf-497a-a58a-81208eab7d00",
   "metadata": {
    "tags": []
   },
   "outputs": [],
   "source": [
    "%%time\n",
    "invpowermethod(A,O)"
   ]
  },
  {
   "cell_type": "code",
   "execution_count": 75,
   "id": "ca3fb07f-6603-4d26-aced-f1a973dd25c9",
   "metadata": {
    "tags": []
   },
   "outputs": [
    {
     "name": "stdout",
     "output_type": "stream",
     "text": [
      "10001\n",
      "CPU times: total: 36.5 s\n",
      "Wall time: 36.8 s\n"
     ]
    },
    {
     "data": {
      "text/plain": [
       "tensor([-2865.2656], device='cuda:0')"
      ]
     },
     "execution_count": 75,
     "metadata": {},
     "output_type": "execute_result"
    }
   ],
   "source": [
    "%%time\n",
    "invpowerm_gpu2(At,O-d,device)"
   ]
  },
  {
   "cell_type": "code",
   "execution_count": 54,
   "id": "e78c6a69-c6a2-46e0-9c9e-1891bc0f79f1",
   "metadata": {
    "tags": []
   },
   "outputs": [
    {
     "data": {
      "text/plain": [
       "-252534.38653701945"
      ]
     },
     "execution_count": 54,
     "metadata": {},
     "output_type": "execute_result"
    }
   ],
   "source": [
    "lam0"
   ]
  },
  {
   "cell_type": "code",
   "execution_count": 60,
   "id": "085a3028-143a-4dc5-99a2-bb9ebc72da86",
   "metadata": {
    "tags": []
   },
   "outputs": [
    {
     "data": {
      "text/plain": [
       "0.00858610823440964"
      ]
     },
     "execution_count": 60,
     "metadata": {},
     "output_type": "execute_result"
    }
   ],
   "source": [
    "O"
   ]
  },
  {
   "cell_type": "code",
   "execution_count": 61,
   "id": "585b80cb-97da-464f-ae9e-32cb01fd60e8",
   "metadata": {
    "tags": []
   },
   "outputs": [
    {
     "data": {
      "text/plain": [
       "252534.3951231277"
      ]
     },
     "execution_count": 61,
     "metadata": {},
     "output_type": "execute_result"
    }
   ],
   "source": [
    "d"
   ]
  },
  {
   "cell_type": "code",
   "execution_count": 4,
   "id": "7d59e814-bc2b-428a-9220-a5796925265c",
   "metadata": {},
   "outputs": [
    {
     "ename": "ModuleNotFoundError",
     "evalue": "No module named 'd2l'",
     "output_type": "error",
     "traceback": [
      "\u001b[1;31m---------------------------------------------------------------------------\u001b[0m",
      "\u001b[1;31mModuleNotFoundError\u001b[0m                       Traceback (most recent call last)",
      "Cell \u001b[1;32mIn[4], line 3\u001b[0m\n\u001b[0;32m      1\u001b[0m \u001b[38;5;28;01mimport\u001b[39;00m \u001b[38;5;21;01mtorch\u001b[39;00m\n\u001b[0;32m      2\u001b[0m \u001b[38;5;28;01mfrom\u001b[39;00m \u001b[38;5;21;01mtorch\u001b[39;00m \u001b[38;5;28;01mimport\u001b[39;00m nn\n\u001b[1;32m----> 3\u001b[0m \u001b[38;5;28;01mfrom\u001b[39;00m \u001b[38;5;21;01md2l\u001b[39;00m \u001b[38;5;28;01mimport\u001b[39;00m torch \u001b[38;5;28;01mas\u001b[39;00m d2l\n\u001b[0;32m      5\u001b[0m batch_size, num_steps \u001b[38;5;241m=\u001b[39m \u001b[38;5;241m32\u001b[39m, \u001b[38;5;241m35\u001b[39m\n\u001b[0;32m      6\u001b[0m train_iter, vocab \u001b[38;5;241m=\u001b[39m d2l\u001b[38;5;241m.\u001b[39mload_data_time_machine(batch_size, num_steps)\n",
      "\u001b[1;31mModuleNotFoundError\u001b[0m: No module named 'd2l'"
     ]
    }
   ],
   "source": [
    "import torch\n",
    "from torch import nn\n",
    "from d2l import torch as d2l\n",
    "\n",
    "batch_size, num_steps = 32, 35\n",
    "train_iter, vocab = d2l.load_data_time_machine(batch_size, num_steps)"
   ]
  },
  {
   "cell_type": "code",
   "execution_count": 11,
   "id": "e469f103-d29b-466d-854a-a1f1e5a46320",
   "metadata": {},
   "outputs": [
    {
     "name": "stdout",
     "output_type": "stream",
     "text": [
      "torch.Size([128, 10, 10])\n"
     ]
    }
   ],
   "source": [
    "import torch\n",
    "\n",
    "# 假设 x 是一个大小为 (batchsize, DIM) 的张量\n",
    "batchsize = 128\n",
    "DIM = 10\n",
    "\n",
    "# 生成随机的 x 张量作为示例\n",
    "x = torch.randn(batchsize, DIM,DIM-1)\n",
    "y = torch.randn(batchsize, DIM-1,DIM)\n",
    "# 计算 x'x\n",
    "xx = torch.matmul(x, y)\n",
    "\n",
    "print(xx.shape)\n"
   ]
  },
  {
   "cell_type": "code",
   "execution_count": null,
   "id": "86009305-8153-403d-a506-19187d911600",
   "metadata": {},
   "outputs": [],
   "source": []
  }
 ],
 "metadata": {
  "kernelspec": {
   "display_name": "pytor",
   "language": "python",
   "name": "pytor"
  },
  "language_info": {
   "codemirror_mode": {
    "name": "ipython",
    "version": 3
   },
   "file_extension": ".py",
   "mimetype": "text/x-python",
   "name": "python",
   "nbconvert_exporter": "python",
   "pygments_lexer": "ipython3",
   "version": "3.9.18"
  }
 },
 "nbformat": 4,
 "nbformat_minor": 5
}
