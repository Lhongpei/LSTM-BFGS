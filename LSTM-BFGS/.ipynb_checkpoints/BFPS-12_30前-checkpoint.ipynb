{
 "cells": [
  {
   "cell_type": "code",
   "execution_count": 1,
   "id": "74910e75-5e32-4c99-832a-5087f95878be",
   "metadata": {
    "tags": []
   },
   "outputs": [],
   "source": [
    "import torch\n",
    "import torchmin.bfgs as bfs\n",
    "import matplotlib.pyplot as plt\n",
    "import numpy as np\n",
    "from tqdm import tqdm\n",
    "import torchmin.benchmarks as bm\n",
    "from opti_utils import BFGS,strong_wolfe,f,logistic"
   ]
  },
  {
   "cell_type": "code",
   "execution_count": 2,
   "id": "d9f683ef-5132-4628-adee-4d30b64c1a9a",
   "metadata": {
    "tags": []
   },
   "outputs": [],
   "source": [
    "batchsize=128\n",
    "DIM=10"
   ]
  },
  {
   "cell_type": "code",
   "execution_count": 3,
   "id": "44242f42-0628-4491-aff1-82800050ccdb",
   "metadata": {
    "tags": []
   },
   "outputs": [
    {
     "data": {
      "text/plain": [
       "True"
      ]
     },
     "execution_count": 3,
     "metadata": {},
     "output_type": "execute_result"
    }
   ],
   "source": [
    "USE_CUDA=False\n",
    "if torch.cuda.is_available():\n",
    "    USE_CUDA=True\n",
    "    device = torch.device(\"cuda\" if torch.cuda.is_available() else \"cpu\")\n",
    "USE_CUDA"
   ]
  },
  {
   "cell_type": "markdown",
   "id": "5cc68c04-8a12-4a85-842e-927fc462ac69",
   "metadata": {},
   "source": [
    "## Define objective function\n",
    "Considering linear search is useful, we define 2 kinds of loss funtion.<br>\n",
    "- loss for each samples in this batch\n",
    "- mean loss for this batch"
   ]
  },
  {
   "cell_type": "code",
   "execution_count": 8,
   "id": "9e756632-08ad-4018-8859-d334367f1107",
   "metadata": {
    "tags": []
   },
   "outputs": [],
   "source": [
    "# define a logistic regression function\n",
    "def f(W,Y,x):\n",
    "    \"\"\"quadratic function : f(\\theta) = \\|W\\theta - y\\|_2^2\"\"\"\n",
    "    if USE_CUDA:\n",
    "        W = W.cuda()\n",
    "        Y = Y.cuda()\n",
    "        x = x.cuda()\n",
    "\n",
    "    return ((torch.matmul(W,x.unsqueeze(-1)).squeeze()-Y)**2).sum(dim=1)\n",
    "\n",
    "def logistic(A,b,x,lamb,n):\n",
    "    sig=torch.sigmoid(torch.matmul(A,x.unsqueeze(-1)).squeeze())\n",
    "    return (-b*torch.log(sig)+(1-b)*torch.log(1-sig)).mean(dim=1)+lamb/n*torch.norm(x,dim=-1)"
   ]
  },
  {
   "cell_type": "markdown",
   "id": "87b9c859-f39e-4076-9f2e-a4aa8d4f7dfc",
   "metadata": {},
   "source": [
    "## BFGS update iteration"
   ]
  },
  {
   "cell_type": "code",
   "execution_count": 5,
   "id": "4808477a-745e-49aa-bcef-cc05230053d2",
   "metadata": {},
   "outputs": [],
   "source": [
    "class BFGS:\n",
    "    def __init__(self,batchsize,DIM,device):\n",
    "        self.I = torch.eye(DIM, device=x.device, dtype=x.dtype,requires_grad=True).unsqueeze(0).expand(batchsize, -1, -1)\n",
    "        self.H = self.I.clone()\n",
    "    def H_BFDS_update(self,s,y):\n",
    "        st=s.unsqueeze(1)\n",
    "        s=s.unsqueeze(2)\n",
    "        yt=y.unsqueeze(1)\n",
    "        y=y.unsqueeze(2)\n",
    "        sy=torch.matmul(s,yt)\n",
    "        ss=torch.matmul(s,st)\n",
    "        yst=torch.matmul(y,st)\n",
    "        yts=torch.matmul(yt,s)\n",
    "        #print(yts.min())\n",
    "        yHy=torch.matmul(torch.matmul(yt,self.H),y)\n",
    "        self.H=self.H-(torch.matmul(sy,self.H)+torch.matmul(self.H,yst))/yts+(yHy/yts+1)*ss/yts\n",
    "        #print(self.H)"
   ]
  },
  {
   "cell_type": "markdown",
   "id": "f2a99a22-d7a4-4abe-884b-1fd847b6cabe",
   "metadata": {},
   "source": [
    "## Linear search (Strong Wolfe)"
   ]
  },
  {
   "cell_type": "code",
   "execution_count": 6,
   "id": "f279cc3b-cc05-4c15-ae2d-f73d0f1ea838",
   "metadata": {
    "tags": []
   },
   "outputs": [],
   "source": [
    "import torch\n",
    "\n",
    "def strong_wolfe(W,Y,batchsize,f, x, step_dir, loss, grad, device, c1=1e-4, c2=0.9, max_iter=10):\n",
    "    \"\"\"\n",
    "    Strong Wolfe Line Search\n",
    "    Args:\n",
    "    - f: Function to be optimized\n",
    "    - x: Current point\n",
    "    - step_dir: Search direction\n",
    "    - loss: Loss at current point\n",
    "    - grad: Gradient at current point\n",
    "    - c1: Armijo condition parameter\n",
    "    - c2: Curvature condition parameter\n",
    "    - max_iter: Maximum number of iterations\n",
    "\n",
    "    Returns:\n",
    "    - step_size: Calculated step size\n",
    "    \"\"\"\n",
    "\n",
    "    # Initialize step size\n",
    "    step_size = torch.ones((batchsize,1),device=device)\n",
    "    grad=grad.unsqueeze(1)\n",
    "    #print(step_dir.shape)\n",
    "    #step_dir=step_dir.unsqueeze(2)\n",
    "    for i in range(max_iter):\n",
    "        new_loss = f(W,Y,x + step_size * step_dir.squeeze())\n",
    "        \n",
    "        armijo_condition = new_loss > loss + c1 * step_size.squeeze() * torch.matmul(grad, step_dir).squeeze()\n",
    "        #print(armijo_condition.shape)\n",
    "        new_grad = torch.autograd.grad(new_loss.mean(), x)[0]\n",
    "        curvature_condition = torch.matmul(new_grad.unsqueeze(1), step_dir).squeeze() < c2 * torch.matmul(grad, step_dir).squeeze()\n",
    "\n",
    "        if torch.sum(armijo_condition)==0 and torch.sum(curvature_condition)==0:\n",
    "            return step_size\n",
    "        elif torch.sum(armijo_condition)>0:\n",
    "            step_size[armijo_condition] *= 0.5  # Reduce step size by half\n",
    "        elif torch.sum(curvature_condition)>0:\n",
    "            step_size[curvature_condition] *= 2.0  # Double step size\n",
    "\n",
    "    return step_size  # Return step size after maximum iterations reached\n",
    "\n",
    "# Usage Example:\n",
    "# Define your function f, starting point x, loss, gradient, and search direction\n",
    "# Then call strong_wolfe function to get the step size\n",
    "# step_size = strong_wolfe(f, x, step_dir, loss, grad)\n"
   ]
  },
  {
   "cell_type": "markdown",
   "id": "e08bea06-7079-4716-b5ae-6e5cd077f22e",
   "metadata": {},
   "source": [
    "## BFGS"
   ]
  },
  {
   "cell_type": "code",
   "execution_count": 67,
   "id": "d65e496e-fb47-4105-882a-8767f08b2f92",
   "metadata": {
    "tags": []
   },
   "outputs": [
    {
     "name": "stdout",
     "output_type": "stream",
     "text": [
      "200\n"
     ]
    },
    {
     "data": {
      "text/plain": [
       "[<matplotlib.lines.Line2D at 0x29b07b427f0>]"
      ]
     },
     "execution_count": 67,
     "metadata": {},
     "output_type": "execute_result"
    },
    {
     "data": {
      "image/png": "[encoded data removed]",
      "text/plain": [
       "<Figure size 640x480 with 1 Axes>"
      ]
     },
     "metadata": {},
     "output_type": "display_data"
    }
   ],
   "source": [
    "W = torch.randn((batchsize, DIM, DIM), device=device) # represents IID\n",
    "Y = torch.randn((batchsize,DIM),device=device)\n",
    "x = torch.zeros((batchsize,DIM),device=device,requires_grad=True)\n",
    "\n",
    "steps=200\n",
    "B=BFGS(batchsize,DIM,device)\n",
    "mem_loss=[]\n",
    "loss=logistic(W,Y,x,2,DIM)\n",
    "acc=1e-6\n",
    "mem_loss.append(loss.mean())\n",
    "g=torch.autograd.grad(loss.mean(),x)[0]\n",
    "d=-torch.matmul(B.H,g.unsqueeze(2))\n",
    "k=0\n",
    "#print(loss)\n",
    "for i in range(steps):\n",
    "    g_pre=g\n",
    "    alpha=strong_wolfe(W,Y,batchsize,f, x, d, loss, g, c1=1e-4, c2=0.9, max_iter=10,device=device)\n",
    "    update=alpha*(d.squeeze())\n",
    "    x=x+update\n",
    "    loss=logistic(W,Y,x,2,DIM)\n",
    "    mem_loss.append(loss.mean())\n",
    "    g=torch.autograd.grad(loss.mean(),x)[0]\n",
    "    #print(torch.norm(g,dim=1).mean())\n",
    "    if(sum(torch.norm(g,dim=1)<acc)>0):\n",
    "        break\n",
    "    d=-torch.matmul(B.H,g.unsqueeze(2))\n",
    "    #print(B.H)\n",
    "    B.H_BFDS_update(update,g-g_pre)\n",
    "    k+=1\n",
    "    \n",
    "print(k)    \n",
    "plt.plot([i.cpu().detach().numpy() for i in mem_loss])  "
   ]
  },
  {
   "cell_type": "markdown",
   "id": "f6734106-e57e-4470-925a-94580b3b5b17",
   "metadata": {},
   "source": [
    "## LSTM define"
   ]
  },
  {
   "cell_type": "code",
   "execution_count": 10,
   "id": "08168494-5d81-4a99-a55a-8a707b0b3dd5",
   "metadata": {},
   "outputs": [],
   "source": [
    "class LSTM_motify(torch.nn.Module):\n",
    "    \"\"\"LSTM修正器\n",
    "       LSTM optimizer\"\"\"\n",
    "    \n",
    "    def __init__(self,input_size,output_size, hidden_size, num_stacks, batchsize,p  = 10 ,preprocess = True, output_scale = 1):\n",
    "        super(LSTM_motify,self).__init__()\n",
    "        self.preprocess_flag = preprocess\n",
    "        self.input_flag = 2\n",
    "        if preprocess != True:\n",
    "             self.input_flag = 1\n",
    "        self.p = p\n",
    "        self.output_scale = output_scale \n",
    "        self.lstm = torch.nn.LSTM(input_size*self.input_flag, hidden_size, num_stacks)\n",
    "        self.Linear = torch.nn.Linear(hidden_size,output_size) #1-> output_size\n",
    "        print(self.preprocess_flag)\n",
    "        \n",
    "    def LogAndSign_Preprocess_Gradient(self,gradients):\n",
    "        \"\"\"\n",
    "        Args:\n",
    "          gradients: `Tensor` of gradients with shape `[d_1, ..., d_n]`.\n",
    "          p       : `p` > 0 is a parameter controlling how small gradients are disregarded \n",
    "        Returns:\n",
    "          `Tensor` with shape `[d_1, ..., d_n-1, 2 * d_n]`. The first `d_n` elements\n",
    "          along the nth dimension correspond to the `log output` \\in [-1,1] and the remaining\n",
    "          `d_n` elements to the `sign output`.\n",
    "        \"\"\"\n",
    "        p  = self.p\n",
    "        log = torch.log(torch.abs(gradients))\n",
    "        clamp_log = torch.clamp(log/p , min = -1.0,max = 1.0)\n",
    "        clamp_sign = torch.clamp(torch.exp(torch.tensor(p))*gradients, min = -1.0, max =1.0)\n",
    "        return torch.cat((clamp_log,clamp_sign),dim = -1) #在gradients的最后一维input_dims拼接\n",
    "    \n",
    "    def Output_motification_And_motify_LSTM_Hidden_State(self, input_gradients, prev_state):\n",
    "        \"\"\"LSTM的核心操作  core operation\n",
    "        coordinate-wise LSTM \"\"\"\n",
    "        if prev_state is None: #init_state\n",
    "            prev_state = (torch.zeros(Layers,batchsize,Hidden_nums),\n",
    "                            torch.zeros(Layers,batchsize,Hidden_nums))\n",
    "            if USE_CUDA :\n",
    "                 prev_state = (torch.zeros(Layers,batchsize,Hidden_nums).cuda(),\n",
    "                            torch.zeros(Layers,batchsize,Hidden_nums).cuda())\n",
    "         \t\t\t\n",
    "        motify , next_state = self.lstm(input_gradients, prev_state)\n",
    "        motify = self.Linear(motify) * self.output_scale # transform the LSTM output to the target output dim \n",
    "        return motify, next_state\n",
    "    \n",
    "    def forward(self,input_data, prev_state):\n",
    "        if USE_CUDA:\n",
    "            input_data = input_data.cuda()\n",
    "        #pytorch requires the `torch.nn.lstm`'s input as（1，batchsize,input_dim）\n",
    "        # original gradient.size()=torch.size[5] ->[1,1,5]\n",
    "        # gradients = move_gradients.unsqueeze(0)\n",
    "        # moves = move.unsqueeze(0)\n",
    "        # combined = torch.cat((moves, gradients), dim=0)\n",
    "        if self.preprocess_flag == True:\n",
    "            #print(input_data.shape)\n",
    "            input_data = self.LogAndSign_Preprocess_Gradient(input_data)\n",
    "        motify , next_state = self.Output_motification_And_motify_LSTM_Hidden_State(input_data , prev_state)\n",
    "        # Squeeze to make it a single batch again.[1,1,5]->[5]\n",
    "        motify = motify.squeeze().squeeze()\n",
    "       \n",
    "        return motify , next_state"
   ]
  },
  {
   "cell_type": "code",
   "execution_count": 11,
   "id": "fa1e2027-13cb-40e0-ba2b-46ba00998085",
   "metadata": {
    "tags": []
   },
   "outputs": [
    {
     "name": "stdout",
     "output_type": "stream",
     "text": [
      "False\n",
      "LSTM_motify(\n",
      "  (lstm): LSTM(20, 20, num_layers=2)\n",
      "  (Linear): Linear(in_features=20, out_features=100, bias=True)\n",
      ")\n"
     ]
    }
   ],
   "source": [
    "Layers = 2\n",
    "Hidden_nums = 20\n",
    "Input_DIM = DIM*2\n",
    "Output_DIM = DIM**2\n",
    "output_scale_value=1\n",
    "\n",
    "#######   构造一个优化器  #######\n",
    "#######  construct a optimizer  #######\n",
    "LSTM_motify = LSTM_motify(Input_DIM, Output_DIM, Hidden_nums ,Layers , batchsize=batchsize,\\\n",
    "                preprocess=False,output_scale=output_scale_value)\n",
    "print(LSTM_motify)\n",
    "\n",
    "if USE_CUDA:\n",
    "    LSTM_optimizer = LSTM_motify.cuda()"
   ]
  },
  {
   "cell_type": "markdown",
   "id": "fe5cfb62-73f2-445d-a237-6bc2a94a59af",
   "metadata": {
    "tags": []
   },
   "source": [
    "## LSTM pre-train vs BFGS"
   ]
  },
  {
   "cell_type": "code",
   "execution_count": 12,
   "id": "417a3f85-a666-440f-9b41-52af8439a3b5",
   "metadata": {
    "tags": []
   },
   "outputs": [],
   "source": [
    "import time"
   ]
  },
  {
   "cell_type": "code",
   "execution_count": 13,
   "id": "e20b5f32-b87e-4880-8f0f-75266d151787",
   "metadata": {},
   "outputs": [],
   "source": [
    "def record(loss,standard='mean',num=0):\n",
    "    if standard=='mean':\n",
    "        return loss.mean()\n",
    "    else:\n",
    "        return loss[num]"
   ]
  },
  {
   "cell_type": "code",
   "execution_count": 69,
   "id": "7c4a352e-1ec0-4062-804c-b04287ee7ffa",
   "metadata": {
    "tags": []
   },
   "outputs": [],
   "source": [
    "def LSTM_iter(W,Y,x,batchsize,DIM,device,standard='mean',rec_num=0,step=50,acc=1e-6,plot=False):    \n",
    "    start_time=time.time()\n",
    "    state=None#初始化LSTM hidden state\n",
    "    H=torch.eye(DIM, device=x.device, dtype=x.dtype,requires_grad=True).unsqueeze(0).expand(batchsize, -1, -1)\n",
    "    mem_loss=[]#初始化loss的list\n",
    "    loss=logistic(W,Y,x,2,DIM)#每个case的loss\n",
    "    global_loss_graph = 0#记录每个迭代的总loss 用于后向传播\n",
    "    lossmean=loss.mean()#总loss的平均值\n",
    "\n",
    "    global_loss_graph+=lossmean\n",
    "    mem_loss.append(loss[rec_num])\n",
    "\n",
    "    lossmean.backward(retain_graph=True)\n",
    "    g = x.grad.clone()#g detach掉\n",
    "    d=-torch.matmul(H,g.unsqueeze(2))\n",
    "    k=0\n",
    "    #print(loss)\n",
    "    for i in range(steps):\n",
    "        g_pre=g.clone()# 保存g作为上一次的g，此时g_pre不在计算图中\n",
    "        alpha=strong_wolfe(W,Y,batchsize,f, x, d, loss, g, c1=1e-4, c2=0.9, max_iter=10,device=device)\n",
    "        alpha.detach_()\n",
    "        update=alpha*d.squeeze()\n",
    "        # update=d.squeeze()\n",
    "        x=x+update\n",
    "        x.retain_grad()\n",
    "        loss=logistic(W,Y,x,2,DIM)\n",
    "        lossmean=loss.mean()\n",
    "        global_loss_graph+=lossmean\n",
    "        mem_loss.append(loss[rec_num])\n",
    "        #print(mem_loss[0])\n",
    "        lossmean.backward(retain_graph=True)\n",
    "        #print([i.grad for i in LSTM_motify.parameters()])\n",
    "        #print(g)\n",
    "        g = x.grad.clone()\n",
    "        #print(torch.norm(g,dim=1).mean())\n",
    "        if(sum(torch.norm(g,dim=1)<acc)>0):\n",
    "            break\n",
    "        #print(B.H)\n",
    "        input_vec=torch.cat((g,update),dim=1).unsqueeze(0)\n",
    "        #print(input_vec.is_leaf)\n",
    "        motify,state=LSTM_motify(input_vec,state)\n",
    "        deltaH=motify.reshape((batchsize, DIM, DIM))\n",
    "        H = H.clone().detach() + deltaH*deltaH.transpose(1, 2)\n",
    "        H.retain_grad()\n",
    "        d=-torch.matmul(H,g.unsqueeze(2))\n",
    "        k+=1\n",
    "    if plot:\n",
    "        plt.plot([i.cpu().detach().numpy() for i in mem_loss],label='LSTM')\n",
    "        end_time = time.time()\n",
    "        LSTM_time = end_time - start_time\n",
    "    return mem_loss,global_loss_graph,LSTM_time"
   ]
  },
  {
   "cell_type": "code",
   "execution_count": 68,
   "id": "89c96bff-17fa-49e2-aa5c-2f385ce2ce78",
   "metadata": {
    "tags": []
   },
   "outputs": [],
   "source": [
    "def BFGS_iter(W,Y,x,batchsize,DIM,device,standard='mean',rec_num=0,step=100,acc=1e-6,plot=False):\n",
    "    start_time=time.time()\n",
    "    B=BFGS(batchsize,DIM,device)\n",
    "    mem_loss=[]\n",
    "    loss=logistic(W,Y,x,2,DIM)\n",
    "    acc=1e-6\n",
    "    global_loss=0\n",
    "    lossmean=loss.mean()\n",
    "    global_loss+=lossmean\n",
    "    mem_loss.append(loss[rec_num])\n",
    "    g=torch.autograd.grad(loss.mean(),x)[0]\n",
    "    d=-torch.matmul(B.H,g.unsqueeze(2))\n",
    "    k=0\n",
    "    #print(loss)\n",
    "    for i in range(steps):\n",
    "        g_pre=g\n",
    "        alpha=strong_wolfe(W,Y,batchsize,f, x, d, loss, g, c1=1e-4, c2=0.9, max_iter=10,device=device)\n",
    "        update=alpha*(d.squeeze())\n",
    "        x=x+update\n",
    "        loss=logistic(W,Y,x,2,DIM)\n",
    "        lossmean=loss.mean()\n",
    "        global_loss+=lossmean\n",
    "        mem_loss.append(loss[rec_num])\n",
    "        g=torch.autograd.grad(lossmean,x)[0]\n",
    "        #print(torch.norm(g,dim=1).mean())\n",
    "        if(sum(torch.norm(g,dim=1)<acc)>0):\n",
    "            break\n",
    "        d=-torch.matmul(B.H,g.unsqueeze(2))\n",
    "        #print(B.H)\n",
    "        B.H_BFDS_update(update,g-g_pre)\n",
    "        k+=1\n",
    "\n",
    "    end_time = time.time()\n",
    "    BFGS_time = end_time - start_time\n",
    "    if plot:\n",
    "        plt.plot([i.cpu().detach().numpy() for i in mem_loss],label='BFGS')  \n",
    "    return mem_loss,global_loss,BFGS_time"
   ]
  },
  {
   "cell_type": "code",
   "execution_count": 16,
   "id": "42730762-98da-4010-b721-bce9dbe74d9d",
   "metadata": {
    "tags": []
   },
   "outputs": [],
   "source": [
    "def gradient_iter(W,Y,x,batchsize,DIM,device,standard='mean',rec_num=0,step=50,acc=1e-6,plot=False):    \n",
    "    start_time=time.time()\n",
    "    mem_loss=[]#初始化loss的list\n",
    "    loss=f(W,Y,x)#每个case的loss\n",
    "    global_loss_graph = 0#记录每个迭代的总loss 用于后向传播\n",
    "    lossmean=loss.mean()#总loss的平均值\n",
    "\n",
    "    global_loss_graph+=lossmean\n",
    "    mem_loss.append(loss[rec_num])\n",
    "\n",
    "    lossmean.backward(retain_graph=True)\n",
    "    g = x.grad\n",
    "    k=0\n",
    "    #print(loss)\n",
    "    for i in range(steps):\n",
    "        # update=d.squeeze()\n",
    "        x=x-g\n",
    "        x.retain_grad()\n",
    "        loss=f(W,Y,x)\n",
    "        lossmean=loss.mean()\n",
    "        global_loss_graph+=lossmean\n",
    "        mem_loss.append(loss[rec_num])\n",
    "        #print(mem_loss[0])\n",
    "        lossmean.backward(retain_graph=True)\n",
    "        #print([i.grad for i in LSTM_motify.parameters()])\n",
    "        #print(g)\n",
    "        g = x.grad\n",
    "        #print(torch.norm(g,dim=1).mean())\n",
    "        if(sum(torch.norm(g,dim=1)<acc)>0):\n",
    "            break\n",
    "        #print(B.H)\n",
    "        #print(input_vec.is_leaf)\n",
    "        k+=1\n",
    "    if plot:\n",
    "        plt.plot([i.cpu().detach().numpy() for i in mem_loss],label='Gradient')\n",
    "        end_time = time.time()\n",
    "        LSTM_time = end_time - start_time\n",
    "    return mem_loss,global_loss_graph,LSTM_time"
   ]
  },
  {
   "cell_type": "code",
   "execution_count": 82,
   "id": "98c4e24a-ed2a-4f95-b18d-b6ef42c9d60e",
   "metadata": {
    "tags": []
   },
   "outputs": [
    {
     "name": "stdout",
     "output_type": "stream",
     "text": [
      "bfgs_time 1.895167589187622\n",
      "lstm_time 11.551415920257568\n"
     ]
    },
    {
     "data": {
      "text/plain": [
       "<matplotlib.legend.Legend at 0x29b121111c0>"
      ]
     },
     "execution_count": 82,
     "metadata": {},
     "output_type": "execute_result"
    },
    {
     "data": {
      "image/png": "[encoded data removed]",
      "text/plain": [
       "<Figure size 640x480 with 1 Axes>"
      ]
     },
     "metadata": {},
     "output_type": "display_data"
    }
   ],
   "source": [
    "batchsize=1\n",
    "W = torch.randn((batchsize, DIM, DIM), device=device) # represents IID\n",
    "Y = torch.randn((batchsize,DIM),device=device)\n",
    "x = torch.zeros((batchsize,DIM),device=device,requires_grad=True)\n",
    "bfgs_loss,bfgs_tot_loss,bfgs_time=BFGS_iter(W,Y,x,batchsize,DIM,device,rec_num=0,standard='mean',acc=1e-6,plot=True)\n",
    "x = torch.zeros((batchsize,DIM),device=device,requires_grad=True)\n",
    "lstm_loss,lstm_tot_loss,lstm_time=LSTM_iter(W,Y,x,batchsize,DIM,device,rec_num=0,standard='mean',acc=1e-6,plot=True)\n",
    "print('bfgs_time',bfgs_time)\n",
    "print('lstm_time',lstm_time)\n",
    "#grad_loss,grad_tot_loss,grad_time=gradient_iter(W,Y,x,batchsize,DIM,device,rec_num=0,standard='mean',acc=1e-6,plot=True)\n",
    "plt.legend()"
   ]
  },
  {
   "cell_type": "code",
   "execution_count": 79,
   "id": "ec7ab9d9-b152-4a99-9585-18b01f6fb75b",
   "metadata": {
    "tags": []
   },
   "outputs": [
    {
     "data": {
      "image/png": "[encoded data removed]",
      "text/plain": [
       "<Figure size 640x480 with 1 Axes>"
      ]
     },
     "metadata": {},
     "output_type": "display_data"
    }
   ],
   "source": [
    "lstm_loss,lstm_tot_loss,lstm_time=LSTM_iter(W,Y,x,batchsize,DIM,device,rec_num=0,standard='mean',acc=1e-6,plot=True)"
   ]
  },
  {
   "cell_type": "markdown",
   "id": "b356cefe-a96f-4ac1-89ca-5ed169a6a9d0",
   "metadata": {},
   "source": [
    "## Train LSTM"
   ]
  },
  {
   "cell_type": "code",
   "execution_count": 34,
   "id": "0693e026-49fe-4ef8-94cf-4a86fdc42fcc",
   "metadata": {
    "tags": []
   },
   "outputs": [],
   "source": [
    "def RUN(W,Y,x,batchsize,DIM,steps=40,eps=10,reset=True):\n",
    "    if reset:\n",
    "        x = torch.zeros((batchsize,DIM),device=device,requires_grad=True)\n",
    "    x.requires_grad=True\n",
    "    state=None#初始化LSTM hidden state\n",
    "    H=torch.eye(DIM, device=x.device, dtype=x.dtype,requires_grad=True).unsqueeze(0).expand(batchsize, -1, -1)\n",
    "    mem_loss=[]#初始化loss的list\n",
    "    loss=f(W,Y,x)#每个case的loss\n",
    "    global_loss_graph = 0#记录每个迭代的总loss 用于后向传播\n",
    "    lossmean=loss.mean()#总loss的平均值\n",
    "\n",
    "    global_loss_graph+=lossmean\n",
    "    mem_loss.append(lossmean.clone().detach())\n",
    "    lossmean.backward(retain_graph=True)\n",
    "    g = x.grad.clone()#g detach掉\n",
    "    d=-torch.matmul(H,g.unsqueeze(2))\n",
    "    k=0\n",
    "    #print(loss)\n",
    "    for i in range(steps):\n",
    "        g_pre=g.clone()# 保存g作为上一次的g，此时g_pre不在计算图中\n",
    "        alpha=strong_wolfe(W,Y,batchsize,f, x, d, loss, g, c1=1e-4, c2=0.9, max_iter=10,device=device)\n",
    "        alpha.detach_()\n",
    "        update=alpha*d.squeeze()\n",
    "        # update=d.squeeze()\n",
    "        x=x+update\n",
    "        x.retain_grad()\n",
    "        loss=f(W,Y,x)\n",
    "        lossmean=loss.mean()\n",
    "        global_loss_graph+=lossmean\n",
    "        mem_loss.append(lossmean.clone().detach())\n",
    "        #print(mem_loss[0])\n",
    "        lossmean.backward(retain_graph=True)\n",
    "        #print([i.grad for i in LSTM_motify.parameters()])\n",
    "        #print(g)\n",
    "        g = x.grad.clone()\n",
    "        #print(torch.norm(g,dim=1).mean())\n",
    "        if(sum(torch.norm(g,dim=1)<acc)>0):\n",
    "            break\n",
    "        #print(B.H)\n",
    "        input_vec=torch.cat((g,update),dim=1).unsqueeze(0)\n",
    "        #print(input_vec.is_leaf)\n",
    "        motify,state=LSTM_motify(input_vec,state)\n",
    "        deltaH=motify.reshape((batchsize, DIM, DIM))\n",
    "        H = H.clone().detach() + deltaH*deltaH.transpose(1, 2)\n",
    "        H.retain_grad()\n",
    "        d=-torch.matmul(H,g.unsqueeze(2))\n",
    "        k+=1\n",
    "    # plt.plot([i.cpu().detach().numpy() for i in mem_loss],label='LSTM_before_train')\n",
    "\n",
    "    return mem_loss,global_loss_graph,x"
   ]
  },
  {
   "cell_type": "code",
   "execution_count": 35,
   "id": "3ac745a9-94ff-4c5b-8954-c3f46da74e80",
   "metadata": {
    "tags": []
   },
   "outputs": [],
   "source": [
    "def global_training(Global_Train_Steps,substeps,eachsteps,motifier):\n",
    "    global_loss_list = []    \n",
    "    adam_global_optimizer = torch.optim.Adam(motifier.parameters(),lr = 0.0001)\n",
    "    W = torch.randn((batchsize, DIM, DIM), device=device) # represents IID\n",
    "    Y = torch.randn((batchsize,DIM),device=device)\n",
    "    x = torch.zeros((batchsize,DIM),device=device,requires_grad=True)\n",
    "    _,global_loss_1,x = RUN(W,Y,x,batchsize,DIM,steps=eachsteps)\n",
    "    print(global_loss_1)\n",
    "    for i in tqdm(range(Global_Train_Steps)):\n",
    "        W = torch.randn((batchsize, DIM, DIM), device=device) # represents IID\n",
    "        Y = torch.randn((batchsize,DIM),device=device)\n",
    "        subiterloss=0\n",
    "        for j in range(substeps):\n",
    "            resetflag=(j==0)\n",
    "            _,global_loss,x = RUN(W,Y,x.clone().detach(),batchsize,DIM,steps=eachsteps,reset=resetflag)\n",
    "            subiterloss+=global_loss\n",
    "            adam_global_optimizer.zero_grad()\n",
    "            global_loss.backward() #每次都是优化这个固定的图，不可以释放动态图的缓存\n",
    "            #print('xxx',[z.shape for z in motifier.parameters()  ])\n",
    "            adam_global_optimizer.step()\n",
    "        #print('iteration:{},mean_loss:{}'.format(i,subiterloss))\n",
    "        #print('xxx',[(z.grad,z.requires_grad) for z in motifier.parameters()  ])\n",
    "        global_loss_list.append(global_loss.detach_())\n",
    "        \n",
    "    print(global_loss)\n",
    "    return global_loss_list\n"
   ]
  },
  {
   "cell_type": "code",
   "execution_count": 37,
   "id": "cc4f453f-a2a3-4715-9cc7-77b834b211cf",
   "metadata": {
    "tags": []
   },
   "outputs": [
    {
     "name": "stdout",
     "output_type": "stream",
     "text": [
      "tensor(218.5561, device='cuda:0', grad_fn=<AddBackward0>)\n"
     ]
    },
    {
     "name": "stderr",
     "output_type": "stream",
     "text": [
      "100%|████████████████████████████████████████████████████████████████████████████████| 200/200 [26:33<00:00,  7.97s/it]"
     ]
    },
    {
     "name": "stdout",
     "output_type": "stream",
     "text": [
      "tensor(0.7663, device='cuda:0')\n"
     ]
    },
    {
     "name": "stderr",
     "output_type": "stream",
     "text": [
      "\n"
     ]
    },
    {
     "data": {
      "text/plain": [
       "[tensor(78.8719, device='cuda:0'),\n",
       " tensor(84.2642, device='cuda:0'),\n",
       " tensor(64.4749, device='cuda:0'),\n",
       " tensor(90.3973, device='cuda:0'),\n",
       " tensor(69.6428, device='cuda:0'),\n",
       " tensor(92.6269, device='cuda:0'),\n",
       " tensor(79.3112, device='cuda:0'),\n",
       " tensor(100.5954, device='cuda:0'),\n",
       " tensor(73.2922, device='cuda:0'),\n",
       " tensor(73.4526, device='cuda:0'),\n",
       " tensor(77.2494, device='cuda:0'),\n",
       " tensor(77.9293, device='cuda:0'),\n",
       " tensor(76.6255, device='cuda:0'),\n",
       " tensor(68.9559, device='cuda:0'),\n",
       " tensor(73.0712, device='cuda:0'),\n",
       " tensor(94.4944, device='cuda:0'),\n",
       " tensor(64.0223, device='cuda:0'),\n",
       " tensor(67.4601, device='cuda:0'),\n",
       " tensor(66.6294, device='cuda:0'),\n",
       " tensor(77.8030, device='cuda:0'),\n",
       " tensor(78.2618, device='cuda:0'),\n",
       " tensor(62.2124, device='cuda:0'),\n",
       " tensor(73.6540, device='cuda:0'),\n",
       " tensor(68.1212, device='cuda:0'),\n",
       " tensor(66.2293, device='cuda:0'),\n",
       " tensor(75.7747, device='cuda:0'),\n",
       " tensor(63.6888, device='cuda:0'),\n",
       " tensor(93.2399, device='cuda:0'),\n",
       " tensor(69.8896, device='cuda:0'),\n",
       " tensor(63.4425, device='cuda:0'),\n",
       " tensor(74.2098, device='cuda:0'),\n",
       " tensor(57.9786, device='cuda:0'),\n",
       " tensor(75.0483, device='cuda:0'),\n",
       " tensor(60.4726, device='cuda:0'),\n",
       " tensor(80.1468, device='cuda:0'),\n",
       " tensor(52.8494, device='cuda:0'),\n",
       " tensor(64.2330, device='cuda:0'),\n",
       " tensor(58.2725, device='cuda:0'),\n",
       " tensor(53.4898, device='cuda:0'),\n",
       " tensor(52.6621, device='cuda:0'),\n",
       " tensor(52.9906, device='cuda:0'),\n",
       " tensor(70.3997, device='cuda:0'),\n",
       " tensor(59.8633, device='cuda:0'),\n",
       " tensor(60.8374, device='cuda:0'),\n",
       " tensor(46.1670, device='cuda:0'),\n",
       " tensor(49.8416, device='cuda:0'),\n",
       " tensor(63.0749, device='cuda:0'),\n",
       " tensor(58.2296, device='cuda:0'),\n",
       " tensor(57.0956, device='cuda:0'),\n",
       " tensor(46.8998, device='cuda:0'),\n",
       " tensor(53.3156, device='cuda:0'),\n",
       " tensor(52.1717, device='cuda:0'),\n",
       " tensor(44.0011, device='cuda:0'),\n",
       " tensor(43.1502, device='cuda:0'),\n",
       " tensor(15.2950, device='cuda:0'),\n",
       " tensor(24.0713, device='cuda:0'),\n",
       " tensor(22.0322, device='cuda:0'),\n",
       " tensor(45.2900, device='cuda:0'),\n",
       " tensor(53.7536, device='cuda:0'),\n",
       " tensor(16.2767, device='cuda:0'),\n",
       " tensor(21.3904, device='cuda:0'),\n",
       " tensor(4.8798, device='cuda:0'),\n",
       " tensor(1.1317, device='cuda:0'),\n",
       " tensor(43.4521, device='cuda:0'),\n",
       " tensor(44.4020, device='cuda:0'),\n",
       " tensor(1.4279, device='cuda:0'),\n",
       " tensor(16.3738, device='cuda:0'),\n",
       " tensor(19.6645, device='cuda:0'),\n",
       " tensor(12.2097, device='cuda:0'),\n",
       " tensor(20.5125, device='cuda:0'),\n",
       " tensor(32.1124, device='cuda:0'),\n",
       " tensor(13.6528, device='cuda:0'),\n",
       " tensor(17.8635, device='cuda:0'),\n",
       " tensor(33.3583, device='cuda:0'),\n",
       " tensor(35.8222, device='cuda:0'),\n",
       " tensor(4.2316, device='cuda:0'),\n",
       " tensor(1.5544, device='cuda:0'),\n",
       " tensor(64.0193, device='cuda:0'),\n",
       " tensor(45.6633, device='cuda:0'),\n",
       " tensor(2.1627, device='cuda:0'),\n",
       " tensor(9.0172, device='cuda:0'),\n",
       " tensor(1.5192, device='cuda:0'),\n",
       " tensor(13.6510, device='cuda:0'),\n",
       " tensor(23.6999, device='cuda:0'),\n",
       " tensor(1.4508, device='cuda:0'),\n",
       " tensor(0.9574, device='cuda:0'),\n",
       " tensor(13.2884, device='cuda:0'),\n",
       " tensor(44.7922, device='cuda:0'),\n",
       " tensor(48.9887, device='cuda:0'),\n",
       " tensor(56.9130, device='cuda:0'),\n",
       " tensor(39.9076, device='cuda:0'),\n",
       " tensor(37.4089, device='cuda:0'),\n",
       " tensor(2.6525, device='cuda:0'),\n",
       " tensor(0.6806, device='cuda:0'),\n",
       " tensor(8.8108, device='cuda:0'),\n",
       " tensor(2.5644, device='cuda:0'),\n",
       " tensor(44.2519, device='cuda:0'),\n",
       " tensor(1.6906, device='cuda:0'),\n",
       " tensor(25.0302, device='cuda:0'),\n",
       " tensor(27.0745, device='cuda:0'),\n",
       " tensor(43.1380, device='cuda:0'),\n",
       " tensor(0.9461, device='cuda:0'),\n",
       " tensor(2.5050, device='cuda:0'),\n",
       " tensor(1.4382, device='cuda:0'),\n",
       " tensor(16.4950, device='cuda:0'),\n",
       " tensor(27.8833, device='cuda:0'),\n",
       " tensor(7.4039, device='cuda:0'),\n",
       " tensor(14.8368, device='cuda:0'),\n",
       " tensor(11.3211, device='cuda:0'),\n",
       " tensor(20.8207, device='cuda:0'),\n",
       " tensor(15.2318, device='cuda:0'),\n",
       " tensor(14.4351, device='cuda:0'),\n",
       " tensor(0.6388, device='cuda:0'),\n",
       " tensor(30.6577, device='cuda:0'),\n",
       " tensor(30.1087, device='cuda:0'),\n",
       " tensor(47.9079, device='cuda:0'),\n",
       " tensor(33.8879, device='cuda:0'),\n",
       " tensor(2.5875, device='cuda:0'),\n",
       " tensor(52.3368, device='cuda:0'),\n",
       " tensor(27.6747, device='cuda:0'),\n",
       " tensor(10.2523, device='cuda:0'),\n",
       " tensor(1.5288, device='cuda:0'),\n",
       " tensor(33.7817, device='cuda:0'),\n",
       " tensor(12.9397, device='cuda:0'),\n",
       " tensor(1.4649, device='cuda:0'),\n",
       " tensor(41.1719, device='cuda:0'),\n",
       " tensor(24.0531, device='cuda:0'),\n",
       " tensor(0.9633, device='cuda:0'),\n",
       " tensor(0.7289, device='cuda:0'),\n",
       " tensor(1.0326, device='cuda:0'),\n",
       " tensor(16.8968, device='cuda:0'),\n",
       " tensor(47.1524, device='cuda:0'),\n",
       " tensor(0.8609, device='cuda:0'),\n",
       " tensor(45.5230, device='cuda:0'),\n",
       " tensor(3.3206, device='cuda:0'),\n",
       " tensor(34.5047, device='cuda:0'),\n",
       " tensor(38.1442, device='cuda:0'),\n",
       " tensor(0.7605, device='cuda:0'),\n",
       " tensor(31.3407, device='cuda:0'),\n",
       " tensor(0.7872, device='cuda:0'),\n",
       " tensor(2.4108, device='cuda:0'),\n",
       " tensor(32.9775, device='cuda:0'),\n",
       " tensor(0.8525, device='cuda:0'),\n",
       " tensor(16.5029, device='cuda:0'),\n",
       " tensor(2.6490, device='cuda:0'),\n",
       " tensor(0.8651, device='cuda:0'),\n",
       " tensor(9.3368, device='cuda:0'),\n",
       " tensor(21.3902, device='cuda:0'),\n",
       " tensor(0.9845, device='cuda:0'),\n",
       " tensor(1.9467, device='cuda:0'),\n",
       " tensor(8.3799, device='cuda:0'),\n",
       " tensor(33.7277, device='cuda:0'),\n",
       " tensor(42.3163, device='cuda:0'),\n",
       " tensor(0.9007, device='cuda:0'),\n",
       " tensor(36.1053, device='cuda:0'),\n",
       " tensor(0.9224, device='cuda:0'),\n",
       " tensor(0.9007, device='cuda:0'),\n",
       " tensor(1.1370, device='cuda:0'),\n",
       " tensor(0.9136, device='cuda:0'),\n",
       " tensor(22.9715, device='cuda:0'),\n",
       " tensor(16.9425, device='cuda:0'),\n",
       " tensor(28.9410, device='cuda:0'),\n",
       " tensor(34.6450, device='cuda:0'),\n",
       " tensor(40.7638, device='cuda:0'),\n",
       " tensor(21.7839, device='cuda:0'),\n",
       " tensor(1.1176, device='cuda:0'),\n",
       " tensor(1.0114, device='cuda:0'),\n",
       " tensor(4.1121, device='cuda:0'),\n",
       " tensor(1.3095, device='cuda:0'),\n",
       " tensor(42.9417, device='cuda:0'),\n",
       " tensor(2.9711, device='cuda:0'),\n",
       " tensor(39.8586, device='cuda:0'),\n",
       " tensor(27.0204, device='cuda:0'),\n",
       " tensor(3.5107, device='cuda:0'),\n",
       " tensor(25.7800, device='cuda:0'),\n",
       " tensor(4.7857, device='cuda:0'),\n",
       " tensor(15.2777, device='cuda:0'),\n",
       " tensor(0.8677, device='cuda:0'),\n",
       " tensor(21.4165, device='cuda:0'),\n",
       " tensor(35.7819, device='cuda:0'),\n",
       " tensor(0.9658, device='cuda:0'),\n",
       " tensor(32.0009, device='cuda:0'),\n",
       " tensor(1.2191, device='cuda:0'),\n",
       " tensor(36.5804, device='cuda:0'),\n",
       " tensor(1.5630, device='cuda:0'),\n",
       " tensor(0.9376, device='cuda:0'),\n",
       " tensor(1.0624, device='cuda:0'),\n",
       " tensor(22.7965, device='cuda:0'),\n",
       " tensor(0.9689, device='cuda:0'),\n",
       " tensor(28.4141, device='cuda:0'),\n",
       " tensor(1.1921, device='cuda:0'),\n",
       " tensor(0.8967, device='cuda:0'),\n",
       " tensor(1.3174, device='cuda:0'),\n",
       " tensor(15.1920, device='cuda:0'),\n",
       " tensor(1.0199, device='cuda:0'),\n",
       " tensor(19.3547, device='cuda:0'),\n",
       " tensor(1.1375, device='cuda:0'),\n",
       " tensor(1.4480, device='cuda:0'),\n",
       " tensor(36.0947, device='cuda:0'),\n",
       " tensor(0.7663, device='cuda:0')]"
      ]
     },
     "execution_count": 37,
     "metadata": {},
     "output_type": "execute_result"
    }
   ],
   "source": [
    "global_training(200,3,100,LSTM_motify)"
   ]
  },
  {
   "cell_type": "code",
   "execution_count": 18,
   "id": "a693c83c-38d9-46a6-9710-715191ede294",
   "metadata": {},
   "outputs": [],
   "source": [
    "# W = torch.randn((batchsize, DIM, DIM), device=device) # represents IID\n",
    "# Y = torch.randn((batchsize,DIM),device=device)\n",
    "# x = torch.zeros((batchsize,DIM),device=device,requires_grad=True)\n",
    "\n",
    "# state=None#初始化LSTM hidden state\n",
    "# H=torch.eye(DIM, device=x.device, dtype=x.dtype,requires_grad=True).unsqueeze(0).expand(batchsize, -1, -1)\n",
    "# steps=20\n",
    "# mem_loss=[]#初始化loss的list\n",
    "# loss=f(W,Y,x)#每个case的loss\n",
    "# global_loss_graph = 0#记录每个迭代的总loss 用于后向传播\n",
    "# lossmean=loss.mean()#总loss的平均值\n",
    "\n",
    "# global_loss_graph+=lossmean\n",
    "# mem_loss.append(lossmean.clone().detach())\n",
    "\n",
    "# lossmean.backward(retain_graph=True)\n",
    "# g = x.grad.clone()#g detach掉\n",
    "# d=-torch.matmul(H,g.unsqueeze(2))\n",
    "# k=0\n",
    "# #print(loss)\n",
    "# for i in range(steps):\n",
    "#     g_pre=g.clone()# 保存g作为上一次的g，此时g_pre不在计算图中\n",
    "#     # alpha=strong_wolfe(W,Y,batchsize,f, x, d, loss, g, c1=1e-4, c2=0.9, max_iter=10,device=device)\n",
    "#     # alpha.detach_()\n",
    "#     # update=alpha*d.squeeze()\n",
    "#     update=d.squeeze()\n",
    "#     x=x+update\n",
    "#     x.retain_grad()\n",
    "#     loss=f(W,Y,x)\n",
    "#     lossmean=loss.mean()\n",
    "#     global_loss_graph+=lossmean\n",
    "#     mem_loss.append(lossmean.clone().detach())\n",
    "#     #print(mem_loss[0])\n",
    "#     lossmean.backward(retain_graph=True)\n",
    "#     print([i.grad for i in LSTM_motify.parameters()])\n",
    "#     #print(g)\n",
    "#     g = x.grad.clone()\n",
    "#     #print(torch.norm(g,dim=1).mean())\n",
    "#     if(sum(torch.norm(g,dim=1)<acc)>0):\n",
    "#         break\n",
    "#     #print(B.H)\n",
    "#     input_vec=torch.cat((g,update),dim=1).unsqueeze(0)\n",
    "#     #print(input_vec.is_leaf)\n",
    "#     motify,state=LSTM_motify(input_vec,state)\n",
    "#     H = H.clone() + motify.reshape((batchsize, DIM, DIM))\n",
    "#     H.retain_grad()\n",
    "#     d=-torch.matmul(H,g.unsqueeze(2))\n",
    "#     k+=1\n",
    "# plt.plot([i.cpu().detach().numpy() for i in mem_loss],label='LSTM_before_train')"
   ]
  },
  {
   "cell_type": "code",
   "execution_count": 38,
   "id": "994c1222-8b14-4cd7-9604-e560558cf8a8",
   "metadata": {},
   "outputs": [
    {
     "name": "stdout",
     "output_type": "stream",
     "text": [
      "40\n",
      "40\n"
     ]
    },
    {
     "data": {
      "image/png": "[encoded data removed]",
      "text/plain": [
       "<Figure size 640x480 with 1 Axes>"
      ]
     },
     "metadata": {},
     "output_type": "display_data"
    }
   ],
   "source": [
    "W = torch.randn((batchsize, DIM, DIM), device=device) # represents IID\n",
    "Y = torch.randn((batchsize,DIM),device=device)\n",
    "x = torch.zeros((batchsize,DIM),device=device,requires_grad=True)\n",
    "steps=40\n",
    "state=None\n",
    "H=BFGS(batchsize,DIM,device).I\n",
    "mem_loss=[]\n",
    "loss=f(W,Y,x)\n",
    "acc=1e-6\n",
    "mem_loss.append(loss.mean())\n",
    "g=torch.autograd.grad(loss.mean(),x)[0]\n",
    "d=-torch.matmul(B.H,g.unsqueeze(2))\n",
    "k=0\n",
    "#print(loss)\n",
    "for i in range(steps):\n",
    "    g_pre=g\n",
    "    alpha=strong_wolfe(W,Y,batchsize,f, x, d, loss, g, c1=1e-4, c2=0.9, max_iter=10,device=device)\n",
    "    update=alpha*(d.squeeze())\n",
    "    x=x+update\n",
    "    loss=f(W,Y,x)\n",
    "    mem_loss.append(loss.mean())\n",
    "    g=torch.autograd.grad(loss.mean(),x)[0]\n",
    "    #print(torch.norm(g,dim=1).mean())\n",
    "    if(sum(torch.norm(g,dim=1)<acc)>0):\n",
    "        break\n",
    "    d=-torch.matmul(H,g.unsqueeze(2))\n",
    "    #print(B.H)\n",
    "    input_vec=torch.cat((g,update),dim=1).unsqueeze(0)\n",
    "    motify,state=LSTM_motify(input_vec,state)\n",
    "    delta_H=motify.reshape((batchsize, DIM, DIM))\n",
    "    H = H.clone().detach() + 1/2*(delta_H+delta_H.transpose(-2,-1))\n",
    "    k+=1\n",
    "    \n",
    "print(k)    \n",
    "plt.plot([i.cpu().detach().numpy() for i in mem_loss],label='LSTM_before_train')  \n",
    "x = torch.zeros((batchsize,DIM),device=device,requires_grad=True)\n",
    "steps=40\n",
    "B=BFGS(batchsize,DIM,device)\n",
    "mem_loss=[]\n",
    "loss=f(W,Y,x)\n",
    "acc=1e-6\n",
    "mem_loss.append(loss.mean())\n",
    "g=torch.autograd.grad(loss.mean(),x)[0]\n",
    "d=-torch.matmul(B.H,g.unsqueeze(2))\n",
    "k=0\n",
    "#print(loss)\n",
    "for i in range(steps):\n",
    "    g_pre=g\n",
    "    alpha=strong_wolfe(W,Y,batchsize,f, x, d, loss, g, c1=1e-4, c2=0.9, max_iter=10,device=device)\n",
    "    update=alpha*(d.squeeze())\n",
    "    x=x+update\n",
    "    loss=f(W,Y,x)\n",
    "    mem_loss.append(loss.mean())\n",
    "    g=torch.autograd.grad(loss.mean(),x)[0]\n",
    "    #print(torch.norm(g,dim=1).mean())\n",
    "    if(sum(torch.norm(g,dim=1)<acc)>0):\n",
    "        break\n",
    "    d=-torch.matmul(B.H,g.unsqueeze(2))\n",
    "    #print(B.H)\n",
    "    B.H_BFDS_update(update,g-g_pre)\n",
    "    k+=1\n",
    "    \n",
    "print(k)    \n",
    "plt.plot([i.cpu().detach().numpy() for i in mem_loss],label='BFGS')  \n",
    "plt.legend()\n",
    "\n",
    "plt.show()"
   ]
  },
  {
   "cell_type": "code",
   "execution_count": null,
   "id": "1371da30-dce6-4b04-a74f-3ecd75c228de",
   "metadata": {},
   "outputs": [],
   "source": []
  }
 ],
 "metadata": {
  "kernelspec": {
   "display_name": "pytor_minimax",
   "language": "python",
   "name": "python3"
  },
  "language_info": {
   "codemirror_mode": {
    "name": "ipython",
    "version": 3
   },
   "file_extension": ".py",
   "mimetype": "text/x-python",
   "name": "python",
   "nbconvert_exporter": "python",
   "pygments_lexer": "ipython3",
   "version": "3.9.18"
  }
 },
 "nbformat": 4,
 "nbformat_minor": 5
}
