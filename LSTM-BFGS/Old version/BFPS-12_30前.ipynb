{
 "cells": [
  {
   "cell_type": "code",
   "execution_count": 1,
   "id": "74910e75-5e32-4c99-832a-5087f95878be",
   "metadata": {
    "tags": []
   },
   "outputs": [],
   "source": [
    "import torch\n",
    "import torchmin.bfgs as bfs\n",
    "import matplotlib.pyplot as plt\n",
    "import numpy as np\n",
    "from tqdm import tqdm\n",
    "import torchmin.benchmarks as bm\n",
    "from opti_utils import BFGS,strong_wolfe,f,logistic"
   ]
  },
  {
   "cell_type": "code",
   "execution_count": 2,
   "id": "d9f683ef-5132-4628-adee-4d30b64c1a9a",
   "metadata": {
    "tags": []
   },
   "outputs": [],
   "source": [
    "batchsize=128\n",
    "DIM=10"
   ]
  },
  {
   "cell_type": "code",
   "execution_count": 3,
   "id": "44242f42-0628-4491-aff1-82800050ccdb",
   "metadata": {
    "tags": []
   },
   "outputs": [
    {
     "data": {
      "text/plain": [
       "True"
      ]
     },
     "execution_count": 3,
     "metadata": {},
     "output_type": "execute_result"
    }
   ],
   "source": [
    "USE_CUDA=False\n",
    "if torch.cuda.is_available():\n",
    "    USE_CUDA=True\n",
    "    device = torch.device(\"cuda\" if torch.cuda.is_available() else \"cpu\")\n",
    "USE_CUDA"
   ]
  },
  {
   "cell_type": "markdown",
   "id": "5cc68c04-8a12-4a85-842e-927fc462ac69",
   "metadata": {},
   "source": [
    "## Define objective function\n",
    "Considering linear search is useful, we define 2 kinds of loss funtion.<br>\n",
    "- loss for each samples in this batch\n",
    "- mean loss for this batch"
   ]
  },
  {
   "cell_type": "code",
   "execution_count": 4,
   "id": "9e756632-08ad-4018-8859-d334367f1107",
   "metadata": {
    "tags": []
   },
   "outputs": [],
   "source": [
    "# define a logistic regression function\n",
    "def f(W,Y,x):\n",
    "    \"\"\"quadratic function : f(\\theta) = \\|W\\theta - y\\|_2^2\"\"\"\n",
    "    if USE_CUDA:\n",
    "        W = W.cuda()\n",
    "        Y = Y.cuda()\n",
    "        x = x.cuda()\n",
    "\n",
    "    return ((torch.matmul(W,x.unsqueeze(-1)).squeeze()-Y)**2).sum(dim=1)\n",
    "\n",
    "def logistic(A,b,x,lamb,n):\n",
    "    sig=torch.sigmoid(torch.matmul(A,x.unsqueeze(-1)).squeeze())\n",
    "    return (-b*torch.log(sig)+(1-b)*torch.log(1-sig)).mean(dim=1)+lamb/n*torch.norm(x,dim=-1)"
   ]
  },
  {
   "cell_type": "markdown",
   "id": "87b9c859-f39e-4076-9f2e-a4aa8d4f7dfc",
   "metadata": {},
   "source": [
    "## BFGS update iteration"
   ]
  },
  {
   "cell_type": "code",
   "execution_count": 5,
   "id": "4808477a-745e-49aa-bcef-cc05230053d2",
   "metadata": {},
   "outputs": [],
   "source": [
    "class BFGS:\n",
    "    def __init__(self,batchsize,DIM,device):\n",
    "        self.I = torch.eye(DIM, device=x.device, dtype=x.dtype,requires_grad=True).unsqueeze(0).expand(batchsize, -1, -1)\n",
    "        self.H = self.I.clone()\n",
    "    def H_BFDS_update(self,s,y):\n",
    "        st=s.unsqueeze(1)\n",
    "        s=s.unsqueeze(2)\n",
    "        yt=y.unsqueeze(1)\n",
    "        y=y.unsqueeze(2)\n",
    "        sy=torch.matmul(s,yt)\n",
    "        ss=torch.matmul(s,st)\n",
    "        yst=torch.matmul(y,st)\n",
    "        yts=torch.matmul(yt,s)\n",
    "        #print(yts.min())\n",
    "        yHy=torch.matmul(torch.matmul(yt,self.H),y)\n",
    "        self.H=self.H-(torch.matmul(sy,self.H)+torch.matmul(self.H,yst))/yts+(yHy/yts+1)*ss/yts\n",
    "        #print(self.H)"
   ]
  },
  {
   "cell_type": "markdown",
   "id": "f2a99a22-d7a4-4abe-884b-1fd847b6cabe",
   "metadata": {},
   "source": [
    "## Linear search (Strong Wolfe)"
   ]
  },
  {
   "cell_type": "code",
   "execution_count": 6,
   "id": "f279cc3b-cc05-4c15-ae2d-f73d0f1ea838",
   "metadata": {
    "tags": []
   },
   "outputs": [],
   "source": [
    "import torch\n",
    "\n",
    "def strong_wolfe(W,Y,batchsize,f, x, step_dir, loss, grad, device, c1=1e-4, c2=0.9, max_iter=10):\n",
    "    \"\"\"\n",
    "    Strong Wolfe Line Search\n",
    "    Args:\n",
    "    - f: Function to be optimized\n",
    "    - x: Current point\n",
    "    - step_dir: Search direction\n",
    "    - loss: Loss at current point\n",
    "    - grad: Gradient at current point\n",
    "    - c1: Armijo condition parameter\n",
    "    - c2: Curvature condition parameter\n",
    "    - max_iter: Maximum number of iterations\n",
    "\n",
    "    Returns:\n",
    "    - step_size: Calculated step size\n",
    "    \"\"\"\n",
    "\n",
    "    # Initialize step size\n",
    "    step_size = torch.ones((batchsize,1),device=device)\n",
    "    grad=grad.unsqueeze(1)\n",
    "    #print(step_dir.shape)\n",
    "    #step_dir=step_dir.unsqueeze(2)\n",
    "    for i in range(max_iter):\n",
    "        new_loss = f(W,Y,x + step_size * step_dir.squeeze())\n",
    "        \n",
    "        armijo_condition = new_loss > loss + c1 * step_size.squeeze() * torch.matmul(grad, step_dir).squeeze()\n",
    "        #print(armijo_condition.shape)\n",
    "        new_grad = torch.autograd.grad(new_loss.mean(), x)[0]\n",
    "        curvature_condition = torch.matmul(new_grad.unsqueeze(1), step_dir).squeeze() < c2 * torch.matmul(grad, step_dir).squeeze()\n",
    "\n",
    "        if torch.sum(armijo_condition)==0 and torch.sum(curvature_condition)==0:\n",
    "            return step_size\n",
    "        elif torch.sum(armijo_condition)>0:\n",
    "            step_size[armijo_condition] *= 0.5  # Reduce step size by half\n",
    "        elif torch.sum(curvature_condition)>0:\n",
    "            step_size[curvature_condition] *= 2.0  # Double step size\n",
    "\n",
    "    return step_size  # Return step size after maximum iterations reached\n",
    "\n",
    "# Usage Example:\n",
    "# Define your function f, starting point x, loss, gradient, and search direction\n",
    "# Then call strong_wolfe function to get the step size\n",
    "# step_size = strong_wolfe(f, x, step_dir, loss, grad)\n"
   ]
  },
  {
   "cell_type": "markdown",
   "id": "e08bea06-7079-4716-b5ae-6e5cd077f22e",
   "metadata": {},
   "source": [
    "## BFGS"
   ]
  },
  {
   "cell_type": "code",
   "execution_count": 9,
   "id": "d65e496e-fb47-4105-882a-8767f08b2f92",
   "metadata": {
    "tags": []
   },
   "outputs": [
    {
     "name": "stdout",
     "output_type": "stream",
     "text": [
      "200\n"
     ]
    },
    {
     "data": {
      "text/plain": [
       "[<matplotlib.lines.Line2D at 0x1ed12c02dc0>]"
      ]
     },
     "execution_count": 9,
     "metadata": {},
     "output_type": "execute_result"
    },
    {
     "data": {
      "image/png": "[encoded data removed]",
      "text/plain": [
       "<Figure size 640x480 with 1 Axes>"
      ]
     },
     "metadata": {},
     "output_type": "display_data"
    }
   ],
   "source": [
    "W = torch.randn((batchsize, DIM, DIM), device=device) # represents IID\n",
    "Y = torch.randn((batchsize,DIM),device=device)\n",
    "x = torch.zeros((batchsize,DIM),device=device,requires_grad=True)\n",
    "\n",
    "steps=200\n",
    "B=BFGS(batchsize,DIM,device)\n",
    "mem_loss=[]\n",
    "loss=logistic(W,Y,x,1,DIM)\n",
    "acc=1e-6\n",
    "mem_loss.append(loss.mean())\n",
    "g=torch.autograd.grad(loss.mean(),x)[0]\n",
    "d=-torch.matmul(B.H,g.unsqueeze(2))\n",
    "k=0\n",
    "#print(loss)\n",
    "for i in range(steps):\n",
    "    g_pre=g\n",
    "    alpha=strong_wolfe(W,Y,batchsize,f, x, d, loss, g, c1=1e-4, c2=0.9, max_iter=10,device=device)\n",
    "    update=alpha*(d.squeeze())\n",
    "    x=x+update\n",
    "    loss=logistic(W,Y,x,2,DIM)\n",
    "    mem_loss.append(loss.mean())\n",
    "    g=torch.autograd.grad(loss.mean(),x)[0]\n",
    "    #print(torch.norm(g,dim=1).mean())\n",
    "    if(sum(torch.norm(g,dim=1)<acc)>0):\n",
    "        break\n",
    "    d=-torch.matmul(B.H,g.unsqueeze(2))\n",
    "    #print(B.H)\n",
    "    B.H_BFDS_update(update,g-g_pre)\n",
    "    k+=1\n",
    "    \n",
    "print(k)    \n",
    "plt.plot([i.cpu().detach().numpy() for i in mem_loss])  "
   ]
  },
  {
   "cell_type": "markdown",
   "id": "f6734106-e57e-4470-925a-94580b3b5b17",
   "metadata": {},
   "source": [
    "## LSTM define"
   ]
  },
  {
   "cell_type": "code",
   "execution_count": 10,
   "id": "08168494-5d81-4a99-a55a-8a707b0b3dd5",
   "metadata": {},
   "outputs": [],
   "source": [
    "class LSTM_motify(torch.nn.Module):\n",
    "    \"\"\"LSTM修正器\n",
    "       LSTM optimizer\"\"\"\n",
    "    \n",
    "    def __init__(self,input_size,output_size, hidden_size, num_stacks, batchsize,p  = 10 ,preprocess = True, output_scale = 1):\n",
    "        super(LSTM_motify,self).__init__()\n",
    "        self.preprocess_flag = preprocess\n",
    "        self.input_flag = 2\n",
    "        if preprocess != True:\n",
    "             self.input_flag = 1\n",
    "        self.p = p\n",
    "        self.output_scale = output_scale \n",
    "        self.lstm = torch.nn.LSTM(input_size*self.input_flag, hidden_size, num_stacks)\n",
    "        self.Linear = torch.nn.Linear(hidden_size,output_size) #1-> output_size\n",
    "        print(self.preprocess_flag)\n",
    "        \n",
    "    def LogAndSign_Preprocess_Gradient(self,gradients):\n",
    "        \"\"\"\n",
    "        Args:\n",
    "          gradients: `Tensor` of gradients with shape `[d_1, ..., d_n]`.\n",
    "          p       : `p` > 0 is a parameter controlling how small gradients are disregarded \n",
    "        Returns:\n",
    "          `Tensor` with shape `[d_1, ..., d_n-1, 2 * d_n]`. The first `d_n` elements\n",
    "          along the nth dimension correspond to the `log output` \\in [-1,1] and the remaining\n",
    "          `d_n` elements to the `sign output`.\n",
    "        \"\"\"\n",
    "        p  = self.p\n",
    "        log = torch.log(torch.abs(gradients))\n",
    "        clamp_log = torch.clamp(log/p , min = -1.0,max = 1.0)\n",
    "        clamp_sign = torch.clamp(torch.exp(torch.tensor(p))*gradients, min = -1.0, max =1.0)\n",
    "        return torch.cat((clamp_log,clamp_sign),dim = -1) #在gradients的最后一维input_dims拼接\n",
    "    \n",
    "    def Output_motification_And_motify_LSTM_Hidden_State(self, input_gradients, prev_state):\n",
    "        \"\"\"LSTM的核心操作  core operation\n",
    "        coordinate-wise LSTM \"\"\"\n",
    "        if prev_state is None: #init_state\n",
    "            prev_state = (torch.zeros(Layers,batchsize,Hidden_nums),\n",
    "                            torch.zeros(Layers,batchsize,Hidden_nums))\n",
    "            if USE_CUDA :\n",
    "                 prev_state = (torch.zeros(Layers,batchsize,Hidden_nums).cuda(),\n",
    "                            torch.zeros(Layers,batchsize,Hidden_nums).cuda())\n",
    "         \t\t\t\n",
    "        motify , next_state = self.lstm(input_gradients, prev_state)\n",
    "        motify = self.Linear(motify) * self.output_scale # transform the LSTM output to the target output dim \n",
    "        return motify, next_state\n",
    "    \n",
    "    def forward(self,input_data, prev_state):\n",
    "        if USE_CUDA:\n",
    "            input_data = input_data.cuda()\n",
    "        #pytorch requires the `torch.nn.lstm`'s input as（1，batchsize,input_dim）\n",
    "        # original gradient.size()=torch.size[5] ->[1,1,5]\n",
    "        # gradients = move_gradients.unsqueeze(0)\n",
    "        # moves = move.unsqueeze(0)\n",
    "        # combined = torch.cat((moves, gradients), dim=0)\n",
    "        if self.preprocess_flag == True:\n",
    "            #print(input_data.shape)\n",
    "            input_data = self.LogAndSign_Preprocess_Gradient(input_data)\n",
    "        motify , next_state = self.Output_motification_And_motify_LSTM_Hidden_State(input_data , prev_state)\n",
    "        # Squeeze to make it a single batch again.[1,1,5]->[5]\n",
    "        motify = motify.squeeze().squeeze()\n",
    "       \n",
    "        return motify , next_state"
   ]
  },
  {
   "cell_type": "code",
   "execution_count": 11,
   "id": "fa1e2027-13cb-40e0-ba2b-46ba00998085",
   "metadata": {
    "tags": []
   },
   "outputs": [
    {
     "name": "stdout",
     "output_type": "stream",
     "text": [
      "False\n",
      "LSTM_motify(\n",
      "  (lstm): LSTM(20, 20, num_layers=2)\n",
      "  (Linear): Linear(in_features=20, out_features=100, bias=True)\n",
      ")\n"
     ]
    }
   ],
   "source": [
    "Layers = 2\n",
    "Hidden_nums = 20\n",
    "Input_DIM = DIM*2\n",
    "Output_DIM = DIM**2\n",
    "output_scale_value=1\n",
    "\n",
    "#######   构造一个优化器  #######\n",
    "#######  construct a optimizer  #######\n",
    "LSTM_motify = LSTM_motify(Input_DIM, Output_DIM, Hidden_nums ,Layers , batchsize=batchsize,\\\n",
    "                preprocess=False,output_scale=output_scale_value)\n",
    "print(LSTM_motify)\n",
    "\n",
    "if USE_CUDA:\n",
    "    LSTM_optimizer = LSTM_motify.cuda()"
   ]
  },
  {
   "cell_type": "markdown",
   "id": "fe5cfb62-73f2-445d-a237-6bc2a94a59af",
   "metadata": {
    "tags": []
   },
   "source": [
    "## LSTM pre-train vs BFGS"
   ]
  },
  {
   "cell_type": "code",
   "execution_count": 12,
   "id": "417a3f85-a666-440f-9b41-52af8439a3b5",
   "metadata": {
    "tags": []
   },
   "outputs": [],
   "source": [
    "import time"
   ]
  },
  {
   "cell_type": "code",
   "execution_count": 13,
   "id": "e20b5f32-b87e-4880-8f0f-75266d151787",
   "metadata": {},
   "outputs": [],
   "source": [
    "def record(loss,standard='mean',num=0):\n",
    "    if standard=='mean':\n",
    "        return loss.mean()\n",
    "    else:\n",
    "        return loss[num]"
   ]
  },
  {
   "cell_type": "code",
   "execution_count": 14,
   "id": "7c4a352e-1ec0-4062-804c-b04287ee7ffa",
   "metadata": {
    "tags": []
   },
   "outputs": [],
   "source": [
    "def LSTM_iter(W,Y,x,batchsize,DIM,device,standard='mean',rec_num=0,step=50,acc=1e-6,plot=False):    \n",
    "    start_time=time.time()\n",
    "    state=None#初始化LSTM hidden state\n",
    "    H=torch.eye(DIM, device=x.device, dtype=x.dtype,requires_grad=True).unsqueeze(0).expand(batchsize, -1, -1)\n",
    "    mem_loss=[]#初始化loss的list\n",
    "    loss=logistic(W,Y,x,2,DIM)#每个case的loss\n",
    "    global_loss_graph = 0#记录每个迭代的总loss 用于后向传播\n",
    "    lossmean=loss.mean()#总loss的平均值\n",
    "\n",
    "    global_loss_graph+=lossmean\n",
    "    mem_loss.append(loss[rec_num])\n",
    "\n",
    "    lossmean.backward(retain_graph=True)\n",
    "    g = x.grad.clone()#g detach掉\n",
    "    d=-torch.matmul(H,g.unsqueeze(2))\n",
    "    k=0\n",
    "    #print(loss)\n",
    "    for i in range(steps):\n",
    "        g_pre=g.clone()# 保存g作为上一次的g，此时g_pre不在计算图中\n",
    "        alpha=strong_wolfe(W,Y,batchsize,f, x, d, loss, g, c1=1e-4, c2=0.9, max_iter=10,device=device)\n",
    "        alpha.detach_()\n",
    "        update=alpha*d.squeeze()\n",
    "        # update=d.squeeze()\n",
    "        x=x+update\n",
    "        x.retain_grad()\n",
    "        loss=logistic(W,Y,x,2,DIM)\n",
    "        lossmean=loss.mean()\n",
    "        global_loss_graph+=lossmean\n",
    "        mem_loss.append(loss[rec_num])\n",
    "        #print(mem_loss[0])\n",
    "        lossmean.backward(retain_graph=True)\n",
    "        #print([i.grad for i in LSTM_motify.parameters()])\n",
    "        #print(g)\n",
    "        g = x.grad.clone()\n",
    "        #print(torch.norm(g,dim=1).mean())\n",
    "        if(sum(torch.norm(g,dim=1)<acc)>0):\n",
    "            break\n",
    "        #print(B.H)\n",
    "        input_vec=torch.cat((g,update),dim=1).unsqueeze(0)\n",
    "        #print(input_vec.is_leaf)\n",
    "        motify,state=LSTM_motify(input_vec,state)\n",
    "        deltaH=motify.reshape((batchsize, DIM, DIM))\n",
    "        H = H.clone().detach() + deltaH*deltaH.transpose(1, 2)\n",
    "        H.retain_grad()\n",
    "        d=-torch.matmul(H,g.unsqueeze(2))\n",
    "        k+=1\n",
    "    if plot:\n",
    "        plt.plot([i.cpu().detach().numpy() for i in mem_loss],label='LSTM')\n",
    "        end_time = time.time()\n",
    "        LSTM_time = end_time - start_time\n",
    "    return mem_loss,global_loss_graph,LSTM_time"
   ]
  },
  {
   "cell_type": "code",
   "execution_count": 15,
   "id": "89c96bff-17fa-49e2-aa5c-2f385ce2ce78",
   "metadata": {
    "tags": []
   },
   "outputs": [],
   "source": [
    "def BFGS_iter(W,Y,x,batchsize,DIM,device,standard='mean',rec_num=0,step=100,acc=1e-6,plot=False):\n",
    "    start_time=time.time()\n",
    "    B=BFGS(batchsize,DIM,device)\n",
    "    mem_loss=[]\n",
    "    loss=logistic(W,Y,x,2,DIM)\n",
    "    acc=1e-6\n",
    "    global_loss=0\n",
    "    lossmean=loss.mean()\n",
    "    global_loss+=lossmean\n",
    "    mem_loss.append(loss[rec_num])\n",
    "    g=torch.autograd.grad(loss.mean(),x)[0]\n",
    "    d=-torch.matmul(B.H,g.unsqueeze(2))\n",
    "    k=0\n",
    "    #print(loss)\n",
    "    for i in range(steps):\n",
    "        g_pre=g\n",
    "        alpha=strong_wolfe(W,Y,batchsize,f, x, d, loss, g, c1=1e-4, c2=0.9, max_iter=10,device=device)\n",
    "        update=alpha*(d.squeeze())\n",
    "        x=x+update\n",
    "        loss=logistic(W,Y,x,2,DIM)\n",
    "        lossmean=loss.mean()\n",
    "        global_loss+=lossmean\n",
    "        mem_loss.append(loss[rec_num])\n",
    "        g=torch.autograd.grad(lossmean,x)[0]\n",
    "        #print(torch.norm(g,dim=1).mean())\n",
    "        if(sum(torch.norm(g,dim=1)<acc)>0):\n",
    "            break\n",
    "        d=-torch.matmul(B.H,g.unsqueeze(2))\n",
    "        #print(B.H)\n",
    "        B.H_BFDS_update(update,g-g_pre)\n",
    "        k+=1\n",
    "\n",
    "    end_time = time.time()\n",
    "    BFGS_time = end_time - start_time\n",
    "    if plot:\n",
    "        plt.plot([i.cpu().detach().numpy() for i in mem_loss],label='BFGS')  \n",
    "    return mem_loss,global_loss,BFGS_time"
   ]
  },
  {
   "cell_type": "code",
   "execution_count": 16,
   "id": "42730762-98da-4010-b721-bce9dbe74d9d",
   "metadata": {
    "tags": []
   },
   "outputs": [],
   "source": [
    "def gradient_iter(W,Y,x,batchsize,DIM,device,standard='mean',rec_num=0,step=50,acc=1e-6,plot=False):    \n",
    "    start_time=time.time()\n",
    "    mem_loss=[]#初始化loss的list\n",
    "    loss=f(W,Y,x)#每个case的loss\n",
    "    global_loss_graph = 0#记录每个迭代的总loss 用于后向传播\n",
    "    lossmean=loss.mean()#总loss的平均值\n",
    "\n",
    "    global_loss_graph+=lossmean\n",
    "    mem_loss.append(loss[rec_num])\n",
    "\n",
    "    lossmean.backward(retain_graph=True)\n",
    "    g = x.grad\n",
    "    k=0\n",
    "    #print(loss)\n",
    "    for i in range(steps):\n",
    "        # update=d.squeeze()\n",
    "        x=x-g\n",
    "        x.retain_grad()\n",
    "        loss=f(W,Y,x)\n",
    "        lossmean=loss.mean()\n",
    "        global_loss_graph+=lossmean\n",
    "        mem_loss.append(loss[rec_num])\n",
    "        #print(mem_loss[0])\n",
    "        lossmean.backward(retain_graph=True)\n",
    "        #print([i.grad for i in LSTM_motify.parameters()])\n",
    "        #print(g)\n",
    "        g = x.grad\n",
    "        #print(torch.norm(g,dim=1).mean())\n",
    "        if(sum(torch.norm(g,dim=1)<acc)>0):\n",
    "            break\n",
    "        #print(B.H)\n",
    "        #print(input_vec.is_leaf)\n",
    "        k+=1\n",
    "    if plot:\n",
    "        plt.plot([i.cpu().detach().numpy() for i in mem_loss],label='Gradient')\n",
    "        end_time = time.time()\n",
    "        LSTM_time = end_time - start_time\n",
    "    return mem_loss,global_loss_graph,LSTM_time"
   ]
  },
  {
   "cell_type": "code",
   "execution_count": 28,
   "id": "98c4e24a-ed2a-4f95-b18d-b6ef42c9d60e",
   "metadata": {
    "tags": []
   },
   "outputs": [
    {
     "name": "stdout",
     "output_type": "stream",
     "text": [
      "bfgs_time 0.717310905456543\n",
      "lstm_time 0.8518574237823486\n"
     ]
    },
    {
     "data": {
      "text/plain": [
       "<matplotlib.legend.Legend at 0x1edb14af280>"
      ]
     },
     "execution_count": 28,
     "metadata": {},
     "output_type": "execute_result"
    },
    {
     "data": {
      "image/png": "[encoded data removed]",
      "text/plain": [
       "<Figure size 640x480 with 1 Axes>"
      ]
     },
     "metadata": {},
     "output_type": "display_data"
    }
   ],
   "source": [
    "batchsize=1\n",
    "W = torch.randn((batchsize, DIM, DIM), device=device) # represents IID\n",
    "Y = torch.randn((batchsize,DIM),device=device)\n",
    "x = torch.zeros((batchsize,DIM),device=device,requires_grad=True)\n",
    "bfgs_loss,bfgs_tot_loss,bfgs_time=BFGS_iter(W,Y,x,batchsize,DIM,device,rec_num=0,standard='mean',acc=1e-6,plot=True)\n",
    "x = torch.zeros((batchsize,DIM),device=device,requires_grad=True)\n",
    "lstm_loss,lstm_tot_loss,lstm_time=LSTM_iter(W,Y,x,batchsize,DIM,device,rec_num=0,standard='mean',acc=1e-6,plot=True)\n",
    "print('bfgs_time',bfgs_time)\n",
    "print('lstm_time',lstm_time)\n",
    "#grad_loss,grad_tot_loss,grad_time=gradient_iter(W,Y,x,batchsize,DIM,device,rec_num=0,standard='mean',acc=1e-6,plot=True)\n",
    "plt.legend()"
   ]
  },
  {
   "cell_type": "code",
   "execution_count": 18,
   "id": "ec7ab9d9-b152-4a99-9585-18b01f6fb75b",
   "metadata": {
    "tags": []
   },
   "outputs": [
    {
     "data": {
      "image/png": "[encoded data removed]",
      "text/plain": [
       "<Figure size 640x480 with 1 Axes>"
      ]
     },
     "metadata": {},
     "output_type": "display_data"
    }
   ],
   "source": [
    "lstm_loss,lstm_tot_loss,lstm_time=LSTM_iter(W,Y,x,batchsize,DIM,device,rec_num=0,standard='mean',acc=1e-6,plot=True)"
   ]
  },
  {
   "cell_type": "markdown",
   "id": "b356cefe-a96f-4ac1-89ca-5ed169a6a9d0",
   "metadata": {},
   "source": [
    "## Train LSTM"
   ]
  },
  {
   "cell_type": "code",
   "execution_count": 19,
   "id": "0693e026-49fe-4ef8-94cf-4a86fdc42fcc",
   "metadata": {
    "tags": []
   },
   "outputs": [],
   "source": [
    "def RUN(W,Y,x,batchsize,DIM,steps=40,eps=10,reset=True):\n",
    "    if reset:\n",
    "        x = torch.zeros((batchsize,DIM),device=device,requires_grad=True)\n",
    "    x.requires_grad=True\n",
    "    state=None#初始化LSTM hidden state\n",
    "    H=torch.eye(DIM, device=x.device, dtype=x.dtype,requires_grad=True).unsqueeze(0).expand(batchsize, -1, -1)\n",
    "    mem_loss=[]#初始化loss的list\n",
    "    loss=f(W,Y,x)#每个case的loss\n",
    "    global_loss_graph = 0#记录每个迭代的总loss 用于后向传播\n",
    "    lossmean=loss.mean()#总loss的平均值\n",
    "\n",
    "    global_loss_graph+=lossmean\n",
    "    mem_loss.append(lossmean.clone().detach())\n",
    "    lossmean.backward(retain_graph=True)\n",
    "    g = x.grad.clone()#g detach掉\n",
    "    d=-torch.matmul(H,g.unsqueeze(2))\n",
    "    k=0\n",
    "    #print(loss)\n",
    "    for i in range(steps):\n",
    "        g_pre=g.clone()# 保存g作为上一次的g，此时g_pre不在计算图中\n",
    "        alpha=strong_wolfe(W,Y,batchsize,f, x, d, loss, g, c1=1e-4, c2=0.9, max_iter=10,device=device)\n",
    "        alpha.detach_()\n",
    "        update=alpha*d.squeeze()\n",
    "        # update=d.squeeze()\n",
    "        x=x+update\n",
    "        x.retain_grad()\n",
    "        loss=f(W,Y,x)\n",
    "        lossmean=loss.mean()\n",
    "        global_loss_graph+=lossmean\n",
    "        mem_loss.append(lossmean.clone().detach())\n",
    "        #print(mem_loss[0])\n",
    "        lossmean.backward(retain_graph=True)\n",
    "        #print([i.grad for i in LSTM_motify.parameters()])\n",
    "        #print(g)\n",
    "        g = x.grad.clone()\n",
    "        #print(torch.norm(g,dim=1).mean())\n",
    "        if(sum(torch.norm(g,dim=1)<acc)>0):\n",
    "            break\n",
    "        #print(B.H)\n",
    "        input_vec=torch.cat((g,update),dim=1).unsqueeze(0)\n",
    "        #print(input_vec.is_leaf)\n",
    "        motify,state=LSTM_motify(input_vec,state)\n",
    "        deltaH=motify.reshape((batchsize, DIM, DIM))\n",
    "        H = H.clone().detach() + deltaH*deltaH.transpose(1, 2)\n",
    "        H.retain_grad()\n",
    "        d=-torch.matmul(H,g.unsqueeze(2))\n",
    "        k+=1\n",
    "    # plt.plot([i.cpu().detach().numpy() for i in mem_loss],label='LSTM_before_train')\n",
    "\n",
    "    return mem_loss,global_loss_graph,x"
   ]
  },
  {
   "cell_type": "code",
   "execution_count": 20,
   "id": "3ac745a9-94ff-4c5b-8954-c3f46da74e80",
   "metadata": {
    "tags": []
   },
   "outputs": [],
   "source": [
    "def global_training(Global_Train_Steps,substeps,eachsteps,motifier):\n",
    "    global_loss_list = []    \n",
    "    adam_global_optimizer = torch.optim.Adam(motifier.parameters(),lr = 0.0001)\n",
    "    W = torch.randn((batchsize, DIM, DIM), device=device) # represents IID\n",
    "    Y = torch.randn((batchsize,DIM),device=device)\n",
    "    x = torch.zeros((batchsize,DIM),device=device,requires_grad=True)\n",
    "    _,global_loss_1,x = RUN(W,Y,x,batchsize,DIM,steps=eachsteps)\n",
    "    print(global_loss_1)\n",
    "    for i in tqdm(range(Global_Train_Steps)):\n",
    "        W = torch.randn((batchsize, DIM, DIM), device=device) # represents IID\n",
    "        Y = torch.randn((batchsize,DIM),device=device)\n",
    "        subiterloss=0\n",
    "        for j in range(substeps):\n",
    "            resetflag=(j==0)\n",
    "            _,global_loss,x = RUN(W,Y,x.clone().detach(),batchsize,DIM,steps=eachsteps,reset=resetflag)\n",
    "            subiterloss+=global_loss\n",
    "            adam_global_optimizer.zero_grad()\n",
    "            global_loss.backward() #每次都是优化这个固定的图，不可以释放动态图的缓存\n",
    "            #print('xxx',[z.shape for z in motifier.parameters()  ])\n",
    "            adam_global_optimizer.step()\n",
    "        #print('iteration:{},mean_loss:{}'.format(i,subiterloss))\n",
    "        #print('xxx',[(z.grad,z.requires_grad) for z in motifier.parameters()  ])\n",
    "        global_loss_list.append(global_loss.detach_())\n",
    "        \n",
    "    print(global_loss)\n",
    "    return global_loss_list\n"
   ]
  },
  {
   "cell_type": "code",
   "execution_count": 21,
   "id": "cc4f453f-a2a3-4715-9cc7-77b834b211cf",
   "metadata": {
    "tags": []
   },
   "outputs": [
    {
     "name": "stdout",
     "output_type": "stream",
     "text": [
      "tensor(139050.2812, device='cuda:0', grad_fn=<AddBackward0>)\n"
     ]
    },
    {
     "name": "stderr",
     "output_type": "stream",
     "text": [
      "100%|██████████| 200/200 [32:43<00:00,  9.82s/it]"
     ]
    },
    {
     "name": "stdout",
     "output_type": "stream",
     "text": [
      "tensor(1.3657e+11, device='cuda:0')\n"
     ]
    },
    {
     "name": "stderr",
     "output_type": "stream",
     "text": [
      "\n"
     ]
    },
    {
     "data": {
      "text/plain": [
       "[tensor(5584.4077, device='cuda:0'),\n",
       " tensor(11415.9111, device='cuda:0'),\n",
       " tensor(8632373., device='cuda:0'),\n",
       " tensor(2.3658e+15, device='cuda:0'),\n",
       " tensor(742.6102, device='cuda:0'),\n",
       " tensor(53749.2617, device='cuda:0'),\n",
       " tensor(3.2515e+13, device='cuda:0'),\n",
       " tensor(3.7046e+08, device='cuda:0'),\n",
       " tensor(4.4755e+21, device='cuda:0'),\n",
       " tensor(90.1246, device='cuda:0'),\n",
       " tensor(94.9192, device='cuda:0'),\n",
       " tensor(236.8407, device='cuda:0'),\n",
       " tensor(8.4289e+09, device='cuda:0'),\n",
       " tensor(34569372., device='cuda:0'),\n",
       " tensor(31781052., device='cuda:0'),\n",
       " tensor(1.1833e+08, device='cuda:0'),\n",
       " tensor(5.8599e+22, device='cuda:0'),\n",
       " tensor(700.5363, device='cuda:0'),\n",
       " tensor(1215.9550, device='cuda:0'),\n",
       " tensor(2946.1841, device='cuda:0'),\n",
       " tensor(93710.9219, device='cuda:0'),\n",
       " tensor(4921873., device='cuda:0'),\n",
       " tensor(1.3754e+08, device='cuda:0'),\n",
       " tensor(596780.0625, device='cuda:0'),\n",
       " tensor(386291.4062, device='cuda:0'),\n",
       " tensor(1.0883e+14, device='cuda:0'),\n",
       " tensor(1.0290e+13, device='cuda:0'),\n",
       " tensor(697.3122, device='cuda:0'),\n",
       " tensor(8087.7666, device='cuda:0'),\n",
       " tensor(19212678., device='cuda:0'),\n",
       " tensor(1.7833e+13, device='cuda:0'),\n",
       " tensor(847830.6250, device='cuda:0'),\n",
       " tensor(88360.1250, device='cuda:0'),\n",
       " tensor(327.8260, device='cuda:0'),\n",
       " tensor(42285.1719, device='cuda:0'),\n",
       " tensor(16747.8262, device='cuda:0'),\n",
       " tensor(2107.7844, device='cuda:0'),\n",
       " tensor(3.4238e+09, device='cuda:0'),\n",
       " tensor(5905.5566, device='cuda:0'),\n",
       " tensor(1858.2338, device='cuda:0'),\n",
       " tensor(41.8329, device='cuda:0'),\n",
       " tensor(6380.3667, device='cuda:0'),\n",
       " tensor(1100906.1250, device='cuda:0'),\n",
       " tensor(284.1829, device='cuda:0'),\n",
       " tensor(1575939.8750, device='cuda:0'),\n",
       " tensor(2516804.7500, device='cuda:0'),\n",
       " tensor(1.5133e+09, device='cuda:0'),\n",
       " tensor(3.0106e+15, device='cuda:0'),\n",
       " tensor(39340952., device='cuda:0'),\n",
       " tensor(2284964.7500, device='cuda:0'),\n",
       " tensor(2544.8945, device='cuda:0'),\n",
       " tensor(3397.7537, device='cuda:0'),\n",
       " tensor(17399528., device='cuda:0'),\n",
       " tensor(5.2257e+18, device='cuda:0'),\n",
       " tensor(1.1958e+17, device='cuda:0'),\n",
       " tensor(7.4193e+08, device='cuda:0'),\n",
       " tensor(67.3789, device='cuda:0'),\n",
       " tensor(130.9304, device='cuda:0'),\n",
       " tensor(1627.3718, device='cuda:0'),\n",
       " tensor(3.0823e+08, device='cuda:0'),\n",
       " tensor(223.4302, device='cuda:0'),\n",
       " tensor(11930299., device='cuda:0'),\n",
       " tensor(116.0003, device='cuda:0'),\n",
       " tensor(7.0520e+11, device='cuda:0'),\n",
       " tensor(987.4547, device='cuda:0'),\n",
       " tensor(454331.6875, device='cuda:0'),\n",
       " tensor(1932776.3750, device='cuda:0'),\n",
       " tensor(2029.0049, device='cuda:0'),\n",
       " tensor(1055567.3750, device='cuda:0'),\n",
       " tensor(182173.9688, device='cuda:0'),\n",
       " tensor(7.8555e+10, device='cuda:0'),\n",
       " tensor(7809.3091, device='cuda:0'),\n",
       " tensor(8487.4512, device='cuda:0'),\n",
       " tensor(4.8613e+21, device='cuda:0'),\n",
       " tensor(73655512., device='cuda:0'),\n",
       " tensor(9.1706e+17, device='cuda:0'),\n",
       " tensor(5.3205e+16, device='cuda:0'),\n",
       " tensor(8.2060e+32, device='cuda:0'),\n",
       " tensor(1531.3212, device='cuda:0'),\n",
       " tensor(1128.9562, device='cuda:0'),\n",
       " tensor(482.3410, device='cuda:0'),\n",
       " tensor(106.7228, device='cuda:0'),\n",
       " tensor(27942.4902, device='cuda:0'),\n",
       " tensor(12762397., device='cuda:0'),\n",
       " tensor(4.1738e+20, device='cuda:0'),\n",
       " tensor(65.8934, device='cuda:0'),\n",
       " tensor(50966360., device='cuda:0'),\n",
       " tensor(306.1130, device='cuda:0'),\n",
       " tensor(2844.0574, device='cuda:0'),\n",
       " tensor(2.1131e+23, device='cuda:0'),\n",
       " tensor(3.0995e+16, device='cuda:0'),\n",
       " tensor(15905466., device='cuda:0'),\n",
       " tensor(1258696.6250, device='cuda:0'),\n",
       " tensor(3.9163e+10, device='cuda:0'),\n",
       " tensor(15564.5977, device='cuda:0'),\n",
       " tensor(2198.8586, device='cuda:0'),\n",
       " tensor(1.4838e+23, device='cuda:0'),\n",
       " tensor(2.5083e+10, device='cuda:0'),\n",
       " tensor(1062289.5000, device='cuda:0'),\n",
       " tensor(137857.6562, device='cuda:0'),\n",
       " tensor(4.6190e+16, device='cuda:0'),\n",
       " tensor(193707.1719, device='cuda:0'),\n",
       " tensor(6497.7754, device='cuda:0'),\n",
       " tensor(21809.9766, device='cuda:0'),\n",
       " tensor(1904573.3750, device='cuda:0'),\n",
       " tensor(348.7524, device='cuda:0'),\n",
       " tensor(5.8396e+15, device='cuda:0'),\n",
       " tensor(21188558., device='cuda:0'),\n",
       " tensor(4.5367e+12, device='cuda:0'),\n",
       " tensor(865.6714, device='cuda:0'),\n",
       " tensor(29161200., device='cuda:0'),\n",
       " tensor(1.7032e+20, device='cuda:0'),\n",
       " tensor(1.8703e+19, device='cuda:0'),\n",
       " tensor(11271174., device='cuda:0'),\n",
       " tensor(2.0869e+25, device='cuda:0'),\n",
       " tensor(1.2513e+08, device='cuda:0'),\n",
       " tensor(7994927., device='cuda:0'),\n",
       " tensor(49032.7773, device='cuda:0'),\n",
       " tensor(135.1699, device='cuda:0'),\n",
       " tensor(1945837.3750, device='cuda:0'),\n",
       " tensor(175.5208, device='cuda:0'),\n",
       " tensor(42076824., device='cuda:0'),\n",
       " tensor(271.3494, device='cuda:0'),\n",
       " tensor(17553.3398, device='cuda:0'),\n",
       " tensor(66165912., device='cuda:0'),\n",
       " tensor(4857.2666, device='cuda:0'),\n",
       " tensor(12519.7402, device='cuda:0'),\n",
       " tensor(13891714., device='cuda:0'),\n",
       " tensor(1.3929e+29, device='cuda:0'),\n",
       " tensor(1058.1885, device='cuda:0'),\n",
       " tensor(99.2765, device='cuda:0'),\n",
       " tensor(9.8222e+10, device='cuda:0'),\n",
       " tensor(1.4612e+09, device='cuda:0'),\n",
       " tensor(1.3641e+09, device='cuda:0'),\n",
       " tensor(1.6059e+09, device='cuda:0'),\n",
       " tensor(5520.7119, device='cuda:0'),\n",
       " tensor(3937714.2500, device='cuda:0'),\n",
       " tensor(1447.9686, device='cuda:0'),\n",
       " tensor(414.7443, device='cuda:0'),\n",
       " tensor(351.2842, device='cuda:0'),\n",
       " tensor(170039.3906, device='cuda:0'),\n",
       " tensor(1667.1337, device='cuda:0'),\n",
       " tensor(51.5978, device='cuda:0'),\n",
       " tensor(2179.6707, device='cuda:0'),\n",
       " tensor(8.0409e+16, device='cuda:0'),\n",
       " tensor(30902.9902, device='cuda:0'),\n",
       " tensor(6.5412, device='cuda:0'),\n",
       " tensor(17842.4609, device='cuda:0'),\n",
       " tensor(1.1511e+13, device='cuda:0'),\n",
       " tensor(1.2277e+13, device='cuda:0'),\n",
       " tensor(2.2400e+09, device='cuda:0'),\n",
       " tensor(1.2306e+09, device='cuda:0'),\n",
       " tensor(4.3572e+16, device='cuda:0'),\n",
       " tensor(441373.0625, device='cuda:0'),\n",
       " tensor(1.0022e+17, device='cuda:0'),\n",
       " tensor(3.5195e+08, device='cuda:0'),\n",
       " tensor(4519654.5000, device='cuda:0'),\n",
       " tensor(1925.3694, device='cuda:0'),\n",
       " tensor(79337.6875, device='cuda:0'),\n",
       " tensor(2.5244e+12, device='cuda:0'),\n",
       " tensor(836005.0625, device='cuda:0'),\n",
       " tensor(380.2878, device='cuda:0'),\n",
       " tensor(3.0136e+13, device='cuda:0'),\n",
       " tensor(3.9409e+08, device='cuda:0'),\n",
       " tensor(1214.8533, device='cuda:0'),\n",
       " tensor(86462608., device='cuda:0'),\n",
       " tensor(1.8589e+12, device='cuda:0'),\n",
       " tensor(9349.9580, device='cuda:0'),\n",
       " tensor(1.6108e+08, device='cuda:0'),\n",
       " tensor(2.3156e+12, device='cuda:0'),\n",
       " tensor(3.7040e+09, device='cuda:0'),\n",
       " tensor(124781.2578, device='cuda:0'),\n",
       " tensor(2.0053e+11, device='cuda:0'),\n",
       " tensor(9.0247e+17, device='cuda:0'),\n",
       " tensor(1.6385e+08, device='cuda:0'),\n",
       " tensor(4319.7837, device='cuda:0'),\n",
       " tensor(4.5545e+16, device='cuda:0'),\n",
       " tensor(169.1971, device='cuda:0'),\n",
       " tensor(78362024., device='cuda:0'),\n",
       " tensor(18479.0488, device='cuda:0'),\n",
       " tensor(44942.4023, device='cuda:0'),\n",
       " tensor(1.0552e+09, device='cuda:0'),\n",
       " tensor(22415860., device='cuda:0'),\n",
       " tensor(144.4751, device='cuda:0'),\n",
       " tensor(2431.6282, device='cuda:0'),\n",
       " tensor(2601.8259, device='cuda:0'),\n",
       " tensor(8.5812e+20, device='cuda:0'),\n",
       " tensor(218.1381, device='cuda:0'),\n",
       " tensor(2604577.5000, device='cuda:0'),\n",
       " tensor(2985815.2500, device='cuda:0'),\n",
       " tensor(4.2568e+16, device='cuda:0'),\n",
       " tensor(2.5293e+10, device='cuda:0'),\n",
       " tensor(1.7883e+08, device='cuda:0'),\n",
       " tensor(8221.4492, device='cuda:0'),\n",
       " tensor(383.1505, device='cuda:0'),\n",
       " tensor(6.8497e+09, device='cuda:0'),\n",
       " tensor(1.1431e+10, device='cuda:0'),\n",
       " tensor(2.0853e+14, device='cuda:0'),\n",
       " tensor(58987.4531, device='cuda:0'),\n",
       " tensor(1.3657e+11, device='cuda:0')]"
      ]
     },
     "execution_count": 21,
     "metadata": {},
     "output_type": "execute_result"
    }
   ],
   "source": [
    "global_training(200,3,100,LSTM_motify)"
   ]
  },
  {
   "cell_type": "code",
   "execution_count": 23,
   "id": "994c1222-8b14-4cd7-9604-e560558cf8a8",
   "metadata": {},
   "outputs": [
    {
     "ename": "IndexError",
     "evalue": "The shape of the mask [128] at index 0 does not match the shape of the indexed tensor [1, 1] at index 0",
     "output_type": "error",
     "traceback": [
      "\u001b[1;31m---------------------------------------------------------------------------\u001b[0m",
      "\u001b[1;31mIndexError\u001b[0m                                Traceback (most recent call last)",
      "\u001b[1;32mc:\\Users\\14532\\Desktop\\Project\\Cubic\\BFPS-12_30前.ipynb 单元格 27\u001b[0m line \u001b[0;36m1\n\u001b[0;32m     <a href='vscode-notebook-cell:/c%3A/Users/14532/Desktop/Project/Cubic/BFPS-12_30%E5%89%8D.ipynb#X36sZmlsZQ%3D%3D?line=14'>15</a>\u001b[0m \u001b[39mfor\u001b[39;00m i \u001b[39min\u001b[39;00m \u001b[39mrange\u001b[39m(steps):\n\u001b[0;32m     <a href='vscode-notebook-cell:/c%3A/Users/14532/Desktop/Project/Cubic/BFPS-12_30%E5%89%8D.ipynb#X36sZmlsZQ%3D%3D?line=15'>16</a>\u001b[0m     g_pre\u001b[39m=\u001b[39mg\n\u001b[1;32m---> <a href='vscode-notebook-cell:/c%3A/Users/14532/Desktop/Project/Cubic/BFPS-12_30%E5%89%8D.ipynb#X36sZmlsZQ%3D%3D?line=16'>17</a>\u001b[0m     alpha\u001b[39m=\u001b[39mstrong_wolfe(W,Y,batchsize,f, x, d, loss, g, c1\u001b[39m=\u001b[39;49m\u001b[39m1e-4\u001b[39;49m, c2\u001b[39m=\u001b[39;49m\u001b[39m0.9\u001b[39;49m, max_iter\u001b[39m=\u001b[39;49m\u001b[39m10\u001b[39;49m,device\u001b[39m=\u001b[39;49mdevice)\n\u001b[0;32m     <a href='vscode-notebook-cell:/c%3A/Users/14532/Desktop/Project/Cubic/BFPS-12_30%E5%89%8D.ipynb#X36sZmlsZQ%3D%3D?line=17'>18</a>\u001b[0m     update\u001b[39m=\u001b[39malpha\u001b[39m*\u001b[39m(d\u001b[39m.\u001b[39msqueeze())\n\u001b[0;32m     <a href='vscode-notebook-cell:/c%3A/Users/14532/Desktop/Project/Cubic/BFPS-12_30%E5%89%8D.ipynb#X36sZmlsZQ%3D%3D?line=18'>19</a>\u001b[0m     x\u001b[39m=\u001b[39mx\u001b[39m+\u001b[39mupdate\n",
      "\u001b[1;32mc:\\Users\\14532\\Desktop\\Project\\Cubic\\BFPS-12_30前.ipynb 单元格 27\u001b[0m line \u001b[0;36m3\n\u001b[0;32m     <a href='vscode-notebook-cell:/c%3A/Users/14532/Desktop/Project/Cubic/BFPS-12_30%E5%89%8D.ipynb#X36sZmlsZQ%3D%3D?line=33'>34</a>\u001b[0m     \u001b[39mreturn\u001b[39;00m step_size\n\u001b[0;32m     <a href='vscode-notebook-cell:/c%3A/Users/14532/Desktop/Project/Cubic/BFPS-12_30%E5%89%8D.ipynb#X36sZmlsZQ%3D%3D?line=34'>35</a>\u001b[0m \u001b[39melif\u001b[39;00m torch\u001b[39m.\u001b[39msum(armijo_condition)\u001b[39m>\u001b[39m\u001b[39m0\u001b[39m:\n\u001b[1;32m---> <a href='vscode-notebook-cell:/c%3A/Users/14532/Desktop/Project/Cubic/BFPS-12_30%E5%89%8D.ipynb#X36sZmlsZQ%3D%3D?line=35'>36</a>\u001b[0m     step_size[armijo_condition] \u001b[39m*\u001b[39m\u001b[39m=\u001b[39m \u001b[39m0.5\u001b[39m  \u001b[39m# Reduce step size by half\u001b[39;00m\n\u001b[0;32m     <a href='vscode-notebook-cell:/c%3A/Users/14532/Desktop/Project/Cubic/BFPS-12_30%E5%89%8D.ipynb#X36sZmlsZQ%3D%3D?line=36'>37</a>\u001b[0m \u001b[39melif\u001b[39;00m torch\u001b[39m.\u001b[39msum(curvature_condition)\u001b[39m>\u001b[39m\u001b[39m0\u001b[39m:\n\u001b[0;32m     <a href='vscode-notebook-cell:/c%3A/Users/14532/Desktop/Project/Cubic/BFPS-12_30%E5%89%8D.ipynb#X36sZmlsZQ%3D%3D?line=37'>38</a>\u001b[0m     step_size[curvature_condition] \u001b[39m*\u001b[39m\u001b[39m=\u001b[39m \u001b[39m2.0\u001b[39m  \u001b[39m# Double step size\u001b[39;00m\n",
      "\u001b[1;31mIndexError\u001b[0m: The shape of the mask [128] at index 0 does not match the shape of the indexed tensor [1, 1] at index 0"
     ]
    }
   ],
   "source": [
    "W = torch.randn((batchsize, DIM, DIM), device=device) # represents IID\n",
    "Y = torch.randn((batchsize,DIM),device=device)\n",
    "x = torch.zeros((batchsize,DIM),device=device,requires_grad=True)\n",
    "steps=40\n",
    "state=None\n",
    "H=BFGS(batchsize,DIM,device).I\n",
    "mem_loss=[]\n",
    "loss=f(W,Y,x)\n",
    "acc=1e-6\n",
    "mem_loss.append(loss.mean())\n",
    "g=torch.autograd.grad(loss.mean(),x)[0]\n",
    "d=-torch.matmul(B.H,g.unsqueeze(2))\n",
    "k=0\n",
    "#print(loss)\n",
    "for i in range(steps):\n",
    "    g_pre=g\n",
    "    alpha=strong_wolfe(W,Y,batchsize,f, x, d, loss, g, c1=1e-4, c2=0.9, max_iter=10,device=device)\n",
    "    update=alpha*(d.squeeze())\n",
    "    x=x+update\n",
    "    loss=f(W,Y,x)\n",
    "    mem_loss.append(loss.mean())\n",
    "    g=torch.autograd.grad(loss.mean(),x)[0]\n",
    "    #print(torch.norm(g,dim=1).mean())\n",
    "    if(sum(torch.norm(g,dim=1)<acc)>0):\n",
    "        break\n",
    "    d=-torch.matmul(H,g.unsqueeze(2))\n",
    "    #print(B.H)\n",
    "    input_vec=torch.cat((g,update),dim=1).unsqueeze(0)\n",
    "    motify,state=LSTM_motify(input_vec,state)\n",
    "    delta_H=motify.reshape((batchsize, DIM, DIM))\n",
    "    H = H.clone().detach() + 1/2*(delta_H+delta_H.transpose(-2,-1))\n",
    "    k+=1\n",
    "    \n",
    "print(k)    \n",
    "plt.plot([i.cpu().detach().numpy() for i in mem_loss],label='LSTM')  \n",
    "x = torch.zeros((batchsize,DIM),device=device,requires_grad=True)\n",
    "steps=40\n",
    "B=BFGS(batchsize,DIM,device)\n",
    "mem_loss=[]\n",
    "loss=f(W,Y,x)\n",
    "acc=1e-6\n",
    "mem_loss.append(loss.mean())\n",
    "g=torch.autograd.grad(loss.mean(),x)[0]\n",
    "d=-torch.matmul(B.H,g.unsqueeze(2))\n",
    "k=0\n",
    "#print(loss)\n",
    "for i in range(steps):\n",
    "    g_pre=g\n",
    "    alpha=strong_wolfe(W,Y,batchsize,f, x, d, loss, g, c1=1e-4, c2=0.9, max_iter=10,device=device)\n",
    "    update=alpha*(d.squeeze())\n",
    "    x=x+update\n",
    "    loss=f(W,Y,x)\n",
    "    mem_loss.append(loss.mean())\n",
    "    g=torch.autograd.grad(loss.mean(),x)[0]\n",
    "    #print(torch.norm(g,dim=1).mean())\n",
    "    if(sum(torch.norm(g,dim=1)<acc)>0):\n",
    "        break\n",
    "    d=-torch.matmul(B.H,g.unsqueeze(2))\n",
    "    #print(B.H)\n",
    "    B.H_BFDS_update(update,g-g_pre)\n",
    "    k+=1\n",
    "    \n",
    "print(k)    \n",
    "plt.plot([i.cpu().detach().numpy() for i in mem_loss],label='BFGS')  \n",
    "plt.legend()\n",
    "\n",
    "plt.show()"
   ]
  },
  {
   "cell_type": "code",
   "execution_count": null,
   "id": "1371da30-dce6-4b04-a74f-3ecd75c228de",
   "metadata": {},
   "outputs": [],
   "source": []
  }
 ],
 "metadata": {
  "kernelspec": {
   "display_name": "pytor_minimax",
   "language": "python",
   "name": "python3"
  },
  "language_info": {
   "codemirror_mode": {
    "name": "ipython",
    "version": 3
   },
   "file_extension": ".py",
   "mimetype": "text/x-python",
   "name": "python",
   "nbconvert_exporter": "python",
   "pygments_lexer": "ipython3",
   "version": "3.9.18"
  }
 },
 "nbformat": 4,
 "nbformat_minor": 5
}
