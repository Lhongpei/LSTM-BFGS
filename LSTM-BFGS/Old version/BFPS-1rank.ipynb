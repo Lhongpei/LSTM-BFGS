{
 "cells": [
  {
   "cell_type": "code",
   "execution_count": 1,
   "id": "74910e75-5e32-4c99-832a-5087f95878be",
   "metadata": {
    "tags": []
   },
   "outputs": [],
   "source": [
    "import torch\n",
    "import torchmin.bfgs as bfs\n",
    "import matplotlib.pyplot as plt\n",
    "import numpy as np\n",
    "from tqdm import tqdm\n",
    "import torchmin.benchmarks as bm\n",
    "from opti_utils import BFGS,strong_wolfe,f,logistic"
   ]
  },
  {
   "cell_type": "code",
   "execution_count": 2,
   "id": "d9f683ef-5132-4628-adee-4d30b64c1a9a",
   "metadata": {
    "tags": []
   },
   "outputs": [],
   "source": [
    "batchsize=128\n",
    "DIM=10"
   ]
  },
  {
   "cell_type": "code",
   "execution_count": 3,
   "id": "44242f42-0628-4491-aff1-82800050ccdb",
   "metadata": {
    "tags": []
   },
   "outputs": [
    {
     "data": {
      "text/plain": [
       "True"
      ]
     },
     "execution_count": 3,
     "metadata": {},
     "output_type": "execute_result"
    }
   ],
   "source": [
    "USE_CUDA=False\n",
    "if torch.cuda.is_available():\n",
    "    USE_CUDA=True\n",
    "    device = torch.device(\"cuda\" if torch.cuda.is_available() else \"cpu\")\n",
    "USE_CUDA"
   ]
  },
  {
   "cell_type": "markdown",
   "id": "e08bea06-7079-4716-b5ae-6e5cd077f22e",
   "metadata": {},
   "source": [
    "## BFGS"
   ]
  },
  {
   "cell_type": "code",
   "execution_count": 4,
   "id": "d65e496e-fb47-4105-882a-8767f08b2f92",
   "metadata": {
    "tags": []
   },
   "outputs": [
    {
     "name": "stdout",
     "output_type": "stream",
     "text": [
      "200\n"
     ]
    },
    {
     "data": {
      "text/plain": [
       "[<matplotlib.lines.Line2D at 0x2022314df10>]"
      ]
     },
     "execution_count": 4,
     "metadata": {},
     "output_type": "execute_result"
    },
    {
     "data": {
      "image/png": "[encoded data removed]",
      "text/plain": [
       "<Figure size 640x480 with 1 Axes>"
      ]
     },
     "metadata": {},
     "output_type": "display_data"
    }
   ],
   "source": [
    "W = torch.randn((batchsize, DIM, DIM), device=device) # represents IID\n",
    "Y = torch.rand((batchsize,DIM),device=device)\n",
    "x = torch.ones((batchsize,DIM),device=device,requires_grad=True)\n",
    "\n",
    "steps=200\n",
    "B=BFGS(batchsize,DIM,device,x)\n",
    "mem_loss=[]\n",
    "loss=logistic(W,Y,x,2,DIM)\n",
    "acc=1e-6\n",
    "mem_loss.append(loss.mean())\n",
    "g=torch.autograd.grad(loss.mean(),x)[0]\n",
    "d=-torch.matmul(B.H,g.unsqueeze(2))\n",
    "k=0\n",
    "#print(loss)\n",
    "for i in range(steps):\n",
    "    g_pre=g\n",
    "    alpha=strong_wolfe(W,Y,batchsize,f, x, d, loss, g, c1=1e-4, c2=0.9, max_iter=10,device=device)\n",
    "    update=alpha*(d.squeeze())\n",
    "    x=x+update\n",
    "    loss=logistic(W,Y,x,2,DIM)\n",
    "    mem_loss.append(loss.mean())\n",
    "    g=torch.autograd.grad(loss.mean(),x)[0]\n",
    "    #print(torch.norm(g,dim=1).mean())\n",
    "    if(sum(torch.norm(g,dim=1)<acc)>0):\n",
    "        break\n",
    "    d=-torch.matmul(B.H,g.unsqueeze(2))\n",
    "    #print(B.H)\n",
    "    B.H_BFDS_update(update,g-g_pre)\n",
    "    k+=1\n",
    "    \n",
    "print(k)    \n",
    "plt.plot([i.cpu().detach().numpy() for i in mem_loss])  "
   ]
  },
  {
   "cell_type": "markdown",
   "id": "f6734106-e57e-4470-925a-94580b3b5b17",
   "metadata": {},
   "source": [
    "## LSTM define"
   ]
  },
  {
   "cell_type": "code",
   "execution_count": 5,
   "id": "08168494-5d81-4a99-a55a-8a707b0b3dd5",
   "metadata": {},
   "outputs": [],
   "source": [
    "class LSTM_motify(torch.nn.Module):\n",
    "    \"\"\"LSTM修正器\n",
    "       LSTM optimizer\"\"\"\n",
    "    \n",
    "    def __init__(self,input_size,output_size, hidden_size, num_stacks, batchsize,p  = 10 ,preprocess = True, output_scale = 1):\n",
    "        super(LSTM_motify,self).__init__()\n",
    "        self.preprocess_flag = preprocess\n",
    "        self.input_flag = 2\n",
    "        if preprocess != True:\n",
    "             self.input_flag = 1\n",
    "        self.p = p\n",
    "        self.output_scale = output_scale \n",
    "        self.lstm = torch.nn.LSTM(input_size*self.input_flag, hidden_size, num_stacks)\n",
    "        self.Linear = torch.nn.Linear(hidden_size,output_size) #1-> output_size\n",
    "        print(self.preprocess_flag)\n",
    "        \n",
    "    def LogAndSign_Preprocess_Gradient(self,gradients):\n",
    "        \"\"\"\n",
    "        Args:\n",
    "          gradients: `Tensor` of gradients with shape `[d_1, ..., d_n]`.\n",
    "          p       : `p` > 0 is a parameter controlling how small gradients are disregarded \n",
    "        Returns:\n",
    "          `Tensor` with shape `[d_1, ..., d_n-1, 2 * d_n]`. The first `d_n` elements\n",
    "          along the nth dimension correspond to the `log output` \\in [-1,1] and the remaining\n",
    "          `d_n` elements to the `sign output`.\n",
    "        \"\"\"\n",
    "        p  = self.p\n",
    "        log = torch.log(torch.abs(gradients))\n",
    "        clamp_log = torch.clamp(log/p , min = -1.0,max = 1.0)\n",
    "        clamp_sign = torch.clamp(torch.exp(torch.tensor(p))*gradients, min = -1.0, max =1.0)\n",
    "        return torch.cat((clamp_log,clamp_sign),dim = -1) #在gradients的最后一维input_dims拼接\n",
    "    \n",
    "    def Output_motification_And_motify_LSTM_Hidden_State(self, input_gradients, prev_state):\n",
    "        \"\"\"LSTM的核心操作  core operation\n",
    "        coordinate-wise LSTM \"\"\"\n",
    "        if prev_state is None: #init_state\n",
    "            prev_state = (torch.zeros(Layers,batchsize,Hidden_nums),\n",
    "                            torch.zeros(Layers,batchsize,Hidden_nums))\n",
    "            if USE_CUDA :\n",
    "                 prev_state = (torch.zeros(Layers,batchsize,Hidden_nums).cuda(),\n",
    "                            torch.zeros(Layers,batchsize,Hidden_nums).cuda())\n",
    "         \t\t\t\n",
    "        motify , next_state = self.lstm(input_gradients, prev_state)\n",
    "        motify = self.Linear(motify) * self.output_scale # transform the LSTM output to the target output dim \n",
    "        return motify, next_state\n",
    "    \n",
    "    def forward(self,input_data, prev_state):\n",
    "        if USE_CUDA:\n",
    "            input_data = input_data.cuda()\n",
    "        #pytorch requires the `torch.nn.lstm`'s input as（1，batchsize,input_dim）\n",
    "        # original gradient.size()=torch.size[5] ->[1,1,5]\n",
    "        # gradients = move_gradients.unsqueeze(0)\n",
    "        # moves = move.unsqueeze(0)\n",
    "        # combined = torch.cat((moves, gradients), dim=0)\n",
    "        if self.preprocess_flag == True:\n",
    "            #print(input_data.shape)\n",
    "            input_data = self.LogAndSign_Preprocess_Gradient(input_data)\n",
    "        motify , next_state = self.Output_motification_And_motify_LSTM_Hidden_State(input_data , prev_state)\n",
    "        # Squeeze to make it a single batch again.[1,1,5]->[5]\n",
    "        motify = motify.squeeze().squeeze()\n",
    "       \n",
    "        return motify , next_state"
   ]
  },
  {
   "cell_type": "code",
   "execution_count": 6,
   "id": "fa1e2027-13cb-40e0-ba2b-46ba00998085",
   "metadata": {
    "tags": []
   },
   "outputs": [
    {
     "name": "stdout",
     "output_type": "stream",
     "text": [
      "False\n",
      "LSTM_motify(\n",
      "  (lstm): LSTM(20, 20, num_layers=2)\n",
      "  (Linear): Linear(in_features=20, out_features=10, bias=True)\n",
      ")\n"
     ]
    }
   ],
   "source": [
    "Layers = 2\n",
    "Hidden_nums = 20\n",
    "Input_DIM = DIM*2\n",
    "Output_DIM = DIM\n",
    "output_scale_value=1\n",
    "\n",
    "#######   构造一个优化器  #######\n",
    "#######  construct a optimizer  #######\n",
    "LSTM_motify = LSTM_motify(Input_DIM, Output_DIM, Hidden_nums ,Layers , batchsize=batchsize,\\\n",
    "                preprocess=False,output_scale=output_scale_value)\n",
    "print(LSTM_motify)\n",
    "\n",
    "if USE_CUDA:\n",
    "    LSTM_optimizer = LSTM_motify.cuda()"
   ]
  },
  {
   "cell_type": "markdown",
   "id": "fe5cfb62-73f2-445d-a237-6bc2a94a59af",
   "metadata": {
    "tags": []
   },
   "source": [
    "## LSTM pre-train vs BFGS"
   ]
  },
  {
   "cell_type": "code",
   "execution_count": 7,
   "id": "417a3f85-a666-440f-9b41-52af8439a3b5",
   "metadata": {
    "tags": []
   },
   "outputs": [],
   "source": [
    "import time"
   ]
  },
  {
   "cell_type": "code",
   "execution_count": 8,
   "id": "e20b5f32-b87e-4880-8f0f-75266d151787",
   "metadata": {},
   "outputs": [],
   "source": [
    "def record(loss,standard='mean',num=0):\n",
    "    if standard=='mean':\n",
    "        return loss.mean()\n",
    "    else:\n",
    "        return loss[num]"
   ]
  },
  {
   "cell_type": "code",
   "execution_count": 9,
   "id": "7c4a352e-1ec0-4062-804c-b04287ee7ffa",
   "metadata": {
    "tags": []
   },
   "outputs": [],
   "source": [
    "def LSTM_iter(W,Y,x,batchsize,DIM,device,standard='mean',rec_num=0,steps=200,acc=1e-6,plot=False,lam=2):    \n",
    "    start_time=time.time()\n",
    "    state=None#初始化LSTM hidden state\n",
    "    H=torch.eye(DIM, device=x.device, dtype=x.dtype,requires_grad=True).unsqueeze(0).expand(batchsize, -1, -1)\n",
    "    mem_loss=[]#初始化loss的list\n",
    "    loss=logistic(W,Y,x,lam,DIM)#每个case的loss\n",
    "    global_loss_graph = 0#记录每个迭代的总loss 用于后向传播\n",
    "    lossmean=loss.mean()#总loss的平均值\n",
    "\n",
    "    global_loss_graph+=lossmean\n",
    "    mem_loss.append(loss[rec_num])\n",
    "\n",
    "    lossmean.backward(retain_graph=True)\n",
    "    g = x.grad.clone()#g detach掉\n",
    "    d=-torch.matmul(H,g.unsqueeze(2))\n",
    "    k=0\n",
    "    #print(loss)\n",
    "    for i in range(steps):\n",
    "        g_pre=g.clone()# 保存g作为上一次的g，此时g_pre不在计算图中\n",
    "        alpha=strong_wolfe(W,Y,batchsize,f, x, d, loss, g, c1=1e-4, c2=0.9, max_iter=10,device=device)\n",
    "        alpha.detach_()\n",
    "        update=alpha*d.squeeze()\n",
    "        # update=d.squeeze()\n",
    "        x=x+update\n",
    "        x.retain_grad()\n",
    "        loss=logistic(W,Y,x,lam,DIM)\n",
    "        lossmean=loss.mean()\n",
    "        global_loss_graph+=lossmean\n",
    "        mem_loss.append(loss[rec_num])\n",
    "        #print(mem_loss[0])\n",
    "        lossmean.backward(retain_graph=True)\n",
    "        #print([i.grad for i in LSTM_motify.parameters()])\n",
    "        #print(g)\n",
    "        g = x.grad.clone()\n",
    "        #print(torch.norm(g,dim=1).mean())\n",
    "        if(sum(torch.norm(g,dim=1)<acc)>0):\n",
    "            break\n",
    "        #print(B.H)\n",
    "        input_vec=torch.cat((g,update),dim=1).unsqueeze(0)\n",
    "        #print(input_vec.is_leaf)\n",
    "        motify,state=LSTM_motify(input_vec,state)\n",
    "        deltaH=motify.reshape((batchsize, DIM, 1))\n",
    "        H = H.clone().detach() + deltaH*deltaH.transpose(1, 2)\n",
    "        H.retain_grad()\n",
    "        d=-torch.matmul(H,g.unsqueeze(2))\n",
    "        k+=1\n",
    "    if plot:\n",
    "        plt.plot([i.cpu().detach().numpy() for i in mem_loss],label='LSTM')\n",
    "        end_time = time.time()\n",
    "        LSTM_time = end_time - start_time\n",
    "    return mem_loss,global_loss_graph,LSTM_time"
   ]
  },
  {
   "cell_type": "code",
   "execution_count": 10,
   "id": "89c96bff-17fa-49e2-aa5c-2f385ce2ce78",
   "metadata": {
    "tags": []
   },
   "outputs": [],
   "source": [
    "def BFGS_iter(W,Y,x,batchsize,DIM,device,standard='mean',rec_num=0,steps=200,acc=1e-6,plot=False,lam=2):\n",
    "    start_time=time.time()\n",
    "    B=BFGS(batchsize,DIM,device,x)\n",
    "    mem_loss=[]\n",
    "    loss=logistic(W,Y,x,lam,DIM)\n",
    "    acc=1e-6\n",
    "    global_loss=0\n",
    "    lossmean=loss.mean()\n",
    "    global_loss+=lossmean\n",
    "    mem_loss.append(loss[rec_num])\n",
    "    g=torch.autograd.grad(loss.mean(),x)[0]\n",
    "    d=-torch.matmul(B.H,g.unsqueeze(2))\n",
    "    k=0\n",
    "    #print(loss)\n",
    "    for i in range(steps):\n",
    "        g_pre=g\n",
    "        alpha=strong_wolfe(W,Y,batchsize,f, x, d, loss, g, c1=1e-4, c2=0.9, max_iter=10,device=device)\n",
    "        update=alpha*(d.squeeze())\n",
    "        x=x+update\n",
    "        loss=logistic(W,Y,x,lam,DIM)\n",
    "        lossmean=loss.mean()\n",
    "        global_loss+=lossmean\n",
    "        mem_loss.append(loss[rec_num])\n",
    "        g=torch.autograd.grad(lossmean,x)[0]\n",
    "        #print(torch.norm(g,dim=1).mean())\n",
    "        if(sum(torch.norm(g,dim=1)<acc)>0):\n",
    "            break\n",
    "        d=-torch.matmul(B.H,g.unsqueeze(2))\n",
    "        #print(B.H)\n",
    "        B.H_BFDS_update(update,g-g_pre)\n",
    "        k+=1\n",
    "\n",
    "    end_time = time.time()\n",
    "    BFGS_time = end_time - start_time\n",
    "    if plot:\n",
    "        plt.plot([i.cpu().detach().numpy() for i in mem_loss],label='BFGS')  \n",
    "    return mem_loss,global_loss,BFGS_time"
   ]
  },
  {
   "cell_type": "code",
   "execution_count": 11,
   "id": "42730762-98da-4010-b721-bce9dbe74d9d",
   "metadata": {
    "tags": []
   },
   "outputs": [],
   "source": [
    "def gradient_iter(W,Y,x,batchsize,DIM,device,standard='mean',rec_num=0,steps=200,acc=1e-6,plot=False):    \n",
    "    start_time=time.time()\n",
    "    mem_loss=[]#初始化loss的list\n",
    "    loss=f(W,Y,x)#每个case的loss\n",
    "    global_loss_graph = 0#记录每个迭代的总loss 用于后向传播\n",
    "    lossmean=loss.mean()#总loss的平均值\n",
    "\n",
    "    global_loss_graph+=lossmean\n",
    "    mem_loss.append(loss[rec_num])\n",
    "\n",
    "    lossmean.backward(retain_graph=True)\n",
    "    g = x.grad\n",
    "    k=0\n",
    "    #print(loss)\n",
    "    for i in range(steps):\n",
    "        # update=d.squeeze()\n",
    "        x=x-g\n",
    "        x.retain_grad()\n",
    "        loss=f(W,Y,x)\n",
    "        lossmean=loss.mean()\n",
    "        global_loss_graph+=lossmean\n",
    "        mem_loss.append(loss[rec_num])\n",
    "        #print(mem_loss[0])\n",
    "        lossmean.backward(retain_graph=True)\n",
    "        #print([i.grad for i in LSTM_motify.parameters()])\n",
    "        #print(g)\n",
    "        g = x.grad\n",
    "        #print(torch.norm(g,dim=1).mean())\n",
    "        if(sum(torch.norm(g,dim=1)<acc)>0):\n",
    "            break\n",
    "        #print(B.H)\n",
    "        #print(input_vec.is_leaf)\n",
    "        k+=1\n",
    "    if plot:\n",
    "        plt.plot([i.cpu().detach().numpy() for i in mem_loss],label='Gradient')\n",
    "        end_time = time.time()\n",
    "        LSTM_time = end_time - start_time\n",
    "    return mem_loss,global_loss_graph,LSTM_time"
   ]
  },
  {
   "cell_type": "code",
   "execution_count": 28,
   "id": "98c4e24a-ed2a-4f95-b18d-b6ef42c9d60e",
   "metadata": {
    "tags": []
   },
   "outputs": [
    {
     "name": "stdout",
     "output_type": "stream",
     "text": [
      "bfgs_time 1.7335681915283203\n",
      "lstm_time 10.497685670852661\n"
     ]
    },
    {
     "data": {
      "text/plain": [
       "<matplotlib.legend.Legend at 0x20269b53a30>"
      ]
     },
     "execution_count": 28,
     "metadata": {},
     "output_type": "execute_result"
    },
    {
     "data": {
      "image/png": "[encoded data removed]",
      "text/plain": [
       "<Figure size 640x480 with 1 Axes>"
      ]
     },
     "metadata": {},
     "output_type": "display_data"
    },
    {
     "ename": "",
     "evalue": "",
     "output_type": "error",
     "traceback": [
      "\u001b[1;31m在当前单元格或上一个单元格中执行代码时 Kernel 崩溃。请查看单元格中的代码，以确定故障的可能原因。有关详细信息，请单击 <a href='https://aka.ms/vscodeJupyterKernelCrash'>此处</a>。有关更多详细信息，请查看 Jupyter <a href='command:jupyter.viewOutput'>log</a>。"
     ]
    }
   ],
   "source": [
    "batchsize=1\n",
    "W = torch.randn((batchsize, DIM, DIM), device=device) # represents IID\n",
    "Y = torch.rand((batchsize,DIM),device=device)\n",
    "x = torch.ones((batchsize,DIM),device=device,requires_grad=True)\n",
    "bfgs_loss,bfgs_tot_loss,bfgs_time=BFGS_iter(W,Y,x,batchsize,DIM,device,rec_num=0,standard='mean',acc=1e-6,plot=True,lam=0.7)\n",
    "x = torch.ones((batchsize,DIM),device=device,requires_grad=True)\n",
    "lstm_loss,lstm_tot_loss,lstm_time=LSTM_iter(W,Y,x,batchsize,DIM,device,rec_num=0,standard='mean',acc=1e-6,plot=True,lam=0.7)\n",
    "print('bfgs_time',bfgs_time)\n",
    "print('lstm_time',lstm_time)\n",
    "#grad_loss,grad_tot_loss,grad_time=gradient_iter(W,Y,x,batchsize,DIM,device,rec_num=0,standard='mean',acc=1e-6,plot=True)\n",
    "plt.legend()"
   ]
  },
  {
   "cell_type": "code",
   "execution_count": 13,
   "id": "ec7ab9d9-b152-4a99-9585-18b01f6fb75b",
   "metadata": {
    "tags": []
   },
   "outputs": [
    {
     "data": {
      "image/png": "[encoded data removed]",
      "text/plain": [
       "<Figure size 640x480 with 1 Axes>"
      ]
     },
     "metadata": {},
     "output_type": "display_data"
    }
   ],
   "source": [
    "lstm_loss,lstm_tot_loss,lstm_time=LSTM_iter(W,Y,x,batchsize,DIM,device,rec_num=0,standard='mean',acc=1e-6,plot=True)"
   ]
  },
  {
   "cell_type": "markdown",
   "id": "b356cefe-a96f-4ac1-89ca-5ed169a6a9d0",
   "metadata": {},
   "source": [
    "## Train LSTM"
   ]
  },
  {
   "cell_type": "code",
   "execution_count": 14,
   "id": "0693e026-49fe-4ef8-94cf-4a86fdc42fcc",
   "metadata": {
    "tags": []
   },
   "outputs": [],
   "source": [
    "def RUN(W,Y,x,batchsize,DIM,steps=40,eps=10,reset=True):\n",
    "    if reset:\n",
    "        x = torch.zeros((batchsize,DIM),device=device,requires_grad=True)\n",
    "    x.requires_grad=True\n",
    "    state=None#初始化LSTM hidden state\n",
    "    H=torch.eye(DIM, device=x.device, dtype=x.dtype,requires_grad=True).unsqueeze(0).expand(batchsize, -1, -1)\n",
    "    mem_loss=[]#初始化loss的list\n",
    "    loss=logistic(W,Y,x,2,DIM)#每个case的loss\n",
    "    global_loss_graph = 0#记录每个迭代的总loss 用于后向传播\n",
    "    lossmean=loss.mean()#总loss的平均值\n",
    "\n",
    "    global_loss_graph+=lossmean\n",
    "    mem_loss.append(lossmean.clone().detach())\n",
    "    lossmean.backward(retain_graph=True)\n",
    "    g = x.grad.clone()#g detach掉\n",
    "    d=-torch.matmul(H,g.unsqueeze(2))\n",
    "    k=0\n",
    "    #print(loss)\n",
    "    for i in range(steps):\n",
    "        g_pre=g.clone()# 保存g作为上一次的g，此时g_pre不在计算图中\n",
    "        alpha=strong_wolfe(W,Y,batchsize,f, x, d, loss, g, c1=1e-4, c2=0.9, max_iter=10,device=device)\n",
    "        alpha.detach_()\n",
    "        update=alpha*d.squeeze()\n",
    "        # update=d.squeeze()\n",
    "        x=x+update\n",
    "        x.retain_grad()\n",
    "        loss=logistic(W,Y,x,2,DIM)\n",
    "        lossmean=loss.mean()\n",
    "        global_loss_graph+=lossmean\n",
    "        mem_loss.append(lossmean.clone().detach())\n",
    "        #print(mem_loss[0])\n",
    "        lossmean.backward(retain_graph=True)\n",
    "        #print([i.grad for i in LSTM_motify.parameters()])\n",
    "        #print(g)\n",
    "        g = x.grad.clone()\n",
    "        #print(torch.norm(g,dim=1).mean())\n",
    "        if(sum(torch.norm(g,dim=1)<acc)>0):\n",
    "            break\n",
    "        #print(B.H)\n",
    "        input_vec=torch.cat((g,update),dim=1).unsqueeze(0)\n",
    "        #print(input_vec.is_leaf)\n",
    "        motify,state=LSTM_motify(input_vec,state)\n",
    "        deltaH=motify.reshape((batchsize, DIM, 1))\n",
    "        H = H.clone().detach() + deltaH*deltaH.transpose(1, 2)\n",
    "        H.retain_grad()\n",
    "        d=-torch.matmul(H,g.unsqueeze(2))\n",
    "        k+=1\n",
    "    # plt.plot([i.cpu().detach().numpy() for i in mem_loss],label='LSTM_before_train')\n",
    "\n",
    "    return mem_loss,global_loss_graph,x"
   ]
  },
  {
   "cell_type": "code",
   "execution_count": 15,
   "id": "3ac745a9-94ff-4c5b-8954-c3f46da74e80",
   "metadata": {
    "tags": []
   },
   "outputs": [],
   "source": [
    "def global_training(Global_Train_Steps,substeps,eachsteps,motifier):\n",
    "    global_loss_list = []    \n",
    "    adam_global_optimizer = torch.optim.Adam(motifier.parameters(),lr = 0.0001)\n",
    "    W = torch.randn((batchsize, DIM, DIM), device=device) # represents IID\n",
    "    Y = torch.rand((batchsize,DIM),device=device)\n",
    "    x = torch.ones((batchsize,DIM),device=device,requires_grad=True)\n",
    "    _,global_loss_1,x = RUN(W,Y,x,batchsize,DIM,steps=eachsteps)\n",
    "    print(global_loss_1)\n",
    "    for i in tqdm(range(Global_Train_Steps)):\n",
    "        W = torch.randn((batchsize, DIM, DIM), device=device) # represents IID\n",
    "        Y = torch.rand((batchsize,DIM),device=device)\n",
    "        subiterloss=0\n",
    "        for j in range(substeps):\n",
    "            resetflag=(j==0)\n",
    "            _,global_loss,x = RUN(W,Y,x.clone().detach(),batchsize,DIM,steps=eachsteps,reset=resetflag)\n",
    "            subiterloss+=global_loss\n",
    "            adam_global_optimizer.zero_grad()\n",
    "            global_loss.backward() #每次都是优化这个固定的图，不可以释放动态图的缓存\n",
    "            #print('xxx',[z.shape for z in motifier.parameters()  ])\n",
    "            adam_global_optimizer.step()\n",
    "        #print('iteration:{},mean_loss:{}'.format(i,subiterloss))\n",
    "        #print('xxx',[(z.grad,z.requires_grad) for z in motifier.parameters()  ])\n",
    "        global_loss_list.append(global_loss.detach_())\n",
    "        \n",
    "    print(global_loss)\n",
    "    return global_loss_list\n"
   ]
  },
  {
   "cell_type": "code",
   "execution_count": 26,
   "id": "cc4f453f-a2a3-4715-9cc7-77b834b211cf",
   "metadata": {
    "tags": []
   },
   "outputs": [
    {
     "name": "stdout",
     "output_type": "stream",
     "text": [
      "tensor(-10.2190, device='cuda:0', grad_fn=<AddBackward0>)\n"
     ]
    },
    {
     "name": "stderr",
     "output_type": "stream",
     "text": [
      " 63%|██████▎   | 1253/2000 [4:17:27<2:33:29, 12.33s/it]\n"
     ]
    },
    {
     "ename": "KeyboardInterrupt",
     "evalue": "",
     "output_type": "error",
     "traceback": [
      "\u001b[1;31m---------------------------------------------------------------------------\u001b[0m",
      "\u001b[1;31mKeyboardInterrupt\u001b[0m                         Traceback (most recent call last)",
      "\u001b[1;32mc:\\Users\\14532\\Desktop\\Project\\Cubic\\BFPS-1rank.ipynb 单元格 20\u001b[0m line \u001b[0;36m1\n\u001b[1;32m----> <a href='vscode-notebook-cell:/c%3A/Users/14532/Desktop/Project/Cubic/BFPS-1rank.ipynb#X25sZmlsZQ%3D%3D?line=0'>1</a>\u001b[0m global_training(\u001b[39m2000\u001b[39;49m,\u001b[39m4\u001b[39;49m,\u001b[39m100\u001b[39;49m,LSTM_motify)\n",
      "\u001b[1;32mc:\\Users\\14532\\Desktop\\Project\\Cubic\\BFPS-1rank.ipynb 单元格 20\u001b[0m line \u001b[0;36m1\n\u001b[0;32m     <a href='vscode-notebook-cell:/c%3A/Users/14532/Desktop/Project/Cubic/BFPS-1rank.ipynb#X25sZmlsZQ%3D%3D?line=12'>13</a>\u001b[0m \u001b[39mfor\u001b[39;00m j \u001b[39min\u001b[39;00m \u001b[39mrange\u001b[39m(substeps):\n\u001b[0;32m     <a href='vscode-notebook-cell:/c%3A/Users/14532/Desktop/Project/Cubic/BFPS-1rank.ipynb#X25sZmlsZQ%3D%3D?line=13'>14</a>\u001b[0m     resetflag\u001b[39m=\u001b[39m(j\u001b[39m==\u001b[39m\u001b[39m0\u001b[39m)\n\u001b[1;32m---> <a href='vscode-notebook-cell:/c%3A/Users/14532/Desktop/Project/Cubic/BFPS-1rank.ipynb#X25sZmlsZQ%3D%3D?line=14'>15</a>\u001b[0m     _,global_loss,x \u001b[39m=\u001b[39m RUN(W,Y,x\u001b[39m.\u001b[39;49mclone()\u001b[39m.\u001b[39;49mdetach(),batchsize,DIM,steps\u001b[39m=\u001b[39;49meachsteps,reset\u001b[39m=\u001b[39;49mresetflag)\n\u001b[0;32m     <a href='vscode-notebook-cell:/c%3A/Users/14532/Desktop/Project/Cubic/BFPS-1rank.ipynb#X25sZmlsZQ%3D%3D?line=15'>16</a>\u001b[0m     subiterloss\u001b[39m+\u001b[39m\u001b[39m=\u001b[39mglobal_loss\n\u001b[0;32m     <a href='vscode-notebook-cell:/c%3A/Users/14532/Desktop/Project/Cubic/BFPS-1rank.ipynb#X25sZmlsZQ%3D%3D?line=16'>17</a>\u001b[0m     adam_global_optimizer\u001b[39m.\u001b[39mzero_grad()\n",
      "\u001b[1;32mc:\\Users\\14532\\Desktop\\Project\\Cubic\\BFPS-1rank.ipynb 单元格 20\u001b[0m line \u001b[0;36m2\n\u001b[0;32m     <a href='vscode-notebook-cell:/c%3A/Users/14532/Desktop/Project/Cubic/BFPS-1rank.ipynb#X25sZmlsZQ%3D%3D?line=18'>19</a>\u001b[0m \u001b[39mfor\u001b[39;00m i \u001b[39min\u001b[39;00m \u001b[39mrange\u001b[39m(steps):\n\u001b[0;32m     <a href='vscode-notebook-cell:/c%3A/Users/14532/Desktop/Project/Cubic/BFPS-1rank.ipynb#X25sZmlsZQ%3D%3D?line=19'>20</a>\u001b[0m     g_pre\u001b[39m=\u001b[39mg\u001b[39m.\u001b[39mclone()\u001b[39m# 保存g作为上一次的g，此时g_pre不在计算图中\u001b[39;00m\n\u001b[1;32m---> <a href='vscode-notebook-cell:/c%3A/Users/14532/Desktop/Project/Cubic/BFPS-1rank.ipynb#X25sZmlsZQ%3D%3D?line=20'>21</a>\u001b[0m     alpha\u001b[39m=\u001b[39mstrong_wolfe(W,Y,batchsize,f, x, d, loss, g, c1\u001b[39m=\u001b[39;49m\u001b[39m1e-4\u001b[39;49m, c2\u001b[39m=\u001b[39;49m\u001b[39m0.9\u001b[39;49m, max_iter\u001b[39m=\u001b[39;49m\u001b[39m10\u001b[39;49m,device\u001b[39m=\u001b[39;49mdevice)\n\u001b[0;32m     <a href='vscode-notebook-cell:/c%3A/Users/14532/Desktop/Project/Cubic/BFPS-1rank.ipynb#X25sZmlsZQ%3D%3D?line=21'>22</a>\u001b[0m     alpha\u001b[39m.\u001b[39mdetach_()\n\u001b[0;32m     <a href='vscode-notebook-cell:/c%3A/Users/14532/Desktop/Project/Cubic/BFPS-1rank.ipynb#X25sZmlsZQ%3D%3D?line=22'>23</a>\u001b[0m     update\u001b[39m=\u001b[39malpha\u001b[39m*\u001b[39md\u001b[39m.\u001b[39msqueeze()\n",
      "File \u001b[1;32mc:\\Users\\14532\\Desktop\\Project\\Cubic\\opti_utils.py:53\u001b[0m, in \u001b[0;36mstrong_wolfe\u001b[1;34m(W, Y, batchsize, f, x, step_dir, loss, grad, device, c1, c2, max_iter)\u001b[0m\n\u001b[0;32m     50\u001b[0m \u001b[39m#print(step_dir.shape)\u001b[39;00m\n\u001b[0;32m     51\u001b[0m \u001b[39m#step_dir=step_dir.unsqueeze(2)\u001b[39;00m\n\u001b[0;32m     52\u001b[0m \u001b[39mfor\u001b[39;00m i \u001b[39min\u001b[39;00m \u001b[39mrange\u001b[39m(max_iter):\n\u001b[1;32m---> 53\u001b[0m     new_loss \u001b[39m=\u001b[39m f(W,Y,x \u001b[39m+\u001b[39;49m step_size \u001b[39m*\u001b[39;49m step_dir\u001b[39m.\u001b[39;49msqueeze())\n\u001b[0;32m     55\u001b[0m     armijo_condition \u001b[39m=\u001b[39m new_loss \u001b[39m>\u001b[39m loss \u001b[39m+\u001b[39m c1 \u001b[39m*\u001b[39m step_size\u001b[39m.\u001b[39msqueeze() \u001b[39m*\u001b[39m torch\u001b[39m.\u001b[39mmatmul(grad, step_dir)\u001b[39m.\u001b[39msqueeze()\n\u001b[0;32m     56\u001b[0m     \u001b[39m#print(armijo_condition.shape)\u001b[39;00m\n",
      "\u001b[1;31mKeyboardInterrupt\u001b[0m: "
     ]
    }
   ],
   "source": [
    "global_training(2000,4,100,LSTM_motify)"
   ]
  },
  {
   "cell_type": "code",
   "execution_count": 17,
   "id": "a693c83c-38d9-46a6-9710-715191ede294",
   "metadata": {},
   "outputs": [],
   "source": [
    "# W = torch.randn((batchsize, DIM, DIM), device=device) # represents IID\n",
    "# Y = torch.randn((batchsize,DIM),device=device)\n",
    "# x = torch.zeros((batchsize,DIM),device=device,requires_grad=True)\n",
    "\n",
    "# state=None#初始化LSTM hidden state\n",
    "# H=torch.eye(DIM, device=x.device, dtype=x.dtype,requires_grad=True).unsqueeze(0).expand(batchsize, -1, -1)\n",
    "# steps=20\n",
    "# mem_loss=[]#初始化loss的list\n",
    "# loss=f(W,Y,x)#每个case的loss\n",
    "# global_loss_graph = 0#记录每个迭代的总loss 用于后向传播\n",
    "# lossmean=loss.mean()#总loss的平均值\n",
    "\n",
    "# global_loss_graph+=lossmean\n",
    "# mem_loss.append(lossmean.clone().detach())\n",
    "\n",
    "# lossmean.backward(retain_graph=True)\n",
    "# g = x.grad.clone()#g detach掉\n",
    "# d=-torch.matmul(H,g.unsqueeze(2))\n",
    "# k=0\n",
    "# #print(loss)\n",
    "# for i in range(steps):\n",
    "#     g_pre=g.clone()# 保存g作为上一次的g，此时g_pre不在计算图中\n",
    "#     # alpha=strong_wolfe(W,Y,batchsize,f, x, d, loss, g, c1=1e-4, c2=0.9, max_iter=10,device=device)\n",
    "#     # alpha.detach_()\n",
    "#     # update=alpha*d.squeeze()\n",
    "#     update=d.squeeze()\n",
    "#     x=x+update\n",
    "#     x.retain_grad()\n",
    "#     loss=f(W,Y,x)\n",
    "#     lossmean=loss.mean()\n",
    "#     global_loss_graph+=lossmean\n",
    "#     mem_loss.append(lossmean.clone().detach())\n",
    "#     #print(mem_loss[0])\n",
    "#     lossmean.backward(retain_graph=True)\n",
    "#     print([i.grad for i in LSTM_motify.parameters()])\n",
    "#     #print(g)\n",
    "#     g = x.grad.clone()\n",
    "#     #print(torch.norm(g,dim=1).mean())\n",
    "#     if(sum(torch.norm(g,dim=1)<acc)>0):\n",
    "#         break\n",
    "#     #print(B.H)\n",
    "#     input_vec=torch.cat((g,update),dim=1).unsqueeze(0)\n",
    "#     #print(input_vec.is_leaf)\n",
    "#     motify,state=LSTM_motify(input_vec,state)\n",
    "#     H = H.clone() + motify.reshape((batchsize, DIM, DIM))\n",
    "#     H.retain_grad()\n",
    "#     d=-torch.matmul(H,g.unsqueeze(2))\n",
    "#     k+=1\n",
    "# plt.plot([i.cpu().detach().numpy() for i in mem_loss],label='LSTM_before_train')"
   ]
  },
  {
   "cell_type": "code",
   "execution_count": 25,
   "id": "994c1222-8b14-4cd7-9604-e560558cf8a8",
   "metadata": {},
   "outputs": [
    {
     "ename": "IndexError",
     "evalue": "The shape of the mask [128] at index 0 does not match the shape of the indexed tensor [1, 1] at index 0",
     "output_type": "error",
     "traceback": [
      "\u001b[1;31m---------------------------------------------------------------------------\u001b[0m",
      "\u001b[1;31mIndexError\u001b[0m                                Traceback (most recent call last)",
      "\u001b[1;32mc:\\Users\\14532\\Desktop\\Project\\Cubic\\BFPS-1rank.ipynb 单元格 22\u001b[0m line \u001b[0;36m1\n\u001b[0;32m     <a href='vscode-notebook-cell:/c%3A/Users/14532/Desktop/Project/Cubic/BFPS-1rank.ipynb#X30sZmlsZQ%3D%3D?line=14'>15</a>\u001b[0m \u001b[39mfor\u001b[39;00m i \u001b[39min\u001b[39;00m \u001b[39mrange\u001b[39m(steps):\n\u001b[0;32m     <a href='vscode-notebook-cell:/c%3A/Users/14532/Desktop/Project/Cubic/BFPS-1rank.ipynb#X30sZmlsZQ%3D%3D?line=15'>16</a>\u001b[0m     g_pre\u001b[39m=\u001b[39mg\n\u001b[1;32m---> <a href='vscode-notebook-cell:/c%3A/Users/14532/Desktop/Project/Cubic/BFPS-1rank.ipynb#X30sZmlsZQ%3D%3D?line=16'>17</a>\u001b[0m     alpha\u001b[39m=\u001b[39mstrong_wolfe(W,Y,batchsize,f, x, d, loss, g, c1\u001b[39m=\u001b[39;49m\u001b[39m1e-4\u001b[39;49m, c2\u001b[39m=\u001b[39;49m\u001b[39m0.9\u001b[39;49m, max_iter\u001b[39m=\u001b[39;49m\u001b[39m10\u001b[39;49m,device\u001b[39m=\u001b[39;49mdevice)\n\u001b[0;32m     <a href='vscode-notebook-cell:/c%3A/Users/14532/Desktop/Project/Cubic/BFPS-1rank.ipynb#X30sZmlsZQ%3D%3D?line=17'>18</a>\u001b[0m     update\u001b[39m=\u001b[39malpha\u001b[39m*\u001b[39m(d\u001b[39m.\u001b[39msqueeze())\n\u001b[0;32m     <a href='vscode-notebook-cell:/c%3A/Users/14532/Desktop/Project/Cubic/BFPS-1rank.ipynb#X30sZmlsZQ%3D%3D?line=18'>19</a>\u001b[0m     x\u001b[39m=\u001b[39mx\u001b[39m+\u001b[39mupdate\n",
      "File \u001b[1;32mc:\\Users\\14532\\Desktop\\Project\\Cubic\\opti_utils.py:63\u001b[0m, in \u001b[0;36mstrong_wolfe\u001b[1;34m(W, Y, batchsize, f, x, step_dir, loss, grad, device, c1, c2, max_iter)\u001b[0m\n\u001b[0;32m     61\u001b[0m     \u001b[39mreturn\u001b[39;00m step_size\n\u001b[0;32m     62\u001b[0m \u001b[39melif\u001b[39;00m torch\u001b[39m.\u001b[39msum(armijo_condition)\u001b[39m>\u001b[39m\u001b[39m0\u001b[39m:\n\u001b[1;32m---> 63\u001b[0m     step_size[armijo_condition] \u001b[39m*\u001b[39m\u001b[39m=\u001b[39m \u001b[39m0.5\u001b[39m  \u001b[39m# Reduce step size by half\u001b[39;00m\n\u001b[0;32m     64\u001b[0m \u001b[39melif\u001b[39;00m torch\u001b[39m.\u001b[39msum(curvature_condition)\u001b[39m>\u001b[39m\u001b[39m0\u001b[39m:\n\u001b[0;32m     65\u001b[0m     step_size[curvature_condition] \u001b[39m*\u001b[39m\u001b[39m=\u001b[39m \u001b[39m2.0\u001b[39m  \u001b[39m# Double step size\u001b[39;00m\n",
      "\u001b[1;31mIndexError\u001b[0m: The shape of the mask [128] at index 0 does not match the shape of the indexed tensor [1, 1] at index 0"
     ]
    }
   ],
   "source": [
    "W = torch.randn((batchsize, DIM, DIM), device=device) # represents IID\n",
    "Y = torch.randn((batchsize,DIM),device=device)\n",
    "x = torch.zeros((batchsize,DIM),device=device,requires_grad=True)\n",
    "steps=40\n",
    "state=None\n",
    "H=BFGS(batchsize,DIM,device,x).I\n",
    "mem_loss=[]\n",
    "loss=f(W,Y,x)\n",
    "acc=1e-6\n",
    "mem_loss.append(loss.mean())\n",
    "g=torch.autograd.grad(loss.mean(),x)[0]\n",
    "d=-torch.matmul(B.H,g.unsqueeze(2))\n",
    "k=0\n",
    "#print(loss)\n",
    "for i in range(steps):\n",
    "    g_pre=g\n",
    "    alpha=strong_wolfe(W,Y,batchsize,f, x, d, loss, g, c1=1e-4, c2=0.9, max_iter=10,device=device)\n",
    "    update=alpha*(d.squeeze())\n",
    "    x=x+update\n",
    "    loss=f(W,Y,x)\n",
    "    mem_loss.append(loss.mean())\n",
    "    g=torch.autograd.grad(loss.mean(),x)[0]\n",
    "    #print(torch.norm(g,dim=1).mean())\n",
    "    if(sum(torch.norm(g,dim=1)<acc)>0):\n",
    "        break\n",
    "    d=-torch.matmul(H,g.unsqueeze(2))\n",
    "    #print(B.H)\n",
    "    input_vec=torch.cat((g,update),dim=1).unsqueeze(0)\n",
    "    motify,state=LSTM_motify(input_vec,state)\n",
    "    delta_H=motify.reshape((batchsize, DIM, DIM))\n",
    "    H = H.clone().detach() + 1/2*(delta_H+delta_H.transpose(-2,-1))\n",
    "    k+=1\n",
    "    \n",
    "print(k)    \n",
    "plt.plot([i.cpu().detach().numpy() for i in mem_loss],label='LSTM_before_train')  \n",
    "x = torch.zeros((batchsize,DIM),device=device,requires_grad=True)\n",
    "steps=40\n",
    "B=BFGS(batchsize,DIM,device)\n",
    "mem_loss=[]\n",
    "loss=f(W,Y,x)\n",
    "acc=1e-6\n",
    "mem_loss.append(loss.mean())\n",
    "g=torch.autograd.grad(loss.mean(),x)[0]\n",
    "d=-torch.matmul(B.H,g.unsqueeze(2))\n",
    "k=0\n",
    "#print(loss)\n",
    "for i in range(steps):\n",
    "    g_pre=g\n",
    "    alpha=strong_wolfe(W,Y,batchsize,f, x, d, loss, g, c1=1e-4, c2=0.9, max_iter=10,device=device)\n",
    "    update=alpha*(d.squeeze())\n",
    "    x=x+update\n",
    "    loss=f(W,Y,x)\n",
    "    mem_loss.append(loss.mean())\n",
    "    g=torch.autograd.grad(loss.mean(),x)[0]\n",
    "    #print(torch.norm(g,dim=1).mean())\n",
    "    if(sum(torch.norm(g,dim=1)<acc)>0):\n",
    "        break\n",
    "    d=-torch.matmul(B.H,g.unsqueeze(2))\n",
    "    #print(B.H)\n",
    "    B.H_BFDS_update(update,g-g_pre)\n",
    "    k+=1\n",
    "    \n",
    "print(k)    \n",
    "plt.plot([i.cpu().detach().numpy() for i in mem_loss],label='BFGS')  \n",
    "plt.legend()\n",
    "\n",
    "plt.show()"
   ]
  },
  {
   "cell_type": "code",
   "execution_count": null,
   "id": "1371da30-dce6-4b04-a74f-3ecd75c228de",
   "metadata": {},
   "outputs": [],
   "source": []
  },
  {
   "cell_type": "code",
   "execution_count": null,
   "id": "e8dc6256",
   "metadata": {},
   "outputs": [],
   "source": []
  }
 ],
 "metadata": {
  "kernelspec": {
   "display_name": "pytor",
   "language": "python",
   "name": "python3"
  },
  "language_info": {
   "codemirror_mode": {
    "name": "ipython",
    "version": 3
   },
   "file_extension": ".py",
   "mimetype": "text/x-python",
   "name": "python",
   "nbconvert_exporter": "python",
   "pygments_lexer": "ipython3",
   "version": "3.9.18"
  }
 },
 "nbformat": 4,
 "nbformat_minor": 5
}
