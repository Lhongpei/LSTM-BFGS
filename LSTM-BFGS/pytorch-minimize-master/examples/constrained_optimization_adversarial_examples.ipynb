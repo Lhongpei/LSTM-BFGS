{
 "cells": [
  {
   "cell_type": "code",
   "execution_count": 1,
   "id": "dried-niagara",
   "metadata": {},
   "outputs": [],
   "source": [
    "%matplotlib inline\n",
    "import matplotlib.pylab as plt\n",
    "import torch\n",
    "import torch.nn as nn\n",
    "import torch.nn.functional as F\n",
    "import torch.optim as optim\n",
    "from torch.utils.data import DataLoader\n",
    "from torchvision import transforms, datasets\n",
    "\n",
    "from torchmin import minimize_constr"
   ]
  },
  {
   "cell_type": "code",
   "execution_count": 2,
   "id": "whole-fifty",
   "metadata": {},
   "outputs": [],
   "source": [
    "device = torch.device('cuda:0')\n",
    "\n",
    "root = '/path/to/data'  # fill in torchvision dataset path\n",
    "train_data = datasets.MNIST(root, train=True, transform=transforms.ToTensor())\n",
    "train_loader = DataLoader(train_data, batch_size=128, shuffle=True)"
   ]
  },
  {
   "cell_type": "markdown",
   "id": "closed-interview",
   "metadata": {},
   "source": [
    "# Train CNN classifier"
   ]
  },
  {
   "cell_type": "code",
   "execution_count": 3,
   "id": "following-knowing",
   "metadata": {},
   "outputs": [],
   "source": [
    "def CNN():\n",
    "    return nn.Sequential(\n",
    "        nn.Conv2d(1, 10, kernel_size=5),\n",
    "        nn.SiLU(),\n",
    "        nn.AvgPool2d(2),\n",
    "        nn.Conv2d(10, 20, kernel_size=5),\n",
    "        nn.SiLU(),\n",
    "        nn.AvgPool2d(2),\n",
    "        nn.Dropout(0.2),\n",
    "        nn.Flatten(1),\n",
    "        nn.Linear(320, 50),\n",
    "        nn.Dropout(0.2),\n",
    "        nn.Linear(50, 10),\n",
    "        nn.LogSoftmax(1)\n",
    "    )"
   ]
  },
  {
   "cell_type": "code",
   "execution_count": 4,
   "id": "accessory-killer",
   "metadata": {},
   "outputs": [
    {
     "name": "stdout",
     "output_type": "stream",
     "text": [
      "epoch  1 - loss: 0.4923\n",
      "epoch  2 - loss: 0.1428\n",
      "epoch  3 - loss: 0.1048\n",
      "epoch  4 - loss: 0.0883\n",
      "epoch  5 - loss: 0.0754\n",
      "epoch  6 - loss: 0.0672\n",
      "epoch  7 - loss: 0.0626\n",
      "epoch  8 - loss: 0.0578\n",
      "epoch  9 - loss: 0.0524\n",
      "epoch 10 - loss: 0.0509\n"
     ]
    }
   ],
   "source": [
    "torch.manual_seed(382)\n",
    "net = CNN().to(device)\n",
    "optimizer = optim.Adam(net.parameters())\n",
    "for epoch in range(10):\n",
    "    epoch_loss = 0\n",
    "    for (x, y) in train_loader:\n",
    "        x = x.to(device, non_blocking=True)\n",
    "        y = y.to(device, non_blocking=True)\n",
    "        logits = net(x)\n",
    "        loss = F.nll_loss(logits, y)\n",
    "        optimizer.zero_grad(set_to_none=True)\n",
    "        loss.backward()\n",
    "        optimizer.step()\n",
    "        epoch_loss += loss.item() * x.size(0)\n",
    "    print('epoch %2d - loss: %0.4f' % (epoch+1, epoch_loss / len(train_data)))"
   ]
  },
  {
   "cell_type": "markdown",
   "id": "therapeutic-elimination",
   "metadata": {},
   "source": [
    "# set up adversarial example environment"
   ]
  },
  {
   "cell_type": "code",
   "execution_count": 6,
   "id": "developing-afghanistan",
   "metadata": {},
   "outputs": [],
   "source": [
    "# evaluation mode settings\n",
    "net = net.requires_grad_(False).eval()\n",
    "\n",
    "# move net to CPU\n",
    "# Note: using CUDA-based inputs and objectives is allowed\n",
    "# but inefficient with trust-constr, as the data will be\n",
    "# moved back-and-forth from CPU\n",
    "net = net.cpu()"
   ]
  },
  {
   "cell_type": "code",
   "execution_count": 7,
   "id": "mighty-realtor",
   "metadata": {},
   "outputs": [],
   "source": [
    "def nll_objective(x, y):\n",
    "    assert x.numel() == 28**2\n",
    "    assert y.numel() == 1\n",
    "    x = x.view(1, 1, 28, 28)\n",
    "    return F.nll_loss(net(x), y.view(1))"
   ]
  },
  {
   "cell_type": "code",
   "execution_count": 8,
   "id": "better-nerve",
   "metadata": {},
   "outputs": [],
   "source": [
    "# select a random image from the dataset\n",
    "torch.manual_seed(338)\n",
    "x, y = next(iter(train_loader))\n",
    "img = x[0]\n",
    "label = y[0]"
   ]
  },
  {
   "cell_type": "code",
   "execution_count": 9,
   "id": "presidential-astrology",
   "metadata": {},
   "outputs": [
    {
     "data": {
      "text/plain": [
       "tensor(1.4663e-05)"
      ]
     },
     "execution_count": 9,
     "metadata": {},
     "output_type": "execute_result"
    }
   ],
   "source": [
    "nll_objective(img, label)"
   ]
  },
  {
   "cell_type": "code",
   "execution_count": 10,
   "id": "independent-slovenia",
   "metadata": {},
   "outputs": [],
   "source": [
    "# minimization objective for adversarial examples\n",
    "#   goal is to maximize NLL of perturbed image (image + perturbation)\n",
    "fn = lambda eps: - nll_objective(img + eps, label)"
   ]
  },
  {
   "cell_type": "code",
   "execution_count": 18,
   "id": "bacterial-champagne",
   "metadata": {},
   "outputs": [],
   "source": [
    "# plotting utility\n",
    "\n",
    "def plot_distortion(img, eps, y):\n",
    "    assert img.numel() == 28**2\n",
    "    assert eps.numel() == 28**2\n",
    "    img = img.view(28, 28)\n",
    "    img_ = img + eps.view(28, 28)\n",
    "    fig, axes = plt.subplots(1,2,figsize=(4,2))\n",
    "    for i, x in enumerate((img, img_)):\n",
    "        axes[i].imshow(x.cpu(), cmap=plt.cm.binary)\n",
    "        axes[i].set_xticks([])\n",
    "        axes[i].set_yticks([])\n",
    "        axes[i].set_title('nll: %0.4f' % nll_objective(x, y))\n",
    "    plt.show()"
   ]
  },
  {
   "cell_type": "markdown",
   "id": "ambient-thread",
   "metadata": {},
   "source": [
    "# craft adversarial example\n",
    "\n",
    "We will use our constrained optimizer to find the optimal unit-norm purturbation $\\epsilon$ \n",
    "\n",
    "\\begin{equation}\n",
    "\\max_{\\epsilon} NLL(x + \\epsilon) \\quad \\text{s.t.} \\quad ||\\epsilon|| = 1\n",
    "\\end{equation}"
   ]
  },
  {
   "cell_type": "code",
   "execution_count": 13,
   "id": "surprised-symposium",
   "metadata": {},
   "outputs": [],
   "source": [
    "torch.manual_seed(227)\n",
    "eps0 = torch.randn_like(img)\n",
    "eps0 /= eps0.norm()"
   ]
  },
  {
   "cell_type": "code",
   "execution_count": 14,
   "id": "missing-bargain",
   "metadata": {},
   "outputs": [
    {
     "data": {
      "text/plain": [
       "-2.2291887944447808e-05"
      ]
     },
     "execution_count": 14,
     "metadata": {},
     "output_type": "execute_result"
    }
   ],
   "source": [
    "fn(eps0).item()"
   ]
  },
  {
   "cell_type": "code",
   "execution_count": 15,
   "id": "miniature-fight",
   "metadata": {
    "scrolled": true
   },
   "outputs": [
    {
     "name": "stdout",
     "output_type": "stream",
     "text": [
      "`xtol` termination condition is satisfied.\n",
      "Number of iterations: 32, function evaluations: 50, CG iterations: 52, optimality: 1.02e-04, constraint violation: 0.00e+00, execution time: 0.57 s.\n"
     ]
    }
   ],
   "source": [
    "res = minimize_constr(\n",
    "    fn, eps0, \n",
    "    max_iter=100,\n",
    "    constr=dict(\n",
    "        fun=lambda x: x.square().sum(), \n",
    "        lb=1, ub=1\n",
    "    ),\n",
    "    disp=1\n",
    ")"
   ]
  },
  {
   "cell_type": "code",
   "execution_count": 16,
   "id": "wanted-journal",
   "metadata": {},
   "outputs": [
    {
     "name": "stdout",
     "output_type": "stream",
     "text": [
      "tensor(1.)\n"
     ]
    }
   ],
   "source": [
    "eps = res.x\n",
    "print(eps.norm())"
   ]
  },
  {
   "cell_type": "code",
   "execution_count": 19,
   "id": "spanish-wright",
   "metadata": {
    "scrolled": true
   },
   "outputs": [
    {
     "data": {
      "image/png": "[encoded data removed]",
      "text/plain": [
       "<Figure size 288x144 with 2 Axes>"
      ]
     },
     "metadata": {},
     "output_type": "display_data"
    }
   ],
   "source": [
    "plot_distortion(img.detach(), eps, label)"
   ]
  },
  {
   "cell_type": "code",
   "execution_count": null,
   "id": "varying-commission",
   "metadata": {},
   "outputs": [],
   "source": []
  }
 ],
 "metadata": {
  "kernelspec": {
   "display_name": "Python 3",
   "language": "python",
   "name": "python3"
  },
  "language_info": {
   "codemirror_mode": {
    "name": "ipython",
    "version": 3
   },
   "file_extension": ".py",
   "mimetype": "text/x-python",
   "name": "python",
   "nbconvert_exporter": "python",
   "pygments_lexer": "ipython3",
   "version": "3.8.8"
  }
 },
 "nbformat": 4,
 "nbformat_minor": 5
}