{
 "cells": [
  {
   "cell_type": "code",
   "execution_count": 1,
   "id": "4e83253a-9c51-45af-8693-03b614cbb00d",
   "metadata": {
    "tags": []
   },
   "outputs": [],
   "source": [
    "import torch\n",
    "from torch import nn\n",
    "from torch.utils.data import DataLoader\n",
    "from torchvision import datasets\n",
    "import torchvision.transforms as transforms\n",
    "from torchvision.transforms import ToTensor\n",
    "from torch.nn import Parameter\n",
    "from enum import IntEnum\n",
    "import os\n",
    "import numpy as np\n",
    "m=500\n",
    "n=100\n",
    "lam=0.1\n",
    "target_size=(10,10)\n",
    "tot_dataimg_size=40000\n",
    "batch=100\n",
    "batchsize=64\n",
    "epoch=50"
   ]
  },
  {
   "cell_type": "markdown",
   "id": "42fac28a-ca75-413f-8979-c21486469783",
   "metadata": {},
   "source": [
    "## Load Data and process "
   ]
  },
  {
   "cell_type": "code",
   "execution_count": 4,
   "id": "1f37c073-7483-47b6-919e-c3dd57bb5564",
   "metadata": {
    "tags": []
   },
   "outputs": [],
   "source": [
    "training_data = datasets.EMNIST(\n",
    "    root=\"data\",\n",
    "    train=True,\n",
    "    download=True,\n",
    "    split='byclass',\n",
    "    transform = transforms.Compose([\n",
    "    transforms.Resize(target_size),  # 调整大小\n",
    "    transforms.ToTensor()  # 转换为PyTorch张量\n",
    "])\n",
    ")\n",
    "\n",
    "test_data = datasets.EMNIST(\n",
    "    root=\"data\",\n",
    "    train=False,\n",
    "    download=True,\n",
    "    split='byclass',\n",
    "    transform = transforms.Compose([\n",
    "    transforms.Resize(target_size),  # 调整大小\n",
    "    transforms.ToTensor()  # 转换为PyTorch张量\n",
    "])\n",
    ")"
   ]
  },
  {
   "cell_type": "code",
   "execution_count": 5,
   "id": "0d60f009-8f91-4670-a280-d57d67b2b1c3",
   "metadata": {
    "tags": []
   },
   "outputs": [
    {
     "data": {
      "text/plain": [
       "62"
      ]
     },
     "execution_count": 5,
     "metadata": {},
     "output_type": "execute_result"
    }
   ],
   "source": [
    "num_class=len(training_data.classes)\n",
    "num_class"
   ]
  },
  {
   "cell_type": "code",
   "execution_count": 3,
   "id": "34367711-d903-43f8-b206-6cfc57662de8",
   "metadata": {
    "tags": []
   },
   "outputs": [
    {
     "data": {
      "image/png": "[encoded data removed]",
      "text/plain": [
       "<Figure size 800x800 with 9 Axes>"
      ]
     },
     "metadata": {},
     "output_type": "display_data"
    }
   ],
   "source": [
    "import matplotlib\n",
    "from matplotlib import pyplot as plt\n",
    "figure = plt.figure(figsize=(8, 8))\n",
    "cols, rows = 3, 3\n",
    "for i in range(1, cols * rows + 1):\n",
    "    sample_idx = torch.randint(len(training_data), size=(1,)).item()\n",
    "    img, label = training_data[sample_idx]\n",
    "    figure.add_subplot(rows, cols, i)\n",
    "    plt.title(label)\n",
    "    plt.axis(\"off\")\n",
    "    plt.imshow(img.squeeze(), cmap=\"gray\")\n",
    "plt.show()"
   ]
  },
  {
   "cell_type": "markdown",
   "id": "2730b481-a5fa-419e-ae8c-faf81b99a225",
   "metadata": {},
   "source": [
    "## form balanced_class training set"
   ]
  },
  {
   "cell_type": "code",
   "execution_count": 24,
   "id": "9fe7c218-1cb5-4f7b-9b55-d372b221354a",
   "metadata": {
    "tags": []
   },
   "outputs": [],
   "source": [
    "path_base='data'\n",
    "if not os.path.exists(path_base):\n",
    "    print('No data')\n",
    "for num,i in enumerate(training_data):\n",
    "    path=os.path.join(path_base,str(i[1]))\n",
    "    if not os.path.exists(path):\n",
    "        os.mkdir(path)\n",
    "    torch.save(i[0],os.path.join(path, str(num)))\n",
    "   # if os.path.exists(path)"
   ]
  },
  {
   "cell_type": "code",
   "execution_count": 5,
   "id": "1c522ff4-d2cb-4351-95e7-950e355a2db9",
   "metadata": {
    "tags": []
   },
   "outputs": [],
   "source": [
    "from sklearn.utils import resample"
   ]
  },
  {
   "cell_type": "code",
   "execution_count": null,
   "id": "396a4a52-04a2-44b0-8eaa-301cc0d5d998",
   "metadata": {
    "tags": []
   },
   "outputs": [],
   "source": [
    "num_samples_to_generate=batch*batchsize*epoch"
   ]
  },
  {
   "cell_type": "code",
   "execution_count": 27,
   "id": "1539865b-946c-40b1-9028-a0ad943220ef",
   "metadata": {
    "tags": []
   },
   "outputs": [],
   "source": [
    "numforclass=int(np.ceil(tot_dataimg_size/num_class))\n",
    "path_base='data'\n",
    "path_baseb='data_balanced'\n",
    "if not os.path.exists(path_baseb):\n",
    "    os.mkdir(path_baseb)\n",
    "if not os.path.exists(path_base):\n",
    "    print('No data')\n",
    "for i in range(num_class):\n",
    "    path=os.path.join(path_base,str(i))\n",
    "    pathn=os.path.join(path_baseb,str(i))\n",
    "    if not os.path.exists(pathn):\n",
    "        os.mkdir(pathn)\n",
    "    rebalence=resample(os.listdir(path),n_samples=numforclass)\n",
    "    for j in rebalence:\n",
    "        tmp=torch.load(os.path.join(path,j))\n",
    "        torch.save(tmp,os.path.join(pathn,j))\n",
    "   # if os.path.exists(path)"
   ]
  },
  {
   "cell_type": "code",
   "execution_count": 107,
   "id": "5870d798-8fb6-4fe0-82b1-e0b709149493",
   "metadata": {
    "tags": []
   },
   "outputs": [
    {
     "name": "stdout",
     "output_type": "stream",
     "text": [
      "torch.Size([1, 10, 10])\n"
     ]
    }
   ],
   "source": [
    "sample_idx = torch.randint(len(training_data), size=(1,)).item()\n",
    "img, label = training_data[sample_idx]\n",
    "print(img.size())"
   ]
  },
  {
   "cell_type": "code",
   "execution_count": 14,
   "id": "c94eb0dc-881d-494f-926a-9fa40d9f6e7a",
   "metadata": {
    "tags": []
   },
   "outputs": [
    {
     "data": {
      "text/plain": [
       "116323"
      ]
     },
     "execution_count": 14,
     "metadata": {},
     "output_type": "execute_result"
    }
   ],
   "source": [
    "len(test_data.train_labels)"
   ]
  },
  {
   "cell_type": "code",
   "execution_count": 8,
   "id": "0cffc68e-6c4b-4674-bc19-3963f54c1a45",
   "metadata": {
    "tags": []
   },
   "outputs": [],
   "source": [
    "from torch.utils.data import SubsetRandomSampler\n",
    "from torch.utils.data import DataLoader\n",
    "\n",
    "train_dataloader = DataLoader(training_data, batch_size=64, shuffle=True)\n",
    "test_dataloader = DataLoader(test_data, batch_size=64, shuffle=True)"
   ]
  },
  {
   "cell_type": "code",
   "execution_count": 7,
   "id": "ec698309-cbf3-482c-b0cd-f317b3ac9894",
   "metadata": {},
   "outputs": [
    {
     "name": "stdout",
     "output_type": "stream",
     "text": [
      "Feature batch shape: torch.Size([64, 1, 10, 10])\n",
      "Labels batch shape: torch.Size([64])\n"
     ]
    },
    {
     "data": {
      "image/png": "[encoded data removed]",
      "text/plain": [
       "<Figure size 640x480 with 1 Axes>"
      ]
     },
     "metadata": {},
     "output_type": "display_data"
    },
    {
     "name": "stdout",
     "output_type": "stream",
     "text": [
      "Label: 0\n"
     ]
    }
   ],
   "source": [
    "# Display image and label.\n",
    "train_features, train_labels = next(iter(train_dataloader))\n",
    "print(f\"Feature batch shape: {train_features.size()}\")\n",
    "print(f\"Labels batch shape: {train_labels.size()}\")\n",
    "img = train_features[0].squeeze()\n",
    "label = train_labels[0]\n",
    "plt.imshow(img, cmap=\"gray\")\n",
    "plt.show()\n",
    "print(f\"Label: {label}\")"
   ]
  },
  {
   "cell_type": "markdown",
   "id": "8c8a5cc9-10f1-4424-9e25-2cf5a40df252",
   "metadata": {},
   "source": [
    "## Define BFGS ans SR1 "
   ]
  },
  {
   "cell_type": "code",
   "execution_count": 76,
   "id": "64ca02bf-0337-46bf-b787-22caf57d427a",
   "metadata": {
    "tags": []
   },
   "outputs": [],
   "source": [
    "def H_BFGS(H,x,x_past,size):\n",
    "\n",
    "    x_del = x - x_past\n",
    "    s = x_del[:size//2]\n",
    "    y = x_del[size//2:]\n",
    "\n",
    "    sty=torch.matmul(s,y.t())\n",
    "    syt=torch.matmul(s.t(),y)\n",
    "    yst=torch.matmul(y.t(),s)\n",
    "    sst=torch.matmul(s.t(),)\n",
    "\n",
    "    H_bfgs =  H-(torch.matmul(syt,H)+torch.matmul(H,yst)+(torch.matmul(y,torch.matmul(H,y.t()))/yts+1)*sst)/yts\n",
    "\n",
    "    return H_bfgs\n",
    "\n",
    "def H_SR1(H,x,x_past,size):\n",
    "\n",
    "    x_del = x - x_past\n",
    "    s = x_del[:size//2]\n",
    "    y = x_del[size//2:]\n",
    "    Hy_s = torch.matmul(H,y.t())-s.t()\n",
    "\n",
    "    H_sr1 =  H-torch.matmul(Hy_s,Hy_s.t())/torch.matmul(Hy_s.t(),y.t())\n",
    "\n",
    "    return H_sr1"
   ]
  },
  {
   "cell_type": "markdown",
   "id": "13172599-4707-4147-98b5-46fad1527c37",
   "metadata": {},
   "source": [
    "## define objective function"
   ]
  },
  {
   "cell_type": "code",
   "execution_count": null,
   "id": "861a0c1f-563c-4af8-80d7-bab23c19d752",
   "metadata": {},
   "outputs": [],
   "source": [
    "class LSTM_Relat(nn.Module):\n",
    "    \"\"\"\n",
    "    自己构造的LSTM\n",
    "    等价于nn.LSTM中batch_first=True的效果\n",
    "    \"\"\"\n",
    "    def __init__(self, input_size, hidden_size,unfold_size,A,b):\n",
    "        super().__init__()\n",
    "        self.input_size = input_size\n",
    "        self.hidden_size = hidden_size\n",
    "        self.unfold_size=unfold_size\n",
    "        # train_parameter for tuta\n",
    "        self.tuta = Parameter(torch.Tensor(unfold_size))\n",
    "        # 输入门i_t\n",
    "        self.W_i = Parameter(torch.Tensor(input_size, hidden_size))\n",
    "        self.U_i = Parameter(torch.Tensor(hidden_size, hidden_size))\n",
    "        self.b_i = Parameter(torch.Tensor(hidden_size))\n",
    "        # 遗忘门f_t\n",
    "        self.W_f = Parameter(torch.Tensor(input_size, hidden_size))\n",
    "        self.U_f = Parameter(torch.Tensor(hidden_size, hidden_size))\n",
    "        self.b_f = Parameter(torch.Tensor(hidden_size))\n",
    "        # 候选内部状态g_t\n",
    "        self.W_g = Parameter(torch.Tensor(input_size, hidden_size))\n",
    "        self.U_g = Parameter(torch.Tensor(hidden_size, hidden_size))\n",
    "        self.b_g = Parameter(torch.Tensor(hidden_size))\n",
    "        # 输出门o_t\n",
    "        self.W_o = Parameter(torch.Tensor(input_size, hidden_size))\n",
    "        self.U_o = Parameter(torch.Tensor(hidden_size, hidden_size))\n",
    "        self.b_o = Parameter(torch.Tensor(hidden_size))\n",
    "        \n",
    "        # train_parameter for theta\n",
    "        self.theta = Parameter(torch.Tensor(unfold_size))\n",
    "        # 输入门i_t\n",
    "        self.Wt_i = Parameter(torch.Tensor(input_size, hidden_size))\n",
    "        self.Ut_i = Parameter(torch.Tensor(hidden_size, hidden_size))\n",
    "        self.bt_i = Parameter(torch.Tensor(hidden_size))\n",
    "        # 遗忘门f_t\n",
    "        self.Wt_f = Parameter(torch.Tensor(input_size, hidden_size))\n",
    "        self.Ut_f = Parameter(torch.Tensor(hidden_size, hidden_size))\n",
    "        self.bt_f = Parameter(torch.Tensor(hidden_size))\n",
    "        # 候选内部状态g_t\n",
    "        self.Wt_g = Parameter(torch.Tensor(input_size, hidden_size))\n",
    "        self.Ut_g = Parameter(torch.Tensor(hidden_size, hidden_size))\n",
    "        self.bt_g = Parameter(torch.Tensor(hidden_size))\n",
    "        # 输出门o_t\n",
    "        self.Wt_o = Parameter(torch.Tensor(input_size, hidden_size))\n",
    "        self.Ut_o = Parameter(torch.Tensor(hidden_size, hidden_size))\n",
    "        self.bt_o = Parameter(torch.Tensor(hidden_size))\n",
    "\n",
    "        # 初始化参数\n",
    "        self._initialize_weights()\n",
    "\n",
    "    def _initialize_weights(self):\n",
    "        for p in self.parameters():\n",
    "            if p.data.ndimension() >= 2:\n",
    "                nn.init.xavier_uniform_(p.data)\n",
    "            else:\n",
    "                nn.init.zeros_(p.data)\n",
    "\n",
    "    def func():\n",
    "        #TODO initialize the function to finish LSTM\n",
    "    \n",
    "    \n",
    "    def _init_states(self, x):\n",
    "        h_t = torch.zeros(1, x.size(0), self.hidden_size, dtype=x.dtype).to(x.device)\n",
    "        c_t = torch.zeros(1, x.size(0), self.hidden_size, dtype=x.dtype).to(x.device)\n",
    "        return h_t, c_t\n",
    "\n",
    "    def forward(self, x, init_states=None):\n",
    "        \"\"\"\n",
    "        在这里我定义x的输入格式是(batch, sequence, feature)\n",
    "        \"\"\"\n",
    "        batch_size, n2 = x.size()\n",
    "        n=n2//2\n",
    "        hidden_seq_tuta = []\n",
    "        hidden_seq_theta=[]\n",
    "        x_recom = torch.zeros([batch_size,self.unfold_size,_])\n",
    "        H=torch.eye(n)\n",
    "        \n",
    "        # 状态初始化\n",
    "        if init_states is None:\n",
    "            h_t, c_t = self._init_states(x)\n",
    "        else:\n",
    "            h_t, c_t = init_states\n",
    "        x_t=x\n",
    "        # 按时间顺序迭代\n",
    "        for t in range(self.unfold_size):\n",
    "            if t > 0:\n",
    "                # 更新门组件及内部候选状态（Tips:Pytorch中@用于矩阵相乘，*用于逐个元素相乘）\n",
    "                # for tuta\n",
    "                i_t = torch.sigmoid(x_t @ self.W_i + self.b_i*h_t)\n",
    "                f_t = torch.sigmoid(x_t @ self.W_f + self.b_f*h_t)\n",
    "                g_t = torch.tanh(x_t @ self.W_g + self.b_g*h_t)\n",
    "                o_t = torch.sigmoid(x_t @ self.W_o + self.b_o*h_t)\n",
    "                # 记忆单元和隐藏单元更新\n",
    "                c_t = f_t * c_t + i_t * g_t\n",
    "                h_t = o_t * torch.tanh(c_t)\n",
    "                hidden_seq_tuta.append(h_t)\n",
    "                H1=H_BFGS(Hk,x_t,x_bef,n)\n",
    "                H2=H_SR1(Hk,x_t,x_bef,n)\n",
    "                Hk=h_t*H1+(1-h_t)*H2\n",
    "            \n",
    "            # for theta\n",
    "            it_t = torch.sigmoid(x_t @ self.Wt_i + self.bt_i*ht_t)\n",
    "            ft_t = torch.sigmoid(x_t @ self.Wt_f + self.b_f*ht_t)\n",
    "            gt_t = torch.tanh(x_t @ self.Wt_g + self.bt_g*ht_t)\n",
    "            ot_t = torch.sigmoid(x_t @ self.Wt_o + self.bt_o*ht_t)\n",
    "            # 记忆单元和隐藏单元更新\n",
    "            ct_t = ft_t * ct_t + it_t * gt_t\n",
    "            t = ot_t * torch.tanh(ct_t)\n",
    "            hidden_seq_theta.append(ht_t)\n",
    "            \n",
    "            p=-torch.matmul()\n",
    "            x_bef=x_t\n",
    "            x_t=\n",
    "            \n",
    "            \n",
    "        hidden_seq = torch.cat(hidden_seq, dim=Dim.batch)\n",
    "        hidden_seq = hidden_seq.transpose(Dim.batch, Dim.seq).contiguous()\n",
    "        return hidden_seq, (h_t, c_t)\n"
   ]
  }
 ],
 "metadata": {
  "kernelspec": {
   "display_name": "ipps",
   "language": "python",
   "name": "python3"
  },
  "language_info": {
   "codemirror_mode": {
    "name": "ipython",
    "version": 3
   },
   "file_extension": ".py",
   "mimetype": "text/x-python",
   "name": "python",
   "nbconvert_exporter": "python",
   "pygments_lexer": "ipython3",
   "version": "3.8.0"
  }
 },
 "nbformat": 4,
 "nbformat_minor": 5
}
